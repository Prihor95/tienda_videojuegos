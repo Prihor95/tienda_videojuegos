{
 "cells": [
  {
   "cell_type": "markdown",
   "metadata": {},
   "source": [
    "### DESCRIPCIÓN DEL PROYECTO\n",
    "\n",
    "Trabajas para la tienda online Ice que vende videojuegos por todo el mundo. Las reseñas de usuarios y expertos, los géneros, las plataformas (por ejemplo, Xbox o PlayStation) y los datos históricos sobre las ventas de juegos están disponibles en fuentes abiertas. Tienes que identificar patrones que determinen si un juego tiene éxito o no. Esto te permitirá detectar proyectos prometedores y planificar campañas publicitarias.\n",
    "\n",
    "Objetivo:\n",
    "\n",
    "- Establecer una base de datos para contar con información para planear una campaña para 2017.\n",
    "- Comprobar si existe relación entre las reseñas de usuarios en dos diferentes consolas PC y Xbox One.\n",
    "- Comprobar si existe relación entre las reseñas de usuarios y los generos Accion y deportes.\n",
    "\n",
    "Etapas de analisis\n",
    "\n",
    "1  DESCRIPCIÓN DEL PROYECTO.\n",
    "\n",
    "2  PREPARAR LOS DATOS.\n",
    "\n",
    "2.1  IMPORTACIÓN DE LIBRERIAS.\n",
    "\n",
    "2.2  CARGA DE DATOS.\n",
    "\n",
    "3  PREPARACIÓN DE DATOS.\n",
    "\n",
    "3.1  CORRECCIÓN DE DATOS.\n",
    "\n",
    "3.1.1  NOMBRE DE LAS COLUMNAS.\n",
    "\n",
    "3.1.2  VALORES NULOS.\n",
    "\n",
    "3.1.3  ENRIQUECER LOS DATOS.\n",
    "\n",
    "4  ANALISIS ESTADISTICO.\n",
    "\n",
    "4.1  EVOLUCIÓN DE LOS JUEGOS A TRAVÉS DEL TIEMPO.\n",
    "\n",
    "4.2  EVOLUCIÓN DE LAS VENTAS A TRAVÉS DEL TIEMPO.\n",
    "\n",
    "4.3  COMPORTAMIENTO DE LOS JUEGOS POR GENERO.\n",
    "5  PERFILES DE USARIO POR REGIÓN.\n",
    "6  PRUEBA DE HIPOTESIS\n",
    "6.1  HIPOTESIS #1\n",
    "6.2  HIPOTESIS #2\n",
    "7  CONCLUSIÓN GENERAL"
   ]
  },
  {
   "cell_type": "markdown",
   "metadata": {},
   "source": [
    "### PREPARAR LOS DATOS"
   ]
  },
  {
   "cell_type": "markdown",
   "metadata": {},
   "source": [
    "#### IMPORTACIÓN DE LIBRERIAS"
   ]
  },
  {
   "cell_type": "code",
   "execution_count": 1,
   "metadata": {
    "tags": [
     "e5c1f0c2-db9f-43a0-99b9-4875c52427e8"
    ]
   },
   "outputs": [],
   "source": [
    "#Sección para importar librerias\n",
    "import pandas as pd\n",
    "import numpy as np\n",
    "from matplotlib import pyplot as plt\n",
    "import seaborn as sns\n",
    "from scipy.stats import ttest_ind\n",
    "from scipy import stats as st\n",
    "from scipy.stats import levene\n",
    "import scipy.stats as stats"
   ]
  },
  {
   "cell_type": "markdown",
   "metadata": {},
   "source": [
    "#### CARGA DE DATOS"
   ]
  },
  {
   "cell_type": "code",
   "execution_count": 2,
   "metadata": {},
   "outputs": [],
   "source": [
    "#Importar archivo CSV\n",
    "games =pd.read_csv('/datasets/games.csv')"
   ]
  },
  {
   "cell_type": "code",
   "execution_count": 3,
   "metadata": {},
   "outputs": [
    {
     "name": "stdout",
     "output_type": "stream",
     "text": [
      "<class 'pandas.core.frame.DataFrame'>\n",
      "RangeIndex: 16715 entries, 0 to 16714\n",
      "Data columns (total 11 columns):\n",
      " #   Column           Non-Null Count  Dtype  \n",
      "---  ------           --------------  -----  \n",
      " 0   Name             16713 non-null  object \n",
      " 1   Platform         16715 non-null  object \n",
      " 2   Year_of_Release  16446 non-null  float64\n",
      " 3   Genre            16713 non-null  object \n",
      " 4   NA_sales         16715 non-null  float64\n",
      " 5   EU_sales         16715 non-null  float64\n",
      " 6   JP_sales         16715 non-null  float64\n",
      " 7   Other_sales      16715 non-null  float64\n",
      " 8   Critic_Score     8137 non-null   float64\n",
      " 9   User_Score       10014 non-null  object \n",
      " 10  Rating           9949 non-null   object \n",
      "dtypes: float64(6), object(5)\n",
      "memory usage: 1.4+ MB\n"
     ]
    },
    {
     "data": {
      "text/html": [
       "<div>\n",
       "<style scoped>\n",
       "    .dataframe tbody tr th:only-of-type {\n",
       "        vertical-align: middle;\n",
       "    }\n",
       "\n",
       "    .dataframe tbody tr th {\n",
       "        vertical-align: top;\n",
       "    }\n",
       "\n",
       "    .dataframe thead th {\n",
       "        text-align: right;\n",
       "    }\n",
       "</style>\n",
       "<table border=\"1\" class=\"dataframe\">\n",
       "  <thead>\n",
       "    <tr style=\"text-align: right;\">\n",
       "      <th></th>\n",
       "      <th>Name</th>\n",
       "      <th>Platform</th>\n",
       "      <th>Year_of_Release</th>\n",
       "      <th>Genre</th>\n",
       "      <th>NA_sales</th>\n",
       "      <th>EU_sales</th>\n",
       "      <th>JP_sales</th>\n",
       "      <th>Other_sales</th>\n",
       "      <th>Critic_Score</th>\n",
       "      <th>User_Score</th>\n",
       "      <th>Rating</th>\n",
       "    </tr>\n",
       "  </thead>\n",
       "  <tbody>\n",
       "    <tr>\n",
       "      <th>0</th>\n",
       "      <td>Wii Sports</td>\n",
       "      <td>Wii</td>\n",
       "      <td>2006.0</td>\n",
       "      <td>Sports</td>\n",
       "      <td>41.36</td>\n",
       "      <td>28.96</td>\n",
       "      <td>3.77</td>\n",
       "      <td>8.45</td>\n",
       "      <td>76.0</td>\n",
       "      <td>8</td>\n",
       "      <td>E</td>\n",
       "    </tr>\n",
       "    <tr>\n",
       "      <th>1</th>\n",
       "      <td>Super Mario Bros.</td>\n",
       "      <td>NES</td>\n",
       "      <td>1985.0</td>\n",
       "      <td>Platform</td>\n",
       "      <td>29.08</td>\n",
       "      <td>3.58</td>\n",
       "      <td>6.81</td>\n",
       "      <td>0.77</td>\n",
       "      <td>NaN</td>\n",
       "      <td>NaN</td>\n",
       "      <td>NaN</td>\n",
       "    </tr>\n",
       "    <tr>\n",
       "      <th>2</th>\n",
       "      <td>Mario Kart Wii</td>\n",
       "      <td>Wii</td>\n",
       "      <td>2008.0</td>\n",
       "      <td>Racing</td>\n",
       "      <td>15.68</td>\n",
       "      <td>12.76</td>\n",
       "      <td>3.79</td>\n",
       "      <td>3.29</td>\n",
       "      <td>82.0</td>\n",
       "      <td>8.3</td>\n",
       "      <td>E</td>\n",
       "    </tr>\n",
       "    <tr>\n",
       "      <th>3</th>\n",
       "      <td>Wii Sports Resort</td>\n",
       "      <td>Wii</td>\n",
       "      <td>2009.0</td>\n",
       "      <td>Sports</td>\n",
       "      <td>15.61</td>\n",
       "      <td>10.93</td>\n",
       "      <td>3.28</td>\n",
       "      <td>2.95</td>\n",
       "      <td>80.0</td>\n",
       "      <td>8</td>\n",
       "      <td>E</td>\n",
       "    </tr>\n",
       "    <tr>\n",
       "      <th>4</th>\n",
       "      <td>Pokemon Red/Pokemon Blue</td>\n",
       "      <td>GB</td>\n",
       "      <td>1996.0</td>\n",
       "      <td>Role-Playing</td>\n",
       "      <td>11.27</td>\n",
       "      <td>8.89</td>\n",
       "      <td>10.22</td>\n",
       "      <td>1.00</td>\n",
       "      <td>NaN</td>\n",
       "      <td>NaN</td>\n",
       "      <td>NaN</td>\n",
       "    </tr>\n",
       "  </tbody>\n",
       "</table>\n",
       "</div>"
      ],
      "text/plain": [
       "                       Name Platform  Year_of_Release         Genre  NA_sales  \\\n",
       "0                Wii Sports      Wii           2006.0        Sports     41.36   \n",
       "1         Super Mario Bros.      NES           1985.0      Platform     29.08   \n",
       "2            Mario Kart Wii      Wii           2008.0        Racing     15.68   \n",
       "3         Wii Sports Resort      Wii           2009.0        Sports     15.61   \n",
       "4  Pokemon Red/Pokemon Blue       GB           1996.0  Role-Playing     11.27   \n",
       "\n",
       "   EU_sales  JP_sales  Other_sales  Critic_Score User_Score Rating  \n",
       "0     28.96      3.77         8.45          76.0          8      E  \n",
       "1      3.58      6.81         0.77           NaN        NaN    NaN  \n",
       "2     12.76      3.79         3.29          82.0        8.3      E  \n",
       "3     10.93      3.28         2.95          80.0          8      E  \n",
       "4      8.89     10.22         1.00           NaN        NaN    NaN  "
      ]
     },
     "execution_count": 3,
     "metadata": {},
     "output_type": "execute_result"
    }
   ],
   "source": [
    "games.info()\n",
    "games.head()"
   ]
  },
  {
   "cell_type": "markdown",
   "metadata": {},
   "source": [
    "### PREPARACIÓN DE DATOS\n",
    "\n",
    "En un primer analisis observamos el contenido de cada una de nuestras columnas del dataframe para ir familiarizandonos con la información que contamos y ver posibles errores a corregir.\n",
    "\n",
    "1) Name: Esta columna contiene el nombre del juego.\n",
    "2) Platform: Consola en la que esta disponible el juego\n",
    "3) Year_of_Release: el año de lanzamiento\n",
    "4) Genre: El genero del juego\n",
    "5) NA_sales: Las ventas en Norteamerica\n",
    "6) EU_sales: Las ventas en Europa\n",
    "7) JP_sales: Las ventas en Japon\n",
    "8) Other_sales: Ventas categorizadas como otros\n",
    "9) Critic_Score: la putuación del juego por la critica\n",
    "10) User_Score: la puntuación por los usuarios\n",
    "11) Rating: La clasificación del juego.\n"
   ]
  },
  {
   "cell_type": "markdown",
   "metadata": {},
   "source": [
    "#### CORRECCIÓN DE DATOS"
   ]
  },
  {
   "cell_type": "code",
   "execution_count": 4,
   "metadata": {},
   "outputs": [
    {
     "name": "stdout",
     "output_type": "stream",
     "text": [
      "<class 'pandas.core.frame.DataFrame'>\n",
      "RangeIndex: 16715 entries, 0 to 16714\n",
      "Data columns (total 11 columns):\n",
      " #   Column           Non-Null Count  Dtype  \n",
      "---  ------           --------------  -----  \n",
      " 0   Name             16713 non-null  object \n",
      " 1   Platform         16715 non-null  object \n",
      " 2   Year_of_Release  16446 non-null  float64\n",
      " 3   Genre            16713 non-null  object \n",
      " 4   NA_sales         16715 non-null  float64\n",
      " 5   EU_sales         16715 non-null  float64\n",
      " 6   JP_sales         16715 non-null  float64\n",
      " 7   Other_sales      16715 non-null  float64\n",
      " 8   Critic_Score     8137 non-null   float64\n",
      " 9   User_Score       10014 non-null  object \n",
      " 10  Rating           9949 non-null   object \n",
      "dtypes: float64(6), object(5)\n",
      "memory usage: 1.4+ MB\n"
     ]
    }
   ],
   "source": [
    "games.info()"
   ]
  },
  {
   "cell_type": "markdown",
   "metadata": {},
   "source": [
    "* En primera instancia los titulos de las columnas se encuentran en combinación de mayusculas y minusculas, debemos corregir eso.\n",
    "* la columna \"Year_of_Release\" esta almacenada como float lo cual es incorrecto y debe corregirse.\n",
    "* En columnas como \"Critic_Score\", \"User_Score\" y \"Rating\" contamos con valores nulos que deberiamos corregir para poder trabajar con esa información.\n",
    "Estos son algunos de los cambios que debemos realizar en primera instancia. \n"
   ]
  },
  {
   "cell_type": "markdown",
   "metadata": {},
   "source": [
    "##### NOMBRE DE LAS COLUMNAS"
   ]
  },
  {
   "cell_type": "code",
   "execution_count": 5,
   "metadata": {},
   "outputs": [
    {
     "name": "stdout",
     "output_type": "stream",
     "text": [
      "Index(['name', 'platform', 'year_of_release', 'genre', 'na_sales', 'eu_sales',\n",
      "       'jp_sales', 'other_sales', 'critic_score', 'user_score', 'rating'],\n",
      "      dtype='object')\n"
     ]
    }
   ],
   "source": [
    "new_col_names=[] # se crea lista vacia para almacenar los nombres modificados\n",
    "\n",
    "for old_name in games.columns:\n",
    "    name_lowered = old_name.lower()\n",
    "    new_col_names.append(name_lowered)\n",
    "games.columns= new_col_names #se insertan los nombres corregidos al dataframe games\n",
    "print(games.columns)\n"
   ]
  },
  {
   "cell_type": "markdown",
   "metadata": {},
   "source": [
    "Se realizo una iteración sobre todos los nombres de las columnas del dataframe para cambiar los nombres a minuscula."
   ]
  },
  {
   "cell_type": "markdown",
   "metadata": {},
   "source": [
    "#####  VALORES NULOS"
   ]
  },
  {
   "cell_type": "code",
   "execution_count": 6,
   "metadata": {},
   "outputs": [
    {
     "name": "stdout",
     "output_type": "stream",
     "text": [
      "name                  2\n",
      "platform              0\n",
      "year_of_release     269\n",
      "genre                 2\n",
      "na_sales              0\n",
      "eu_sales              0\n",
      "jp_sales              0\n",
      "other_sales           0\n",
      "critic_score       8578\n",
      "user_score         6701\n",
      "rating             6766\n",
      "dtype: int64\n"
     ]
    }
   ],
   "source": [
    "# Se imprimen los valores nulos de todas las columnas para reemplazarlos posteriormente.\n",
    "print(games.isna().sum())"
   ]
  },
  {
   "cell_type": "markdown",
   "metadata": {},
   "source": [
    "Verificamos que columnas tienen valores ausentes, para posteriormente revisar en que casos es factible eliminar o cambiar estos valores y en cuales no nos afecta."
   ]
  },
  {
   "cell_type": "code",
   "execution_count": 7,
   "metadata": {},
   "outputs": [],
   "source": [
    "games = games.dropna(subset =[\"name\",\"genre\"])\n"
   ]
  },
  {
   "cell_type": "code",
   "execution_count": 8,
   "metadata": {},
   "outputs": [
    {
     "data": {
      "text/plain": [
       "71.0"
      ]
     },
     "execution_count": 8,
     "metadata": {},
     "output_type": "execute_result"
    }
   ],
   "source": [
    "games[\"critic_score\"].median()\n"
   ]
  },
  {
   "cell_type": "code",
   "execution_count": 9,
   "metadata": {},
   "outputs": [],
   "source": [
    "columns_to_replace=[\"critic_score\"]\n",
    "\n",
    "# Se itera cada fila para reemplazar los valores nulos por 0\n",
    "for col in columns_to_replace:\n",
    "    games[col].fillna(\"71\", inplace=True)\n",
    "    \n",
    "games[\"critic_score\"]=games[\"critic_score\"].astype(\"float\")"
   ]
  },
  {
   "cell_type": "markdown",
   "metadata": {},
   "source": [
    "Se reemplazan los valores ausentes en las columnas critic_score por -1 para no tener errores al momento de realizar operaciones con la columna y tener bien identificadas las filas que contienen valores modificados."
   ]
  },
  {
   "cell_type": "code",
   "execution_count": 10,
   "metadata": {},
   "outputs": [
    {
     "name": "stdout",
     "output_type": "stream",
     "text": [
      "name                  0\n",
      "platform              0\n",
      "year_of_release     269\n",
      "genre                 0\n",
      "na_sales              0\n",
      "eu_sales              0\n",
      "jp_sales              0\n",
      "other_sales           0\n",
      "critic_score          0\n",
      "user_score         6699\n",
      "rating             6764\n",
      "dtype: int64\n"
     ]
    }
   ],
   "source": [
    "# Se comprueban nuevamente los valores nulos existentes.\n",
    "print(games.isna().sum())"
   ]
  },
  {
   "cell_type": "markdown",
   "metadata": {},
   "source": [
    "Debido a que no contamos con otra base de datos a la mano que nos permitiera relacionar el nombre del juego a la calificación de la critica, anudado a que desconocemos la fuente de esta calificación de la critica, no tenemos más remedio que excluir estas filas de nuestros futuros calculos y analisis. "
   ]
  },
  {
   "cell_type": "code",
   "execution_count": 11,
   "metadata": {},
   "outputs": [],
   "source": [
    "games[\"year_date\"] = pd.to_datetime(games[\"year_of_release\"], format=\"%Y\")"
   ]
  },
  {
   "cell_type": "markdown",
   "metadata": {},
   "source": [
    "en el caso de la columna year_of_release vamos a crear una nueva columna con formato de fecha para poder operar con las fechas de esta columna. "
   ]
  },
  {
   "cell_type": "code",
   "execution_count": 12,
   "metadata": {},
   "outputs": [
    {
     "data": {
      "text/plain": [
       "year_of_release    2007.00\n",
       "na_sales              0.08\n",
       "eu_sales              0.03\n",
       "jp_sales              0.00\n",
       "other_sales           0.01\n",
       "critic_score         71.00\n",
       "user_score            7.50\n",
       "dtype: float64"
      ]
     },
     "execution_count": 12,
     "metadata": {},
     "output_type": "execute_result"
    }
   ],
   "source": [
    "\n",
    "user_score_median =games[games[\"user_score\"]!= \"tbd\"]\n",
    "user_score_median.median()"
   ]
  },
  {
   "cell_type": "code",
   "execution_count": 13,
   "metadata": {},
   "outputs": [
    {
     "name": "stdout",
     "output_type": "stream",
     "text": [
      "<class 'pandas.core.frame.DataFrame'>\n",
      "Int64Index: 16713 entries, 0 to 16714\n",
      "Data columns (total 13 columns):\n",
      " #   Column            Non-Null Count  Dtype         \n",
      "---  ------            --------------  -----         \n",
      " 0   name              16713 non-null  object        \n",
      " 1   platform          16713 non-null  object        \n",
      " 2   year_of_release   16444 non-null  float64       \n",
      " 3   genre             16713 non-null  object        \n",
      " 4   na_sales          16713 non-null  float64       \n",
      " 5   eu_sales          16713 non-null  float64       \n",
      " 6   jp_sales          16713 non-null  float64       \n",
      " 7   other_sales       16713 non-null  float64       \n",
      " 8   critic_score      16713 non-null  float64       \n",
      " 9   user_score        10014 non-null  object        \n",
      " 10  rating            9949 non-null   object        \n",
      " 11  year_date         16444 non-null  datetime64[ns]\n",
      " 12  user_score_fixed  10014 non-null  float64       \n",
      "dtypes: datetime64[ns](1), float64(7), object(5)\n",
      "memory usage: 1.8+ MB\n"
     ]
    }
   ],
   "source": [
    "games[\"user_score_fixed\"]=np.where(games[\"user_score\"]==\"tbd\",\n",
    "                                   7.5,\n",
    "                                   games[\"user_score\"]\n",
    ") #Se crea una nueva columna user_score_fixed donde reemplazamos tbd por -1\n",
    "games[\"user_score_fixed\"]=games[\"user_score_fixed\"].astype(\"float\") #se transforma el tipo de la nueva columna a float.\n",
    "games.info()"
   ]
  },
  {
   "cell_type": "markdown",
   "metadata": {},
   "source": [
    "Como podemos observar las nuevas columnas ya cuentan con el formato correcto y podemos usarlas para analisis posteriores aun conservando los valores originales en dado caso de que sean necesarios para calcular algun promedio o algun valor sensible que dichos cambios que realizamos puedan alterar el resultado.\n",
    "En el caso de year_date se almaceno con formato de fecha\n",
    "y en el caso de user_score_fixed como float, teniamos valores con la abreviación \"tbd\" que significa to be determinated el cual se cambio por -1 en la nueva columna, para tener un solo tipo de datos y no tener strings en esa columna."
   ]
  },
  {
   "cell_type": "markdown",
   "metadata": {},
   "source": [
    " ##### ENRIQUECER LOS DATOS"
   ]
  },
  {
   "cell_type": "code",
   "execution_count": 14,
   "metadata": {
    "scrolled": true
   },
   "outputs": [
    {
     "name": "stdout",
     "output_type": "stream",
     "text": [
      "                       name platform  year_of_release         genre  na_sales  \\\n",
      "0                Wii Sports      Wii           2006.0        Sports     41.36   \n",
      "1         Super Mario Bros.      NES           1985.0      Platform     29.08   \n",
      "2            Mario Kart Wii      Wii           2008.0        Racing     15.68   \n",
      "3         Wii Sports Resort      Wii           2009.0        Sports     15.61   \n",
      "4  Pokemon Red/Pokemon Blue       GB           1996.0  Role-Playing     11.27   \n",
      "\n",
      "   eu_sales  jp_sales  other_sales  critic_score user_score rating  year_date  \\\n",
      "0     28.96      3.77         8.45          76.0          8      E 2006-01-01   \n",
      "1      3.58      6.81         0.77          71.0        NaN    NaN 1985-01-01   \n",
      "2     12.76      3.79         3.29          82.0        8.3      E 2008-01-01   \n",
      "3     10.93      3.28         2.95          80.0          8      E 2009-01-01   \n",
      "4      8.89     10.22         1.00          71.0        NaN    NaN 1996-01-01   \n",
      "\n",
      "   user_score_fixed  total_sales  \n",
      "0               8.0        82.54  \n",
      "1               NaN        40.24  \n",
      "2               8.3        35.52  \n",
      "3               8.0        32.77  \n",
      "4               NaN        31.38  \n"
     ]
    }
   ],
   "source": [
    "#Se agrega una nueva columna \"total_sales\" para tener las ventas totales del juego en todos los continentes\n",
    "games[\"total_sales\"] = games[\"na_sales\"]+ games[\"eu_sales\"]+games[\"jp_sales\"]+games[\"other_sales\"]\n",
    "print(games.head())"
   ]
  },
  {
   "cell_type": "markdown",
   "metadata": {},
   "source": [
    "Se agrego una columna nueva columna al dataframe que suma las ventas en NA, EU, JP y Other. Almacenada con el nombre de \"total_sales\". "
   ]
  },
  {
   "cell_type": "markdown",
   "metadata": {},
   "source": [
    "### ANALISIS ESTADISTICO"
   ]
  },
  {
   "cell_type": "markdown",
   "metadata": {},
   "source": [
    "#### EVOLUCIÓN DE LOS JUEGOS A TRAVÉS DEL TIEMPO."
   ]
  },
  {
   "cell_type": "markdown",
   "metadata": {},
   "source": [
    "Los juegos que fueron lanzados en diferentes años."
   ]
  },
  {
   "cell_type": "code",
   "execution_count": 15,
   "metadata": {},
   "outputs": [
    {
     "data": {
      "text/plain": [
       "<AxesSubplot:title={'center':'Juegos lanzados a través del tiempo'}, xlabel='year_date'>"
      ]
     },
     "execution_count": 15,
     "metadata": {},
     "output_type": "execute_result"
    },
    {
     "data": {
      "image/png": "[encoded data removed]",
      "text/plain": [
       "<Figure size 640x480 with 1 Axes>"
      ]
     },
     "metadata": {},
     "output_type": "display_data"
    }
   ],
   "source": [
    "games.groupby(\"year_date\")[\"name\"].count().plot(kind=\"line\", title= \"Juegos lanzados a través del tiempo\")"
   ]
  },
  {
   "cell_type": "code",
   "execution_count": 16,
   "metadata": {},
   "outputs": [
    {
     "name": "stdout",
     "output_type": "stream",
     "text": [
      "year_date\n",
      "1980-01-01       9\n",
      "1981-01-01      46\n",
      "1982-01-01      36\n",
      "1983-01-01      17\n",
      "1984-01-01      14\n",
      "1985-01-01      14\n",
      "1986-01-01      21\n",
      "1987-01-01      16\n",
      "1988-01-01      15\n",
      "1989-01-01      17\n",
      "1990-01-01      16\n",
      "1991-01-01      41\n",
      "1992-01-01      43\n",
      "1993-01-01      60\n",
      "1994-01-01     121\n",
      "1995-01-01     219\n",
      "1996-01-01     263\n",
      "1997-01-01     289\n",
      "1998-01-01     379\n",
      "1999-01-01     338\n",
      "2000-01-01     350\n",
      "2001-01-01     482\n",
      "2002-01-01     829\n",
      "2003-01-01     775\n",
      "2004-01-01     762\n",
      "2005-01-01     939\n",
      "2006-01-01    1006\n",
      "2007-01-01    1197\n",
      "2008-01-01    1427\n",
      "2009-01-01    1426\n",
      "2010-01-01    1255\n",
      "2011-01-01    1136\n",
      "2012-01-01     653\n",
      "2013-01-01     544\n",
      "2014-01-01     581\n",
      "2015-01-01     606\n",
      "2016-01-01     502\n",
      "Name: name, dtype: int64\n"
     ]
    }
   ],
   "source": [
    "print(games.groupby(\"year_date\")[\"name\"].count())"
   ]
  },
  {
   "cell_type": "markdown",
   "metadata": {},
   "source": [
    "¿Son significativos los datos de cada período?\n",
    "\n",
    "Se puede observar que desde el año 2006 al año 2011 son los años en los que hubo mayor numero de lanzamientos, a primera instancia podría esto ser cierto, sin embargo, debemos considerar que varios datos se repiten ya que el mismo juego se lanza para las diferentes consolas, esto puede estar fuertemente relacionado a que en ese rango de años había diferentes tipos de consolas en el mercado y el mismo juego salio para todas las plataformas.\n",
    "Igualmente, se podrian excluir los valores antes de 1994 los cuales sus ventas son muy pequeñas comparados con años posteriores. "
   ]
  },
  {
   "cell_type": "markdown",
   "metadata": {},
   "source": [
    "•\tObserva cómo varían las ventas de una plataforma a otra. Elige las plataformas con las mayores ventas totales y construye una distribución basada en los datos de cada año. Busca las plataformas que solían ser populares pero que ahora no tienen ventas. ¿Cuánto tardan generalmente las nuevas plataformas en aparecer y las antiguas en desaparecer?"
   ]
  },
  {
   "cell_type": "markdown",
   "metadata": {},
   "source": [
    "#### EVOLUCIÓN DE LAS VENTAS A TRAVÉS DEL TIEMPO"
   ]
  },
  {
   "cell_type": "code",
   "execution_count": 17,
   "metadata": {},
   "outputs": [
    {
     "data": {
      "text/plain": [
       "<AxesSubplot:xlabel='year_date'>"
      ]
     },
     "execution_count": 17,
     "metadata": {},
     "output_type": "execute_result"
    },
    {
     "data": {
      "image/png": "[encoded data removed]",
      "text/plain": [
       "<Figure size 640x480 with 1 Axes>"
      ]
     },
     "metadata": {},
     "output_type": "display_data"
    }
   ],
   "source": [
    "filtered_games = games.query(\"year_date > '2011-01-01'\")\n",
    "filtered_games.pivot_table(index=\"year_date\", columns=\"platform\", values=\"total_sales\", aggfunc=\"sum\").plot(kind=\"line\")"
   ]
  },
  {
   "cell_type": "markdown",
   "metadata": {},
   "source": [
    "En este gráfico podemos observar el comportamiento de las ventas por cada plataforma a través de los años, sin embargo, son demasiadas que es complicado observar a detalle el comportamiento de cada una. Por lo que, vamos a seleccionar el top 5 de las consolas."
   ]
  },
  {
   "cell_type": "code",
   "execution_count": 18,
   "metadata": {},
   "outputs": [
    {
     "data": {
      "text/plain": [
       "<AxesSubplot:xlabel='year_date'>"
      ]
     },
     "execution_count": 18,
     "metadata": {},
     "output_type": "execute_result"
    },
    {
     "data": {
      "image/png": "[encoded data removed]",
      "text/plain": [
       "<Figure size 640x480 with 1 Axes>"
      ]
     },
     "metadata": {},
     "output_type": "display_data"
    }
   ],
   "source": [
    "top_5_platforms = list(filtered_games.groupby(\"platform\")[\"total_sales\"].sum().sort_values().tail(5).index)\n",
    "(\n",
    "    filtered_games[filtered_games[\"platform\"].isin(top_5_platforms)]\n",
    "    .pivot_table(index= \"year_date\",\n",
    "                 columns=\"platform\",\n",
    "                 values=\"total_sales\",\n",
    "                 aggfunc=\"sum\")\n",
    "    .plot(kind=\"line\")\n",
    ")\n"
   ]
  },
  {
   "cell_type": "markdown",
   "metadata": {},
   "source": [
    "Como podemos observar a mayor detalle,existe mayor tendencia al periodo que habiamos mencionado antes del 2006 al 2011 donde varias de las consolas que tuvieron mayor cantidad de ventas se encuentran agrupadas."
   ]
  },
  {
   "cell_type": "code",
   "execution_count": 19,
   "metadata": {},
   "outputs": [
    {
     "data": {
      "image/png": "[encoded data removed]",
      "text/plain": [
       "<Figure size 640x480 with 1 Axes>"
      ]
     },
     "metadata": {},
     "output_type": "display_data"
    }
   ],
   "source": [
    "sales_by_year = filtered_games.groupby([\"year_date\",\"platform\"])[\"total_sales\"].sum().reset_index()\n",
    "sales_by_year[sales_by_year[\"platform\"].isin(top_5_platforms)][[\"total_sales\",\"platform\"]].boxplot(column=\"total_sales\", by=\"platform\")\n",
    "plt.title(\"Top 5 consolas con mas ventas\")\n",
    "plt.show()\n"
   ]
  },
  {
   "cell_type": "markdown",
   "metadata": {},
   "source": [
    "Se creo una distirbución de las 5 consolas con mas ventas tomando como referencia el año 2000 en adelante para estos datos.\n",
    "Podemos concluir que:\n",
    "* Tanto en playstation 2 y 3 la media de los videojuegos es elevada a comparación del wii que tiene buena cantidad de ventas pero las ventas promedio por titulo es la menor de las plataformas que se encuentran en el top 5.\n",
    "* Por otro lado las ventas de xbox360 y las de PS3 son casi similares salvo por una pequeña ventaja que tiene xbox360.\n",
    "* Con esta información podriamos concluir que las plataformas en las que es conveniente invertir es en primer lugar las consolas de Microsoft(Xbox) y por otro lado las consolas de Sony(PlayStation).\n",
    "* Por otro lado existe una plataforma potencialmente rentable que se trata de la pc, que lleva varios años en el mercado."
   ]
  },
  {
   "cell_type": "code",
   "execution_count": 20,
   "metadata": {},
   "outputs": [
    {
     "data": {
      "text/html": [
       "<div>\n",
       "<style scoped>\n",
       "    .dataframe tbody tr th:only-of-type {\n",
       "        vertical-align: middle;\n",
       "    }\n",
       "\n",
       "    .dataframe tbody tr th {\n",
       "        vertical-align: top;\n",
       "    }\n",
       "\n",
       "    .dataframe thead th {\n",
       "        text-align: right;\n",
       "    }\n",
       "</style>\n",
       "<table border=\"1\" class=\"dataframe\">\n",
       "  <thead>\n",
       "    <tr style=\"text-align: right;\">\n",
       "      <th></th>\n",
       "      <th>min</th>\n",
       "      <th>max</th>\n",
       "      <th>duration</th>\n",
       "    </tr>\n",
       "    <tr>\n",
       "      <th>platform</th>\n",
       "      <th></th>\n",
       "      <th></th>\n",
       "      <th></th>\n",
       "    </tr>\n",
       "  </thead>\n",
       "  <tbody>\n",
       "    <tr>\n",
       "      <th>3DS</th>\n",
       "      <td>2012.0</td>\n",
       "      <td>2016.0</td>\n",
       "      <td>4.0</td>\n",
       "    </tr>\n",
       "    <tr>\n",
       "      <th>PC</th>\n",
       "      <td>2012.0</td>\n",
       "      <td>2016.0</td>\n",
       "      <td>4.0</td>\n",
       "    </tr>\n",
       "    <tr>\n",
       "      <th>PS3</th>\n",
       "      <td>2012.0</td>\n",
       "      <td>2016.0</td>\n",
       "      <td>4.0</td>\n",
       "    </tr>\n",
       "    <tr>\n",
       "      <th>PSV</th>\n",
       "      <td>2012.0</td>\n",
       "      <td>2016.0</td>\n",
       "      <td>4.0</td>\n",
       "    </tr>\n",
       "    <tr>\n",
       "      <th>Wii</th>\n",
       "      <td>2012.0</td>\n",
       "      <td>2016.0</td>\n",
       "      <td>4.0</td>\n",
       "    </tr>\n",
       "    <tr>\n",
       "      <th>WiiU</th>\n",
       "      <td>2012.0</td>\n",
       "      <td>2016.0</td>\n",
       "      <td>4.0</td>\n",
       "    </tr>\n",
       "    <tr>\n",
       "      <th>X360</th>\n",
       "      <td>2012.0</td>\n",
       "      <td>2016.0</td>\n",
       "      <td>4.0</td>\n",
       "    </tr>\n",
       "    <tr>\n",
       "      <th>PS4</th>\n",
       "      <td>2013.0</td>\n",
       "      <td>2016.0</td>\n",
       "      <td>3.0</td>\n",
       "    </tr>\n",
       "    <tr>\n",
       "      <th>PSP</th>\n",
       "      <td>2012.0</td>\n",
       "      <td>2015.0</td>\n",
       "      <td>3.0</td>\n",
       "    </tr>\n",
       "    <tr>\n",
       "      <th>XOne</th>\n",
       "      <td>2013.0</td>\n",
       "      <td>2016.0</td>\n",
       "      <td>3.0</td>\n",
       "    </tr>\n",
       "    <tr>\n",
       "      <th>DS</th>\n",
       "      <td>2012.0</td>\n",
       "      <td>2013.0</td>\n",
       "      <td>1.0</td>\n",
       "    </tr>\n",
       "  </tbody>\n",
       "</table>\n",
       "</div>"
      ],
      "text/plain": [
       "             min     max  duration\n",
       "platform                          \n",
       "3DS       2012.0  2016.0       4.0\n",
       "PC        2012.0  2016.0       4.0\n",
       "PS3       2012.0  2016.0       4.0\n",
       "PSV       2012.0  2016.0       4.0\n",
       "Wii       2012.0  2016.0       4.0\n",
       "WiiU      2012.0  2016.0       4.0\n",
       "X360      2012.0  2016.0       4.0\n",
       "PS4       2013.0  2016.0       3.0\n",
       "PSP       2012.0  2015.0       3.0\n",
       "XOne      2013.0  2016.0       3.0\n",
       "DS        2012.0  2013.0       1.0"
      ]
     },
     "execution_count": 20,
     "metadata": {},
     "output_type": "execute_result"
    }
   ],
   "source": [
    "# Obtener el año de primera y última aparición de cada plataforma\n",
    "platform_lifetime = filtered_games.groupby('platform')['year_of_release'].agg(['min', 'max'])\n",
    "platform_lifetime['duration'] = platform_lifetime['max'] - platform_lifetime['min']\n",
    "platform_lifetime = platform_lifetime.sort_values(by='duration', ascending=False)\n",
    "platform_lifetime"
   ]
  },
  {
   "cell_type": "code",
   "execution_count": 21,
   "metadata": {},
   "outputs": [
    {
     "name": "stdout",
     "output_type": "stream",
     "text": [
      "El tiempo de vida promedio de una plataforma es de:  3.4545454545454546 años.\n"
     ]
    }
   ],
   "source": [
    "print(\"El tiempo de vida promedio de una plataforma es de: \", platform_lifetime[\"duration\"].mean(), \"años.\")"
   ]
  },
  {
   "cell_type": "code",
   "execution_count": 22,
   "metadata": {},
   "outputs": [
    {
     "data": {
      "text/plain": [
       "<AxesSubplot:xlabel='platform'>"
      ]
     },
     "execution_count": 22,
     "metadata": {},
     "output_type": "execute_result"
    },
    {
     "data": {
      "image/png": "[encoded data removed]",
      "text/plain": [
       "<Figure size 640x480 with 1 Axes>"
      ]
     },
     "metadata": {},
     "output_type": "display_data"
    }
   ],
   "source": [
    "(\n",
    "\tfiltered_games[filtered_games[\"platform\"].isin(top_5_platforms)]\n",
    "\t.groupby(\"platform\")[\"total_sales\"]\n",
    "\t.mean()\n",
    "\t.sort_values(ascending=False)\n",
    "\t.plot(kind=\"bar\")\n",
    ")"
   ]
  },
  {
   "cell_type": "markdown",
   "metadata": {},
   "source": [
    "Graficando el promedio de ventas por consolas podemos observar que los juegos lanzados en la consola Xbox360 se venden mas en promedio a diferencia de su competencia directa que es playstation 3"
   ]
  },
  {
   "cell_type": "markdown",
   "metadata": {},
   "source": [
    "•\tCrea un diagrama de caja para las ventas globales de todos los juegos, desglosados por plataforma. ¿Son significativas las diferencias en las ventas? ¿Qué sucede con las ventas promedio en varias plataformas? Describe tus hallazgos."
   ]
  },
  {
   "cell_type": "code",
   "execution_count": 23,
   "metadata": {},
   "outputs": [
    {
     "data": {
      "image/png": "[encoded data removed]",
      "text/plain": [
       "<Figure size 640x480 with 1 Axes>"
      ]
     },
     "metadata": {},
     "output_type": "display_data"
    }
   ],
   "source": [
    "filtered_games[filtered_games[\"platform\"].isin(top_5_platforms)][[\"total_sales\",\"platform\"]].boxplot(\n",
    "    column=\"total_sales\",\n",
    "    by=\"platform\"\n",
    ")\n",
    "plt.ylim(0,2)\n",
    "plt.show()"
   ]
  },
  {
   "cell_type": "markdown",
   "metadata": {},
   "source": [
    "Como podemos observar las ventas tanto de PS3 como de X360 son similares, sin embargo, las ventas de Wii son menores, y a su vez las ventas promedio para nintendo (Wii y DS) la media de ambas plataformas es menor a la mitad de la caja, dejando a PS3 y X360 como mejores opciones."
   ]
  },
  {
   "cell_type": "markdown",
   "metadata": {},
   "source": [
    "•\tMira cómo las reseñas de usuarios y profesionales afectan las ventas de una plataforma popular (tu elección). Crea un gráfico de dispersión y calcula la correlación entre las reseñas y las ventas. Saca conclusiones.\n",
    "•\tTeniendo en cuenta tus conclusiones compara las ventas de los mismos juegos en otras plataformas."
   ]
  },
  {
   "cell_type": "markdown",
   "metadata": {},
   "source": []
  },
  {
   "cell_type": "code",
   "execution_count": 24,
   "metadata": {},
   "outputs": [
    {
     "data": {
      "image/png": "[encoded data removed]",
      "text/plain": [
       "<Figure size 640x480 with 1 Axes>"
      ]
     },
     "metadata": {},
     "output_type": "display_data"
    }
   ],
   "source": [
    "#Se crea un nuevo dataframe donde filtramos solamente los valores de PS3 y eliminamos los valores ausentes que habiamos modificado anteriormente\n",
    "games_by_platform = games[(games['platform'] == 'PS3')& (games[\"user_score_fixed\"]!=-1)].dropna()\n",
    "games_by_platform.plot(x='user_score_fixed',\n",
    "                       y='total_sales',\n",
    "                       style='o', \n",
    "                       title= \"Gráfico de dispersión de calificiación por los usuarios contra total de ventas\"\n",
    ")\n",
    "plt.show()"
   ]
  },
  {
   "cell_type": "code",
   "execution_count": 25,
   "metadata": {},
   "outputs": [
    {
     "data": {
      "text/html": [
       "<div>\n",
       "<style scoped>\n",
       "    .dataframe tbody tr th:only-of-type {\n",
       "        vertical-align: middle;\n",
       "    }\n",
       "\n",
       "    .dataframe tbody tr th {\n",
       "        vertical-align: top;\n",
       "    }\n",
       "\n",
       "    .dataframe thead th {\n",
       "        text-align: right;\n",
       "    }\n",
       "</style>\n",
       "<table border=\"1\" class=\"dataframe\">\n",
       "  <thead>\n",
       "    <tr style=\"text-align: right;\">\n",
       "      <th></th>\n",
       "      <th>total_sales</th>\n",
       "      <th>user_score_fixed</th>\n",
       "    </tr>\n",
       "  </thead>\n",
       "  <tbody>\n",
       "    <tr>\n",
       "      <th>total_sales</th>\n",
       "      <td>1.000000</td>\n",
       "      <td>-0.026789</td>\n",
       "    </tr>\n",
       "    <tr>\n",
       "      <th>user_score_fixed</th>\n",
       "      <td>-0.026789</td>\n",
       "      <td>1.000000</td>\n",
       "    </tr>\n",
       "  </tbody>\n",
       "</table>\n",
       "</div>"
      ],
      "text/plain": [
       "                  total_sales  user_score_fixed\n",
       "total_sales          1.000000         -0.026789\n",
       "user_score_fixed    -0.026789          1.000000"
      ]
     },
     "execution_count": 25,
     "metadata": {},
     "output_type": "execute_result"
    }
   ],
   "source": [
    "filtered_games.query(\"platform == 'PS3'\")[[\"total_sales\",\"user_score_fixed\"]].corr()"
   ]
  },
  {
   "cell_type": "markdown",
   "metadata": {},
   "source": [
    "Se puede apreciar que la correlación entre las reseñas de los usuarios y las ventas por plataforma PS3 mantienen una correlación muy baja por lo que se puede decir que las calificación de los usuarios no afecta las ventas de un juego."
   ]
  },
  {
   "cell_type": "markdown",
   "metadata": {},
   "source": [
    "Como podemos observar en la grafica nos muestra que no tenemos relación entre los juegos que tienen buena calificación por los usuarios contra el número de ventas, y nuestro coeficiente refuerza esta hipotesis.\n",
    "Un juego puede tener una calificación de 10 en su genero, pero aún así no tener el impacto esperado en las ventas, ya que los usuarios de nicho de dicho genero son quienes califican el juego conforme a su experiencia. Asi que podemos tener juegos con calificación alta pero bajo numero de ventas. Y viceversa. \n",
    "\n",
    "Si tuvieramos una relación entre ambas variables nuestras ventas deberian ir aumentando conforme la calificación por los usurarios va aumentando."
   ]
  },
  {
   "cell_type": "code",
   "execution_count": 26,
   "metadata": {},
   "outputs": [
    {
     "data": {
      "image/png": "[encoded data removed]",
      "text/plain": [
       "<Figure size 640x480 with 1 Axes>"
      ]
     },
     "metadata": {},
     "output_type": "display_data"
    }
   ],
   "source": [
    "games_by_platform_cs = games[(games['platform'] == 'PS3')& (games[\"critic_score\"]!=-1)].dropna() #se nombra un nuevo df\n",
    "games_by_platform_cs.plot(x='critic_score',\n",
    "                       y='total_sales',\n",
    "                       style='o', \n",
    "                       title= \"Gráfico de dispersión de calificiación por la critica contra total de ventas\"\n",
    ")\n",
    "plt.show()"
   ]
  },
  {
   "cell_type": "code",
   "execution_count": 27,
   "metadata": {},
   "outputs": [
    {
     "data": {
      "text/html": [
       "<div>\n",
       "<style scoped>\n",
       "    .dataframe tbody tr th:only-of-type {\n",
       "        vertical-align: middle;\n",
       "    }\n",
       "\n",
       "    .dataframe tbody tr th {\n",
       "        vertical-align: top;\n",
       "    }\n",
       "\n",
       "    .dataframe thead th {\n",
       "        text-align: right;\n",
       "    }\n",
       "</style>\n",
       "<table border=\"1\" class=\"dataframe\">\n",
       "  <thead>\n",
       "    <tr style=\"text-align: right;\">\n",
       "      <th></th>\n",
       "      <th>total_sales</th>\n",
       "      <th>critic_score</th>\n",
       "    </tr>\n",
       "  </thead>\n",
       "  <tbody>\n",
       "    <tr>\n",
       "      <th>total_sales</th>\n",
       "      <td>1.000000</td>\n",
       "      <td>0.312473</td>\n",
       "    </tr>\n",
       "    <tr>\n",
       "      <th>critic_score</th>\n",
       "      <td>0.312473</td>\n",
       "      <td>1.000000</td>\n",
       "    </tr>\n",
       "  </tbody>\n",
       "</table>\n",
       "</div>"
      ],
      "text/plain": [
       "              total_sales  critic_score\n",
       "total_sales      1.000000      0.312473\n",
       "critic_score     0.312473      1.000000"
      ]
     },
     "execution_count": 27,
     "metadata": {},
     "output_type": "execute_result"
    }
   ],
   "source": [
    "filtered_games.query(\"platform == 'PS3'\")[[\"total_sales\",\"critic_score\"]].corr()"
   ]
  },
  {
   "cell_type": "markdown",
   "metadata": {},
   "source": [
    "Nuevamente tenemos el mismo efecto que en el anterior, no tenemos una relación fuerte entre las reseñas y las ventas, sin embargo, en este caso la correlación aumento un poco, por lo que si tuvieramos que tomar una decisión con respecto a mejorar alguna de las calificaciones para el exito de nuestro juego, tendríamos que mejorar la calificación de la critica."
   ]
  },
  {
   "cell_type": "markdown",
   "metadata": {},
   "source": [
    "#### COMPORTAMIENTO DE LOS JUEGOS POR GENERO"
   ]
  },
  {
   "cell_type": "markdown",
   "metadata": {},
   "source": [
    "•\tEcha un vistazo a la distribución general de los juegos por género. ¿Qué se puede decir de los géneros más rentables? ¿Puedes generalizar acerca de los géneros con ventas altas y bajas?"
   ]
  },
  {
   "cell_type": "code",
   "execution_count": 28,
   "metadata": {},
   "outputs": [
    {
     "data": {
      "image/png": "[encoded data removed]",
      "text/plain": [
       "<Figure size 640x480 with 1 Axes>"
      ]
     },
     "metadata": {},
     "output_type": "display_data"
    }
   ],
   "source": [
    "filtered_games.boxplot(column=\"total_sales\", \n",
    "                       by=\"genre\"\n",
    ")\n",
    "plt.title(\"Gráfico de caja por genero\")\n",
    "plt.ylim (0,2)\n",
    "plt.xticks (rotation=90)\n",
    "plt.show()"
   ]
  },
  {
   "cell_type": "markdown",
   "metadata": {},
   "source": [
    "Se puede observar como algunos generos claramente son más populares que otros, por ejemplo, Shooter, Plataform, Sport, Fighting, Racing. Por lo que es mucho más rentable hacer un juego del genero shooter que uno de aventuras.\n"
   ]
  },
  {
   "cell_type": "markdown",
   "metadata": {},
   "source": [
    "### PERFILES DE USARIO POR REGIÓN"
   ]
  },
  {
   "cell_type": "markdown",
   "metadata": {},
   "source": [
    "Para cada región (NA, UE, JP) determina:\n",
    "\n",
    "* Las cinco plataformas principales. Describe las variaciones en sus cuotas de mercado de una región a otra.\n",
    "* Los cinco géneros principales. Explica la diferencia.\n",
    "* Si las clasificaciones de ESRB afectan a las ventas en regiones individuales.\n"
   ]
  },
  {
   "cell_type": "code",
   "execution_count": 29,
   "metadata": {},
   "outputs": [],
   "source": [
    "#Top 5 plataformas en NA\n",
    "na_top_5_platforms = games.groupby(\"platform\")[\"na_sales\"].sum().sort_values(ascending=False).head(5)\n",
    "#Top 5 generos en NA\n",
    "na_top_5_genre = games.groupby(\"genre\")[\"na_sales\"].sum().sort_values(ascending=False).head(5)\n",
    "#Top 5 rating en NA\n",
    "na_top_5_rating = games.groupby(\"rating\")[\"na_sales\"].sum().sort_values(ascending=False).head(5)\n",
    "\n",
    "#Top 5 plataformas en JP\n",
    "jp_top_5_platforms = games.groupby(\"platform\")[\"jp_sales\"].sum().sort_values(ascending=False).head(5)\n",
    "#Top 5 plataformas en JP\n",
    "jp_top_5_genre = games.groupby(\"genre\")[\"jp_sales\"].sum().sort_values(ascending=False).head(5)\n",
    "#Top 5 rating en jp\n",
    "jp_top_5_rating = games.groupby(\"rating\")[\"jp_sales\"].sum().sort_values(ascending=False).head(5)\n",
    "\n",
    "\n",
    "#Top 5 plataformas en eu\n",
    "eu_top_5_platforms = games.groupby(\"platform\")[\"eu_sales\"].sum().sort_values(ascending=False).head(5)\n",
    "#Top 5 plataformas en eu\n",
    "eu_top_5_genre = games.groupby(\"genre\")[\"eu_sales\"].sum().sort_values(ascending=False).head(5)\n",
    "#Top 5 rating en eu\n",
    "eu_top_5_rating = games.groupby(\"rating\")[\"eu_sales\"].sum().sort_values(ascending=False).head(5)\n"
   ]
  },
  {
   "cell_type": "code",
   "execution_count": 30,
   "metadata": {},
   "outputs": [
    {
     "name": "stdout",
     "output_type": "stream",
     "text": [
      "rating\n",
      "E       1292.99\n",
      "T        759.75\n",
      "M        748.48\n",
      "E10+     353.32\n",
      "K-A        2.56\n",
      "Name: na_sales, dtype: float64\n"
     ]
    }
   ],
   "source": [
    "print(na_top_5_rating)"
   ]
  },
  {
   "cell_type": "code",
   "execution_count": 31,
   "metadata": {},
   "outputs": [],
   "source": [
    "class UserProfile:\n",
    "    def __init__(self, name, platform, genre, rating):\n",
    "        self.name = name\n",
    "        self.platform = platform\n",
    "        self.genre = genre\n",
    "        self.rating = rating\n",
    "\n",
    "    def display_profile(self):\n",
    "        print(f\"Name: {self.name}\")\n",
    "        print(f\"platform: {self.platform}\")\n",
    "        print(f\"genre: {self.genre}\")\n",
    "        print(f\"rating: {self.rating}\")"
   ]
  },
  {
   "cell_type": "code",
   "execution_count": 32,
   "metadata": {},
   "outputs": [
    {
     "name": "stdout",
     "output_type": "stream",
     "text": [
      "Name: NORTH AMERICA\n",
      "platform: platform\n",
      "X360    602.47\n",
      "PS2     583.84\n",
      "Wii     496.90\n",
      "PS3     393.49\n",
      "DS      382.40\n",
      "Name: na_sales, dtype: float64\n",
      "genre: genre\n",
      "Action      879.01\n",
      "Sports      684.43\n",
      "Shooter     592.24\n",
      "Platform    445.50\n",
      "Misc        407.27\n",
      "Name: na_sales, dtype: float64\n",
      "rating: rating\n",
      "E       1292.99\n",
      "T        759.75\n",
      "M        748.48\n",
      "E10+     353.32\n",
      "K-A        2.56\n",
      "Name: na_sales, dtype: float64\n",
      "\n",
      "Name: JAPAN\n",
      "platform: platform\n",
      "DS      175.57\n",
      "PS      139.82\n",
      "PS2     139.20\n",
      "SNES    116.55\n",
      "3DS     100.67\n",
      "Name: jp_sales, dtype: float64\n",
      "genre: genre\n",
      "Role-Playing    355.41\n",
      "Action          161.43\n",
      "Sports          135.54\n",
      "Platform        130.83\n",
      "Misc            108.11\n",
      "Name: jp_sales, dtype: float64\n",
      "rating: rating\n",
      "E       198.11\n",
      "T       151.40\n",
      "M        64.24\n",
      "E10+     40.20\n",
      "K-A       1.46\n",
      "Name: jp_sales, dtype: float64\n",
      "\n",
      "Name: EUROPE\n",
      "platform: platform\n",
      "PS2     339.29\n",
      "PS3     330.29\n",
      "X360    270.76\n",
      "Wii     262.21\n",
      "PS      213.61\n",
      "Name: eu_sales, dtype: float64\n",
      "genre: genre\n",
      "Action     519.13\n",
      "Sports     376.79\n",
      "Shooter    317.34\n",
      "Racing     236.51\n",
      "Misc       212.74\n",
      "Name: eu_sales, dtype: float64\n",
      "rating: rating\n",
      "E       198.11\n",
      "T       151.40\n",
      "M        64.24\n",
      "E10+     40.20\n",
      "K-A       1.46\n",
      "Name: jp_sales, dtype: float64\n"
     ]
    }
   ],
   "source": [
    "# Ejemplo de uso\n",
    "if __name__ == \"__main__\":\n",
    "    # Crear un nuevo perfil de usuario\n",
    "    na = UserProfile(\"NORTH AMERICA\", na_top_5_platforms,na_top_5_genre, na_top_5_rating)\n",
    "    jp = UserProfile(\"JAPAN\", jp_top_5_platforms, jp_top_5_genre, jp_top_5_rating)\n",
    "    eu = UserProfile(\"EUROPE\", eu_top_5_platforms, eu_top_5_genre, jp_top_5_rating)\n",
    "\n",
    "    # Mostrar el perfil del usuario\n",
    "na.display_profile()\n",
    "print()\n",
    "jp.display_profile()\n",
    "print()\n",
    "eu.display_profile()"
   ]
  },
  {
   "cell_type": "markdown",
   "metadata": {},
   "source": [
    "* Las cinco plataformas principales. Describe las variaciones en sus cuotas de mercado de una región a otra.\n",
    "\n",
    "En Norte america contamos que la plataforma mas popular es el xbox 360 y en su mayoria son plataformas fijas.\n",
    "En Japon tenemos un cambio radical en las plataformas, ya que el top 5 pertenece a consolas portatiles, por lo que es mas probable que un juego tenga exito si de una consola portatil se trata en este mercado\n",
    "En Europa tenemos un comportamiento similar al de norte america, sin embargo, los usuarios prefieren las consolas de Sony (playStations).\n",
    "\n",
    "\n",
    "* Los cinco géneros principales. Explica la diferencia.\n",
    "\n",
    "En norte america prefieren los juegos de accion,  deportes y disparos.\n",
    "En japon los juegos RPG, accion y Deportes.\n",
    "En Europa los juegos de acción, deportes y shooters.\n",
    "\n",
    "* Si las clasificaciones de ESRB afectan a las ventas en regiones individuales.\n",
    "\n",
    "En las tres regiones contamos con el mismo patron E- Everyone (Para todo publico), T- Teen (Adolescente) y M-Mature (Maduro), por lo que seria buena idea que el juego tuviera la clasificación E o T para asegurar buenas ventas. \n",
    "\n",
    "Estos son los tops por region, en este caso aunque accion aparece en las tres regiones recordaremos que anteriormente era de los juegos con menos impacto en ventas globales, por lo que si tuvieramos que hacer un juego rentable que se venda en las tres regiones, la mejor opcion seria deportes de rating \"E\" Everyone para todos"
   ]
  },
  {
   "cell_type": "markdown",
   "metadata": {},
   "source": [
    "### PRUEBA DE HIPOTESIS"
   ]
  },
  {
   "cell_type": "markdown",
   "metadata": {},
   "source": [
    "#### HIPOTESIS #1\n",
    "Las calificaciones promedio de los usuarios para las plataformas Xbox One y PC son las mismas.\n"
   ]
  },
  {
   "cell_type": "code",
   "execution_count": 33,
   "metadata": {},
   "outputs": [],
   "source": [
    "pc_mean_score= filtered_games[(filtered_games['platform'] == 'PC')].dropna()[\"user_score_fixed\"]\n",
    "xbox_one_mean_score= filtered_games[(filtered_games['platform'] == 'XOne')].dropna()[\"user_score_fixed\"]\n"
   ]
  },
  {
   "cell_type": "code",
   "execution_count": 35,
   "metadata": {},
   "outputs": [
    {
     "name": "stdout",
     "output_type": "stream",
     "text": [
      "Se rechaza la hipótesis nula: las varianzas no son iguales\n"
     ]
    }
   ],
   "source": [
    "alpha = 0.05# tu código: establece un nivel crítico de significación estadística\n",
    "\n",
    "#results = st.ttest_ind(xbox_one_mean_score, pc_mean_score, equal_var=False)# prueba la hipótesis de que las medias de las dos poblaciones independientes son iguales\n",
    "stat, p_value = stats.levene(xbox_one_mean_score, pc_mean_score)\n",
    "\n",
    "\n",
    "alpha = 0.05\n",
    "if p_value > alpha:\n",
    "    print(\"No se rechaza la hipótesis nula: las varianzas son iguales\")\n",
    "else:\n",
    "    print(\"Se rechaza la hipótesis nula: las varianzas no son iguales\")\n",
    "    \n",
    "\n",
    "    \n"
   ]
  },
  {
   "cell_type": "code",
   "execution_count": 36,
   "metadata": {},
   "outputs": [
    {
     "name": "stdout",
     "output_type": "stream",
     "text": [
      "valor p: 0.1895440021630431\n",
      "Rechazamos la hipótesis nula\n"
     ]
    }
   ],
   "source": [
    "results = st.ttest_ind(xbox_one_mean_score, pc_mean_score, equal_var=False)\n",
    "\n",
    "print('valor p:', results.pvalue) # tu código: imprime el valor p obtenido\n",
    "\n",
    "if (results.pvalue > alpha): # su código: compara los valores p obtenidos con el nivel de significación estadística):\n",
    "    print(\"Rechazamos la hipótesis nula\")\n",
    "else:\n",
    "    print(\"No podemos rechazar la hipótesis nula\")"
   ]
  },
  {
   "cell_type": "markdown",
   "metadata": {},
   "source": [
    "Gracias al Pvalue podemos concluir que las las medias entre las reseñas de PC y XboxOne existe una diferencia significativa.\n"
   ]
  },
  {
   "cell_type": "markdown",
   "metadata": {},
   "source": [
    "#### HIPOTESIS #2\n",
    "Las calificaciones promedio de los usuarios para los géneros de Acción y Deportes son diferentes."
   ]
  },
  {
   "cell_type": "code",
   "execution_count": 37,
   "metadata": {},
   "outputs": [
    {
     "name": "stdout",
     "output_type": "stream",
     "text": [
      "Se rechaza la hipótesis nula: las varianzas no son iguales\n"
     ]
    }
   ],
   "source": [
    "action_score= filtered_games[(filtered_games['genre'] == 'Action')].dropna()[\"user_score_fixed\"]\n",
    "sport_score= filtered_games[(filtered_games['genre'] == 'Sports')].dropna()[\"user_score_fixed\"]\n",
    "\n",
    "stat, p_value = stats.levene(action_score, sport_score)\n",
    "\n",
    "alpha = 0.05\n",
    "\n",
    "if p_value > alpha:\n",
    "    print(\"No se rechaza la hipótesis nula: las varianzas son iguales\")\n",
    "else:\n",
    "    print(\"Se rechaza la hipótesis nula: las varianzas no son iguales\")\n",
    "    \n"
   ]
  },
  {
   "cell_type": "code",
   "execution_count": 38,
   "metadata": {},
   "outputs": [
    {
     "name": "stdout",
     "output_type": "stream",
     "text": [
      "valor p: 7.500090730721683e-18\n",
      "No podemos rechazar la hipótesis nula\n"
     ]
    }
   ],
   "source": [
    "alpha = 0.05# tu código: establece un nivel crítico de significación estadística\n",
    "\n",
    "results = st.ttest_ind(action_score, sport_score, equal_var=False)# prueba la hipótesis de que las medias de las dos poblaciones independientes son diferentes\n",
    "\n",
    "print('valor p:', results.pvalue) # tu código: imprime el valor p obtenido)\n",
    "\n",
    "if (results.pvalue > alpha): # su código: compara los valores p obtenidos con el nivel de significación estadística):\n",
    "    print(\"Rechazamos la hipótesis nula\")\n",
    "else:\n",
    "    print(\"No podemos rechazar la hipótesis nula\")"
   ]
  },
  {
   "cell_type": "markdown",
   "metadata": {},
   "source": [
    "Podemos concluir que las medias entre las calificaciones por usuarios del genero accion y deporte guardan cierta relación por la que nuestra hipotesis nula queda rechazada."
   ]
  },
  {
   "cell_type": "markdown",
   "metadata": {},
   "source": [
    "Se aplicaron filtros para obtener la muestra de los valores que solamente necesitabamos generandonos una lista con esos valores, a cada una se le asigno su nombre de variable, y se comparo por medio de T-Student ya que estabamos comparando la media de dos poblaciones, el nivel de alfa se establecion en 0.05 para tener un 95% de confianza. \n",
    "* En el primer caso, buscamos que nuestro pvalue fuera menor que nuestro valor alfa para asegurar que existiera relacion entre ambas poblaciones.\n",
    "* En el segundo caso, buscamos que nuestro pvalue fuera mayor que nuestro valor alfa, buscando que que ambas poblaciones fueran excluyentes, pero al final se rechazo."
   ]
  },
  {
   "cell_type": "markdown",
   "metadata": {},
   "source": [
    "### CONCLUSIÓN GENERAL"
   ]
  },
  {
   "cell_type": "markdown",
   "metadata": {},
   "source": [
    "En conclusión, se importo el dataframe sin ninguna especificacion extra a python, se fueron agregando las bibliotecas que ibamos a utilizar durante el proyecto, posteriormente se analizaron las columnas del dataframe, para revisar su contenido y si requeria algun tratamiento especial, en este caso, se corrigieron los titulos de las columnas a minusculas, se cambiaron el tipo de user_score y se cambiaron los valores ausentes en critic_score y en rating se cambio el valor tbd por -1 para poder operar con esa columna, adicionalmente se creo una columna nueva la cual representaba el total de ventas por todos los medios de cada titulo.\n",
    "Posteriormente en el analisis de datos, se exploro el comportamiento de las ventas totales a traves del tiempo, el comportamiento de los juegos, los generos mas populares y las consolas mas populares, y encontramos que hubo un crecimiento a partir del año 2006, tambien se establecio el tiempo promedio de vida de las nuevas consolas. \n",
    "obteniendo como resultado que las consolas de Microsoft (Xbox) son mas longevas y tienen mayor numero de ventas.\n",
    "Igualmente, analisamos la posible relación entre las reseñas de los usuarios y las ventas generadas de lo cual podemos concluir que la relación es muy pobre para determinar el exito de un juego apartir de las reseñas por usuarios o por la critica.\n",
    "\n",
    "Se generarion perfiles de usuarios por region, logramos obtener mediante la creacion de usuarios por region los top 5 de plataformas por region y los top 5 de generos por region. mostrandonos patrones que nos son de suma importancia para tomar una decisión comercial, si quisieramos invertir en un nuevo juego.\n",
    "\n",
    "Finalmente, en la prueba de hipotesis, se comprobo a través del estudio con T-Student, que:\n",
    "* Las medias de las calificaciones por usuarios entre pc y xbox one son iguales, de la cual rechazamos nuestra hipotesis.\n",
    "* en segundo lugar, las media entre las calificaciones por usuarios entre el genero deportes y accion son diferente, de la cual rechazamos nuestra hipotesis, ya que si guardan relación entre ellas.\n",
    "\n",
    "Este proyecto nos permite aplicar en varios ambitos lo que hemos aprendido a traves de estos meses y llevarlo a la practica, puliendo nuestras habilidades y conjuntando el conocimiento acumulado de diferentes sprints, acercandonos cada vez más a nuestra meta como analistas de datos.\n"
   ]
  }
 ],
 "metadata": {
  "ExecuteTimeLog": [
   {
    "duration": 315,
    "start_time": "2024-05-28T21:12:57.804Z"
   },
   {
    "duration": 476,
    "start_time": "2024-05-28T21:13:02.010Z"
   },
   {
    "duration": 57,
    "start_time": "2024-05-28T21:13:03.559Z"
   },
   {
    "duration": 19,
    "start_time": "2024-05-28T21:13:14.315Z"
   },
   {
    "duration": 29,
    "start_time": "2024-05-28T22:25:21.865Z"
   },
   {
    "duration": 100,
    "start_time": "2024-05-28T22:44:29.374Z"
   },
   {
    "duration": 6,
    "start_time": "2024-05-28T22:44:42.281Z"
   },
   {
    "duration": 15,
    "start_time": "2024-05-28T22:44:52.720Z"
   },
   {
    "duration": 10,
    "start_time": "2024-05-28T22:45:12.173Z"
   },
   {
    "duration": 389,
    "start_time": "2024-05-29T01:27:49.400Z"
   },
   {
    "duration": 453,
    "start_time": "2024-05-29T01:31:59.283Z"
   },
   {
    "duration": 52,
    "start_time": "2024-05-29T01:31:59.740Z"
   },
   {
    "duration": 24,
    "start_time": "2024-05-29T01:31:59.795Z"
   },
   {
    "duration": 27,
    "start_time": "2024-05-29T01:31:59.823Z"
   },
   {
    "duration": 394,
    "start_time": "2024-05-29T01:31:59.855Z"
   },
   {
    "duration": 0,
    "start_time": "2024-05-29T01:32:00.252Z"
   },
   {
    "duration": 9,
    "start_time": "2024-05-29T01:32:08.108Z"
   },
   {
    "duration": 12,
    "start_time": "2024-05-29T01:32:10.400Z"
   },
   {
    "duration": 4,
    "start_time": "2024-05-29T01:39:57.740Z"
   },
   {
    "duration": 11,
    "start_time": "2024-05-29T01:39:59.972Z"
   },
   {
    "duration": 5,
    "start_time": "2024-05-29T01:40:12.906Z"
   },
   {
    "duration": 28,
    "start_time": "2024-05-29T01:40:14.450Z"
   },
   {
    "duration": 5,
    "start_time": "2024-05-29T01:40:55.468Z"
   },
   {
    "duration": 5,
    "start_time": "2024-05-29T01:41:12.604Z"
   },
   {
    "duration": 30,
    "start_time": "2024-05-29T01:41:35.285Z"
   },
   {
    "duration": 13,
    "start_time": "2024-05-29T01:41:49.163Z"
   },
   {
    "duration": 12,
    "start_time": "2024-05-29T01:42:41.154Z"
   },
   {
    "duration": 7,
    "start_time": "2024-05-29T01:43:26.570Z"
   },
   {
    "duration": 22,
    "start_time": "2024-05-29T02:22:55.596Z"
   },
   {
    "duration": 27,
    "start_time": "2024-05-29T02:22:59.991Z"
   },
   {
    "duration": 10,
    "start_time": "2024-05-29T02:23:06.001Z"
   },
   {
    "duration": 29,
    "start_time": "2024-05-29T02:24:02.441Z"
   },
   {
    "duration": 8,
    "start_time": "2024-05-29T02:24:05.172Z"
   },
   {
    "duration": 1122,
    "start_time": "2024-05-29T02:24:27.487Z"
   },
   {
    "duration": 27,
    "start_time": "2024-05-29T02:24:37.206Z"
   },
   {
    "duration": 38,
    "start_time": "2024-05-29T02:25:10.882Z"
   },
   {
    "duration": 31,
    "start_time": "2024-05-29T02:25:18.705Z"
   },
   {
    "duration": 23,
    "start_time": "2024-05-29T02:25:25.792Z"
   },
   {
    "duration": 18,
    "start_time": "2024-05-29T02:27:12.061Z"
   },
   {
    "duration": 318,
    "start_time": "2024-05-29T04:05:56.488Z"
   },
   {
    "duration": 428,
    "start_time": "2024-05-29T04:06:04.578Z"
   },
   {
    "duration": 57,
    "start_time": "2024-05-29T04:06:05.010Z"
   },
   {
    "duration": 19,
    "start_time": "2024-05-29T04:06:05.070Z"
   },
   {
    "duration": 42,
    "start_time": "2024-05-29T04:06:05.092Z"
   },
   {
    "duration": 5,
    "start_time": "2024-05-29T04:06:05.138Z"
   },
   {
    "duration": 7,
    "start_time": "2024-05-29T04:06:05.146Z"
   },
   {
    "duration": 8,
    "start_time": "2024-05-29T04:06:05.156Z"
   },
   {
    "duration": 16,
    "start_time": "2024-05-29T04:06:05.167Z"
   },
   {
    "duration": 15,
    "start_time": "2024-05-29T04:06:05.233Z"
   },
   {
    "duration": 1444,
    "start_time": "2024-05-29T04:06:05.252Z"
   },
   {
    "duration": 0,
    "start_time": "2024-05-29T04:06:06.700Z"
   },
   {
    "duration": 20,
    "start_time": "2024-05-29T04:07:08.187Z"
   },
   {
    "duration": 105,
    "start_time": "2024-05-29T04:07:49.835Z"
   },
   {
    "duration": 460,
    "start_time": "2024-05-29T04:08:47.467Z"
   },
   {
    "duration": 37,
    "start_time": "2024-05-29T04:08:47.932Z"
   },
   {
    "duration": 20,
    "start_time": "2024-05-29T04:08:47.971Z"
   },
   {
    "duration": 54,
    "start_time": "2024-05-29T04:08:47.993Z"
   },
   {
    "duration": 5,
    "start_time": "2024-05-29T04:08:48.052Z"
   },
   {
    "duration": 7,
    "start_time": "2024-05-29T04:08:48.060Z"
   },
   {
    "duration": 8,
    "start_time": "2024-05-29T04:08:48.071Z"
   },
   {
    "duration": 57,
    "start_time": "2024-05-29T04:08:48.082Z"
   },
   {
    "duration": 14,
    "start_time": "2024-05-29T04:08:48.142Z"
   },
   {
    "duration": 1455,
    "start_time": "2024-05-29T04:08:48.159Z"
   },
   {
    "duration": 0,
    "start_time": "2024-05-29T04:08:49.617Z"
   },
   {
    "duration": 19,
    "start_time": "2024-05-29T04:09:25.985Z"
   },
   {
    "duration": 19,
    "start_time": "2024-05-29T04:10:16.606Z"
   },
   {
    "duration": 12,
    "start_time": "2024-05-29T04:10:41.165Z"
   },
   {
    "duration": 6,
    "start_time": "2024-05-29T04:10:59.558Z"
   },
   {
    "duration": 7,
    "start_time": "2024-05-29T04:11:20.614Z"
   },
   {
    "duration": 94,
    "start_time": "2024-05-29T04:12:28.287Z"
   },
   {
    "duration": 47,
    "start_time": "2024-05-29T04:13:56.600Z"
   },
   {
    "duration": 8,
    "start_time": "2024-05-29T04:14:19.097Z"
   },
   {
    "duration": 7,
    "start_time": "2024-05-29T04:16:17.021Z"
   },
   {
    "duration": 343,
    "start_time": "2024-05-29T14:11:16.234Z"
   },
   {
    "duration": 520,
    "start_time": "2024-05-29T14:11:22.614Z"
   },
   {
    "duration": 56,
    "start_time": "2024-05-29T14:11:23.138Z"
   },
   {
    "duration": 23,
    "start_time": "2024-05-29T14:11:23.198Z"
   },
   {
    "duration": 35,
    "start_time": "2024-05-29T14:11:23.224Z"
   },
   {
    "duration": 174,
    "start_time": "2024-05-29T14:11:23.263Z"
   },
   {
    "duration": 0,
    "start_time": "2024-05-29T14:11:23.440Z"
   },
   {
    "duration": 0,
    "start_time": "2024-05-29T14:11:23.443Z"
   },
   {
    "duration": 0,
    "start_time": "2024-05-29T14:11:23.446Z"
   },
   {
    "duration": 0,
    "start_time": "2024-05-29T14:11:23.448Z"
   },
   {
    "duration": 0,
    "start_time": "2024-05-29T14:11:23.451Z"
   },
   {
    "duration": 0,
    "start_time": "2024-05-29T14:11:23.453Z"
   },
   {
    "duration": 0,
    "start_time": "2024-05-29T14:11:23.454Z"
   },
   {
    "duration": 8,
    "start_time": "2024-05-29T14:15:49.526Z"
   },
   {
    "duration": 25,
    "start_time": "2024-05-29T14:16:19.189Z"
   },
   {
    "duration": 50,
    "start_time": "2024-05-29T14:16:23.290Z"
   },
   {
    "duration": 415,
    "start_time": "2024-05-29T16:09:22.385Z"
   },
   {
    "duration": 49,
    "start_time": "2024-05-29T16:09:22.804Z"
   },
   {
    "duration": 40,
    "start_time": "2024-05-29T16:09:22.856Z"
   },
   {
    "duration": 6,
    "start_time": "2024-05-29T16:09:22.899Z"
   },
   {
    "duration": 7,
    "start_time": "2024-05-29T16:09:22.934Z"
   },
   {
    "duration": 7,
    "start_time": "2024-05-29T16:09:22.944Z"
   },
   {
    "duration": 16,
    "start_time": "2024-05-29T16:09:22.954Z"
   },
   {
    "duration": 15,
    "start_time": "2024-05-29T16:09:22.973Z"
   },
   {
    "duration": 45,
    "start_time": "2024-05-29T16:09:22.990Z"
   },
   {
    "duration": 9,
    "start_time": "2024-05-29T16:09:23.039Z"
   },
   {
    "duration": 134,
    "start_time": "2024-05-29T16:38:11.552Z"
   },
   {
    "duration": 20,
    "start_time": "2024-05-29T16:38:23.112Z"
   },
   {
    "duration": 18,
    "start_time": "2024-05-29T16:40:03.677Z"
   },
   {
    "duration": 1022,
    "start_time": "2024-05-29T16:40:16.310Z"
   },
   {
    "duration": 105,
    "start_time": "2024-05-29T16:41:03.927Z"
   },
   {
    "duration": 72,
    "start_time": "2024-05-29T16:41:11.479Z"
   },
   {
    "duration": 72,
    "start_time": "2024-05-29T16:41:16.269Z"
   },
   {
    "duration": 77,
    "start_time": "2024-05-29T16:41:40.721Z"
   },
   {
    "duration": 6,
    "start_time": "2024-05-29T16:41:48.566Z"
   },
   {
    "duration": 22,
    "start_time": "2024-05-29T16:42:03.824Z"
   },
   {
    "duration": 6,
    "start_time": "2024-05-29T16:42:15.044Z"
   },
   {
    "duration": 21,
    "start_time": "2024-05-29T16:42:27.056Z"
   },
   {
    "duration": 6,
    "start_time": "2024-05-29T16:42:33.212Z"
   },
   {
    "duration": 75,
    "start_time": "2024-05-29T16:43:19.128Z"
   },
   {
    "duration": 4,
    "start_time": "2024-05-29T16:43:38.042Z"
   },
   {
    "duration": 17,
    "start_time": "2024-05-29T16:43:48.822Z"
   },
   {
    "duration": 617,
    "start_time": "2024-05-29T16:51:31.620Z"
   },
   {
    "duration": 6,
    "start_time": "2024-05-29T16:52:13.478Z"
   },
   {
    "duration": 5,
    "start_time": "2024-05-29T16:54:36.806Z"
   },
   {
    "duration": 7,
    "start_time": "2024-05-29T16:54:54.769Z"
   },
   {
    "duration": 23,
    "start_time": "2024-05-29T16:55:12.605Z"
   },
   {
    "duration": 8,
    "start_time": "2024-05-29T16:55:54.088Z"
   },
   {
    "duration": 7,
    "start_time": "2024-05-29T16:56:03.809Z"
   },
   {
    "duration": 5,
    "start_time": "2024-05-29T17:16:25.963Z"
   },
   {
    "duration": 200,
    "start_time": "2024-05-29T17:16:54.979Z"
   },
   {
    "duration": 72,
    "start_time": "2024-05-29T17:21:14.187Z"
   },
   {
    "duration": 74,
    "start_time": "2024-05-29T17:21:43.456Z"
   },
   {
    "duration": 756,
    "start_time": "2024-05-29T17:21:58.730Z"
   },
   {
    "duration": 24,
    "start_time": "2024-05-29T17:34:24.337Z"
   },
   {
    "duration": 5,
    "start_time": "2024-05-29T17:34:29.360Z"
   },
   {
    "duration": 5,
    "start_time": "2024-05-29T17:34:36.588Z"
   },
   {
    "duration": 6,
    "start_time": "2024-05-29T17:34:40.231Z"
   },
   {
    "duration": 22,
    "start_time": "2024-05-29T17:34:49.612Z"
   },
   {
    "duration": 22,
    "start_time": "2024-05-29T17:34:58.977Z"
   },
   {
    "duration": 10,
    "start_time": "2024-05-29T17:36:02.946Z"
   },
   {
    "duration": 6,
    "start_time": "2024-05-29T17:36:13.534Z"
   },
   {
    "duration": 27,
    "start_time": "2024-05-29T17:37:00.228Z"
   },
   {
    "duration": 23,
    "start_time": "2024-05-29T17:37:12.589Z"
   },
   {
    "duration": 6,
    "start_time": "2024-05-29T17:38:37.810Z"
   },
   {
    "duration": 6,
    "start_time": "2024-05-29T17:38:45.583Z"
   },
   {
    "duration": 8,
    "start_time": "2024-05-29T17:38:52.935Z"
   },
   {
    "duration": 6,
    "start_time": "2024-05-29T17:39:03.303Z"
   },
   {
    "duration": 465,
    "start_time": "2024-05-29T17:39:33.113Z"
   },
   {
    "duration": 51,
    "start_time": "2024-05-29T17:39:33.583Z"
   },
   {
    "duration": 43,
    "start_time": "2024-05-29T17:39:33.637Z"
   },
   {
    "duration": 6,
    "start_time": "2024-05-29T17:39:33.684Z"
   },
   {
    "duration": 38,
    "start_time": "2024-05-29T17:39:33.694Z"
   },
   {
    "duration": 8,
    "start_time": "2024-05-29T17:39:33.735Z"
   },
   {
    "duration": 16,
    "start_time": "2024-05-29T17:39:33.746Z"
   },
   {
    "duration": 15,
    "start_time": "2024-05-29T17:39:33.764Z"
   },
   {
    "duration": 53,
    "start_time": "2024-05-29T17:39:33.782Z"
   },
   {
    "duration": 6,
    "start_time": "2024-05-29T17:39:33.840Z"
   },
   {
    "duration": 360,
    "start_time": "2024-05-29T17:39:33.849Z"
   },
   {
    "duration": 0,
    "start_time": "2024-05-29T17:39:34.211Z"
   },
   {
    "duration": 0,
    "start_time": "2024-05-29T17:39:34.213Z"
   },
   {
    "duration": 814,
    "start_time": "2024-05-29T17:41:34.695Z"
   },
   {
    "duration": 413,
    "start_time": "2024-05-29T17:42:09.884Z"
   },
   {
    "duration": 46,
    "start_time": "2024-05-29T17:42:10.301Z"
   },
   {
    "duration": 40,
    "start_time": "2024-05-29T17:42:10.354Z"
   },
   {
    "duration": 162,
    "start_time": "2024-05-29T17:42:10.397Z"
   },
   {
    "duration": 0,
    "start_time": "2024-05-29T17:42:10.562Z"
   },
   {
    "duration": 0,
    "start_time": "2024-05-29T17:42:10.564Z"
   },
   {
    "duration": 0,
    "start_time": "2024-05-29T17:42:10.567Z"
   },
   {
    "duration": 0,
    "start_time": "2024-05-29T17:42:10.570Z"
   },
   {
    "duration": 0,
    "start_time": "2024-05-29T17:42:10.573Z"
   },
   {
    "duration": 0,
    "start_time": "2024-05-29T17:42:10.576Z"
   },
   {
    "duration": 0,
    "start_time": "2024-05-29T17:42:10.578Z"
   },
   {
    "duration": 0,
    "start_time": "2024-05-29T17:42:10.580Z"
   },
   {
    "duration": 0,
    "start_time": "2024-05-29T17:42:10.583Z"
   },
   {
    "duration": 1290,
    "start_time": "2024-05-29T17:42:34.201Z"
   },
   {
    "duration": 394,
    "start_time": "2024-05-29T17:43:24.265Z"
   },
   {
    "duration": 133,
    "start_time": "2024-05-29T17:43:58.436Z"
   },
   {
    "duration": 99,
    "start_time": "2024-05-29T17:45:26.333Z"
   },
   {
    "duration": 6,
    "start_time": "2024-05-29T17:46:35.432Z"
   },
   {
    "duration": 5,
    "start_time": "2024-05-29T17:46:38.197Z"
   },
   {
    "duration": 22,
    "start_time": "2024-05-29T17:46:51.783Z"
   },
   {
    "duration": 5,
    "start_time": "2024-05-29T17:47:11.924Z"
   },
   {
    "duration": 22,
    "start_time": "2024-05-29T17:47:16.140Z"
   },
   {
    "duration": 479,
    "start_time": "2024-05-29T17:47:35.606Z"
   },
   {
    "duration": 51,
    "start_time": "2024-05-29T17:47:36.089Z"
   },
   {
    "duration": 42,
    "start_time": "2024-05-29T17:47:36.144Z"
   },
   {
    "duration": 17,
    "start_time": "2024-05-29T17:47:36.188Z"
   },
   {
    "duration": 6,
    "start_time": "2024-05-29T17:47:36.232Z"
   },
   {
    "duration": 8,
    "start_time": "2024-05-29T17:47:36.241Z"
   },
   {
    "duration": 8,
    "start_time": "2024-05-29T17:47:36.251Z"
   },
   {
    "duration": 17,
    "start_time": "2024-05-29T17:47:36.263Z"
   },
   {
    "duration": 58,
    "start_time": "2024-05-29T17:47:36.282Z"
   },
   {
    "duration": 8,
    "start_time": "2024-05-29T17:47:36.344Z"
   },
   {
    "duration": 6,
    "start_time": "2024-05-29T17:47:36.355Z"
   },
   {
    "duration": 9,
    "start_time": "2024-05-29T17:47:36.365Z"
   },
   {
    "duration": 52,
    "start_time": "2024-05-29T17:47:36.377Z"
   },
   {
    "duration": 14,
    "start_time": "2024-05-29T17:50:31.720Z"
   },
   {
    "duration": 13,
    "start_time": "2024-05-29T18:32:22.069Z"
   },
   {
    "duration": 380,
    "start_time": "2024-05-29T18:33:56.112Z"
   },
   {
    "duration": 10,
    "start_time": "2024-05-29T18:34:02.976Z"
   },
   {
    "duration": 13,
    "start_time": "2024-05-29T18:34:12.281Z"
   },
   {
    "duration": 9,
    "start_time": "2024-05-29T18:34:47.250Z"
   },
   {
    "duration": 11,
    "start_time": "2024-05-29T18:34:49.337Z"
   },
   {
    "duration": 817,
    "start_time": "2024-05-29T18:36:00.778Z"
   },
   {
    "duration": 6,
    "start_time": "2024-05-29T18:36:11.125Z"
   },
   {
    "duration": 7,
    "start_time": "2024-05-29T18:36:35.576Z"
   },
   {
    "duration": 23,
    "start_time": "2024-05-29T18:37:40.936Z"
   },
   {
    "duration": 19,
    "start_time": "2024-05-29T18:38:34.643Z"
   },
   {
    "duration": 6,
    "start_time": "2024-05-29T18:39:40.355Z"
   },
   {
    "duration": 7,
    "start_time": "2024-05-29T18:39:53.605Z"
   },
   {
    "duration": 83,
    "start_time": "2024-05-29T18:41:35.576Z"
   },
   {
    "duration": 6,
    "start_time": "2024-05-29T18:42:01.297Z"
   },
   {
    "duration": 24,
    "start_time": "2024-05-29T18:53:08.058Z"
   },
   {
    "duration": 5,
    "start_time": "2024-05-29T18:53:25.823Z"
   },
   {
    "duration": 8,
    "start_time": "2024-05-29T18:53:35.326Z"
   },
   {
    "duration": 27,
    "start_time": "2024-05-29T18:54:46.826Z"
   },
   {
    "duration": 10,
    "start_time": "2024-05-29T18:55:07.505Z"
   },
   {
    "duration": 336,
    "start_time": "2024-05-29T18:56:18.583Z"
   },
   {
    "duration": 6,
    "start_time": "2024-05-29T18:56:42.478Z"
   },
   {
    "duration": 10,
    "start_time": "2024-05-29T18:56:58.013Z"
   },
   {
    "duration": 25,
    "start_time": "2024-05-29T18:57:26.201Z"
   },
   {
    "duration": 10,
    "start_time": "2024-05-29T18:57:31.738Z"
   },
   {
    "duration": 329,
    "start_time": "2024-05-29T20:20:10.528Z"
   },
   {
    "duration": 483,
    "start_time": "2024-05-29T20:20:47.643Z"
   },
   {
    "duration": 53,
    "start_time": "2024-05-29T20:20:48.130Z"
   },
   {
    "duration": 48,
    "start_time": "2024-05-29T20:20:48.185Z"
   },
   {
    "duration": 17,
    "start_time": "2024-05-29T20:20:48.236Z"
   },
   {
    "duration": 6,
    "start_time": "2024-05-29T20:20:48.257Z"
   },
   {
    "duration": 15,
    "start_time": "2024-05-29T20:20:48.266Z"
   },
   {
    "duration": 49,
    "start_time": "2024-05-29T20:20:48.284Z"
   },
   {
    "duration": 12,
    "start_time": "2024-05-29T20:20:48.336Z"
   },
   {
    "duration": 13,
    "start_time": "2024-05-29T20:20:48.350Z"
   },
   {
    "duration": 9,
    "start_time": "2024-05-29T20:20:48.365Z"
   },
   {
    "duration": 7,
    "start_time": "2024-05-29T20:20:48.377Z"
   },
   {
    "duration": 9,
    "start_time": "2024-05-29T20:20:48.434Z"
   },
   {
    "duration": 9,
    "start_time": "2024-05-29T20:20:48.445Z"
   },
   {
    "duration": 2162,
    "start_time": "2024-05-29T21:24:18.172Z"
   },
   {
    "duration": 9,
    "start_time": "2024-05-29T21:24:38.169Z"
   },
   {
    "duration": 9,
    "start_time": "2024-05-29T21:25:49.716Z"
   },
   {
    "duration": 8,
    "start_time": "2024-05-29T21:26:19.937Z"
   },
   {
    "duration": 35,
    "start_time": "2024-05-29T21:26:33.935Z"
   },
   {
    "duration": 9,
    "start_time": "2024-05-29T21:26:40.116Z"
   },
   {
    "duration": 7,
    "start_time": "2024-05-29T21:32:29.899Z"
   },
   {
    "duration": 38,
    "start_time": "2024-05-29T21:52:26.293Z"
   },
   {
    "duration": 228,
    "start_time": "2024-05-29T21:52:34.834Z"
   },
   {
    "duration": 7,
    "start_time": "2024-05-29T21:52:50.580Z"
   },
   {
    "duration": 7,
    "start_time": "2024-05-29T21:53:05.964Z"
   },
   {
    "duration": 868,
    "start_time": "2024-05-29T21:54:43.612Z"
   },
   {
    "duration": 178,
    "start_time": "2024-05-29T21:54:55.161Z"
   },
   {
    "duration": 8,
    "start_time": "2024-05-29T21:55:03.028Z"
   },
   {
    "duration": 11,
    "start_time": "2024-05-29T22:00:15.124Z"
   },
   {
    "duration": 455,
    "start_time": "2024-05-29T22:00:27.253Z"
   },
   {
    "duration": 48,
    "start_time": "2024-05-29T22:00:27.712Z"
   },
   {
    "duration": 51,
    "start_time": "2024-05-29T22:00:27.764Z"
   },
   {
    "duration": 22,
    "start_time": "2024-05-29T22:00:27.834Z"
   },
   {
    "duration": 7,
    "start_time": "2024-05-29T22:00:27.861Z"
   },
   {
    "duration": 20,
    "start_time": "2024-05-29T22:00:27.873Z"
   },
   {
    "duration": 47,
    "start_time": "2024-05-29T22:00:27.895Z"
   },
   {
    "duration": 13,
    "start_time": "2024-05-29T22:00:27.945Z"
   },
   {
    "duration": 17,
    "start_time": "2024-05-29T22:00:27.962Z"
   },
   {
    "duration": 51,
    "start_time": "2024-05-29T22:00:27.982Z"
   },
   {
    "duration": 16,
    "start_time": "2024-05-29T22:00:28.036Z"
   },
   {
    "duration": 6,
    "start_time": "2024-05-29T22:00:28.055Z"
   },
   {
    "duration": 11,
    "start_time": "2024-05-29T22:00:28.065Z"
   },
   {
    "duration": 52,
    "start_time": "2024-05-29T22:00:28.082Z"
   },
   {
    "duration": 11,
    "start_time": "2024-05-29T22:00:28.138Z"
   },
   {
    "duration": 1371,
    "start_time": "2024-05-29T22:00:46.913Z"
   },
   {
    "duration": 10,
    "start_time": "2024-05-29T22:00:58.744Z"
   },
   {
    "duration": 13,
    "start_time": "2024-05-29T22:02:55.364Z"
   },
   {
    "duration": 5,
    "start_time": "2024-05-29T22:04:12.093Z"
   },
   {
    "duration": 13,
    "start_time": "2024-05-29T22:04:21.953Z"
   },
   {
    "duration": 11,
    "start_time": "2024-05-29T22:04:32.960Z"
   },
   {
    "duration": 13,
    "start_time": "2024-05-29T22:04:49.835Z"
   },
   {
    "duration": 12,
    "start_time": "2024-05-29T22:05:08.868Z"
   },
   {
    "duration": 13,
    "start_time": "2024-05-29T22:05:30.689Z"
   },
   {
    "duration": 207,
    "start_time": "2024-05-29T22:39:13.203Z"
   },
   {
    "duration": 7,
    "start_time": "2024-05-29T22:39:38.811Z"
   },
   {
    "duration": 4539,
    "start_time": "2024-05-29T22:41:44.930Z"
   },
   {
    "duration": 1258,
    "start_time": "2024-05-29T22:41:51.159Z"
   },
   {
    "duration": 46,
    "start_time": "2024-05-29T22:41:52.421Z"
   },
   {
    "duration": 37,
    "start_time": "2024-05-29T22:41:52.470Z"
   },
   {
    "duration": 39,
    "start_time": "2024-05-29T22:41:52.509Z"
   },
   {
    "duration": 7,
    "start_time": "2024-05-29T22:41:52.552Z"
   },
   {
    "duration": 15,
    "start_time": "2024-05-29T22:41:52.562Z"
   },
   {
    "duration": 13,
    "start_time": "2024-05-29T22:41:52.580Z"
   },
   {
    "duration": 13,
    "start_time": "2024-05-29T22:41:52.635Z"
   },
   {
    "duration": 13,
    "start_time": "2024-05-29T22:41:52.652Z"
   },
   {
    "duration": 10,
    "start_time": "2024-05-29T22:41:52.668Z"
   },
   {
    "duration": 65,
    "start_time": "2024-05-29T22:41:52.681Z"
   },
   {
    "duration": 7,
    "start_time": "2024-05-29T22:41:52.749Z"
   },
   {
    "duration": 9,
    "start_time": "2024-05-29T22:41:52.759Z"
   },
   {
    "duration": 8,
    "start_time": "2024-05-29T22:41:52.774Z"
   },
   {
    "duration": 50,
    "start_time": "2024-05-29T22:41:52.785Z"
   },
   {
    "duration": 8,
    "start_time": "2024-05-29T22:41:52.838Z"
   },
   {
    "duration": 8,
    "start_time": "2024-05-29T22:45:20.548Z"
   },
   {
    "duration": 368,
    "start_time": "2024-05-30T02:34:31.165Z"
   },
   {
    "duration": 5132,
    "start_time": "2024-05-30T02:34:41.736Z"
   },
   {
    "duration": 63,
    "start_time": "2024-05-30T02:34:46.872Z"
   },
   {
    "duration": 42,
    "start_time": "2024-05-30T02:34:46.938Z"
   },
   {
    "duration": 44,
    "start_time": "2024-05-30T02:34:46.983Z"
   },
   {
    "duration": 6,
    "start_time": "2024-05-30T02:34:47.032Z"
   },
   {
    "duration": 17,
    "start_time": "2024-05-30T02:34:47.042Z"
   },
   {
    "duration": 17,
    "start_time": "2024-05-30T02:34:47.062Z"
   },
   {
    "duration": 50,
    "start_time": "2024-05-30T02:34:47.082Z"
   },
   {
    "duration": 16,
    "start_time": "2024-05-30T02:34:47.135Z"
   },
   {
    "duration": 9,
    "start_time": "2024-05-30T02:34:47.155Z"
   },
   {
    "duration": 1735,
    "start_time": "2024-05-30T02:34:47.169Z"
   },
   {
    "duration": 0,
    "start_time": "2024-05-30T02:34:48.908Z"
   },
   {
    "duration": 0,
    "start_time": "2024-05-30T02:34:48.910Z"
   },
   {
    "duration": 0,
    "start_time": "2024-05-30T02:34:48.923Z"
   },
   {
    "duration": 0,
    "start_time": "2024-05-30T02:34:48.925Z"
   },
   {
    "duration": 0,
    "start_time": "2024-05-30T02:34:48.927Z"
   },
   {
    "duration": 0,
    "start_time": "2024-05-30T02:34:48.929Z"
   },
   {
    "duration": 0,
    "start_time": "2024-05-30T02:34:48.932Z"
   },
   {
    "duration": 103,
    "start_time": "2024-05-30T02:40:52.176Z"
   },
   {
    "duration": 11,
    "start_time": "2024-05-30T02:42:17.336Z"
   },
   {
    "duration": 49,
    "start_time": "2024-05-30T02:42:30.641Z"
   },
   {
    "duration": 27,
    "start_time": "2024-05-30T02:42:36.164Z"
   },
   {
    "duration": 31,
    "start_time": "2024-05-30T02:42:48.974Z"
   },
   {
    "duration": 919,
    "start_time": "2024-05-30T03:00:26.699Z"
   },
   {
    "duration": 289,
    "start_time": "2024-05-30T03:00:58.633Z"
   },
   {
    "duration": 8,
    "start_time": "2024-05-30T03:01:11.978Z"
   },
   {
    "duration": 16,
    "start_time": "2024-05-30T03:01:13.889Z"
   },
   {
    "duration": 172,
    "start_time": "2024-05-30T03:01:20.480Z"
   },
   {
    "duration": 14,
    "start_time": "2024-05-30T03:01:27.370Z"
   },
   {
    "duration": 160,
    "start_time": "2024-05-30T03:01:30.186Z"
   },
   {
    "duration": 118,
    "start_time": "2024-05-30T03:01:59.288Z"
   },
   {
    "duration": 13,
    "start_time": "2024-05-30T03:02:11.270Z"
   },
   {
    "duration": 165,
    "start_time": "2024-05-30T03:02:13.912Z"
   },
   {
    "duration": 1413,
    "start_time": "2024-05-30T03:02:36.723Z"
   },
   {
    "duration": 42,
    "start_time": "2024-05-30T03:02:38.140Z"
   },
   {
    "duration": 65,
    "start_time": "2024-05-30T03:02:38.186Z"
   },
   {
    "duration": 20,
    "start_time": "2024-05-30T03:02:38.255Z"
   },
   {
    "duration": 7,
    "start_time": "2024-05-30T03:02:38.280Z"
   },
   {
    "duration": 17,
    "start_time": "2024-05-30T03:02:38.323Z"
   },
   {
    "duration": 12,
    "start_time": "2024-05-30T03:02:38.343Z"
   },
   {
    "duration": 10,
    "start_time": "2024-05-30T03:02:38.358Z"
   },
   {
    "duration": 56,
    "start_time": "2024-05-30T03:02:38.372Z"
   },
   {
    "duration": 8,
    "start_time": "2024-05-30T03:02:38.431Z"
   },
   {
    "duration": 29,
    "start_time": "2024-05-30T03:02:38.446Z"
   },
   {
    "duration": 59,
    "start_time": "2024-05-30T03:02:38.479Z"
   },
   {
    "duration": 8,
    "start_time": "2024-05-30T03:02:38.543Z"
   },
   {
    "duration": 10,
    "start_time": "2024-05-30T03:02:38.557Z"
   },
   {
    "duration": 58,
    "start_time": "2024-05-30T03:02:38.570Z"
   },
   {
    "duration": 14,
    "start_time": "2024-05-30T03:02:38.632Z"
   },
   {
    "duration": 12,
    "start_time": "2024-05-30T03:02:38.652Z"
   },
   {
    "duration": 9,
    "start_time": "2024-05-30T03:02:38.723Z"
   },
   {
    "duration": 1149,
    "start_time": "2024-05-30T03:03:02.484Z"
   },
   {
    "duration": 17,
    "start_time": "2024-05-30T03:03:26.995Z"
   },
   {
    "duration": 15,
    "start_time": "2024-05-30T03:09:30.402Z"
   },
   {
    "duration": 327,
    "start_time": "2024-05-30T16:48:07.862Z"
   },
   {
    "duration": 5004,
    "start_time": "2024-05-30T16:48:17.258Z"
   },
   {
    "duration": 59,
    "start_time": "2024-05-30T16:48:22.266Z"
   },
   {
    "duration": 38,
    "start_time": "2024-05-30T16:48:22.327Z"
   },
   {
    "duration": 18,
    "start_time": "2024-05-30T16:48:22.368Z"
   },
   {
    "duration": 5,
    "start_time": "2024-05-30T16:48:22.392Z"
   },
   {
    "duration": 19,
    "start_time": "2024-05-30T16:48:22.432Z"
   },
   {
    "duration": 13,
    "start_time": "2024-05-30T16:48:22.455Z"
   },
   {
    "duration": 10,
    "start_time": "2024-05-30T16:48:22.472Z"
   },
   {
    "duration": 50,
    "start_time": "2024-05-30T16:48:22.485Z"
   },
   {
    "duration": 9,
    "start_time": "2024-05-30T16:48:22.538Z"
   },
   {
    "duration": 27,
    "start_time": "2024-05-30T16:48:22.550Z"
   },
   {
    "duration": 53,
    "start_time": "2024-05-30T16:48:22.579Z"
   },
   {
    "duration": 8,
    "start_time": "2024-05-30T16:48:22.635Z"
   },
   {
    "duration": 10,
    "start_time": "2024-05-30T16:48:22.649Z"
   },
   {
    "duration": 11,
    "start_time": "2024-05-30T16:48:22.662Z"
   },
   {
    "duration": 54,
    "start_time": "2024-05-30T16:48:22.677Z"
   },
   {
    "duration": 12,
    "start_time": "2024-05-30T16:48:22.735Z"
   },
   {
    "duration": 6,
    "start_time": "2024-05-30T16:52:29.013Z"
   },
   {
    "duration": 8,
    "start_time": "2024-05-30T16:52:38.299Z"
   },
   {
    "duration": 11,
    "start_time": "2024-05-30T16:53:51.505Z"
   },
   {
    "duration": 6,
    "start_time": "2024-05-30T16:54:04.216Z"
   },
   {
    "duration": 14,
    "start_time": "2024-05-30T16:54:05.939Z"
   },
   {
    "duration": 26,
    "start_time": "2024-05-30T17:00:06.937Z"
   },
   {
    "duration": 337,
    "start_time": "2024-05-30T17:36:35.247Z"
   },
   {
    "duration": 8,
    "start_time": "2024-05-30T17:37:07.362Z"
   },
   {
    "duration": 319,
    "start_time": "2024-05-30T17:46:37.620Z"
   },
   {
    "duration": 7,
    "start_time": "2024-05-30T17:52:20.505Z"
   },
   {
    "duration": 7,
    "start_time": "2024-05-30T17:52:25.449Z"
   },
   {
    "duration": 200,
    "start_time": "2024-05-30T17:54:14.077Z"
   },
   {
    "duration": 25,
    "start_time": "2024-05-30T17:54:33.211Z"
   },
   {
    "duration": 24,
    "start_time": "2024-05-30T17:54:48.673Z"
   },
   {
    "duration": 22,
    "start_time": "2024-05-30T18:01:09.182Z"
   },
   {
    "duration": 927,
    "start_time": "2024-05-30T18:01:41.647Z"
   },
   {
    "duration": 6,
    "start_time": "2024-05-30T18:46:10.315Z"
   },
   {
    "duration": 174,
    "start_time": "2024-05-30T18:48:19.446Z"
   },
   {
    "duration": 473,
    "start_time": "2024-05-30T18:49:38.516Z"
   },
   {
    "duration": 212,
    "start_time": "2024-05-30T18:50:05.399Z"
   },
   {
    "duration": 191,
    "start_time": "2024-05-30T18:50:19.275Z"
   },
   {
    "duration": 188,
    "start_time": "2024-05-30T18:50:51.174Z"
   },
   {
    "duration": 172,
    "start_time": "2024-05-30T18:51:02.958Z"
   },
   {
    "duration": 6,
    "start_time": "2024-05-30T18:51:17.503Z"
   },
   {
    "duration": 6,
    "start_time": "2024-05-30T18:51:22.801Z"
   },
   {
    "duration": 906,
    "start_time": "2024-05-30T18:51:28.485Z"
   },
   {
    "duration": 122,
    "start_time": "2024-05-30T18:51:50.110Z"
   },
   {
    "duration": 411,
    "start_time": "2024-05-30T18:53:36.952Z"
   },
   {
    "duration": 324,
    "start_time": "2024-05-31T00:52:16.208Z"
   },
   {
    "duration": 5002,
    "start_time": "2024-05-31T00:52:24.015Z"
   },
   {
    "duration": 56,
    "start_time": "2024-05-31T00:52:29.020Z"
   },
   {
    "duration": 41,
    "start_time": "2024-05-31T00:52:29.079Z"
   },
   {
    "duration": 20,
    "start_time": "2024-05-31T00:52:29.126Z"
   },
   {
    "duration": 8,
    "start_time": "2024-05-31T00:52:29.149Z"
   },
   {
    "duration": 56,
    "start_time": "2024-05-31T00:52:29.160Z"
   },
   {
    "duration": 11,
    "start_time": "2024-05-31T00:52:29.219Z"
   },
   {
    "duration": 8,
    "start_time": "2024-05-31T00:52:29.233Z"
   },
   {
    "duration": 13,
    "start_time": "2024-05-31T00:52:29.244Z"
   },
   {
    "duration": 45,
    "start_time": "2024-05-31T00:52:29.262Z"
   },
   {
    "duration": 27,
    "start_time": "2024-05-31T00:52:29.310Z"
   },
   {
    "duration": 382,
    "start_time": "2024-05-31T00:52:29.340Z"
   },
   {
    "duration": 9,
    "start_time": "2024-05-31T00:52:29.725Z"
   },
   {
    "duration": 424,
    "start_time": "2024-05-31T00:52:29.737Z"
   },
   {
    "duration": 0,
    "start_time": "2024-05-31T00:52:30.164Z"
   },
   {
    "duration": 0,
    "start_time": "2024-05-31T00:52:30.166Z"
   },
   {
    "duration": 0,
    "start_time": "2024-05-31T00:52:30.168Z"
   },
   {
    "duration": 0,
    "start_time": "2024-05-31T00:52:30.171Z"
   },
   {
    "duration": 0,
    "start_time": "2024-05-31T00:52:30.173Z"
   },
   {
    "duration": 1046,
    "start_time": "2024-05-31T00:56:20.969Z"
   },
   {
    "duration": 919,
    "start_time": "2024-05-31T00:56:26.427Z"
   },
   {
    "duration": 4882,
    "start_time": "2024-05-31T16:12:17.685Z"
   },
   {
    "duration": 55,
    "start_time": "2024-05-31T16:12:22.571Z"
   },
   {
    "duration": 40,
    "start_time": "2024-05-31T16:12:22.628Z"
   },
   {
    "duration": 21,
    "start_time": "2024-05-31T16:12:22.675Z"
   },
   {
    "duration": 35,
    "start_time": "2024-05-31T16:12:22.700Z"
   },
   {
    "duration": 17,
    "start_time": "2024-05-31T16:12:22.739Z"
   },
   {
    "duration": 15,
    "start_time": "2024-05-31T16:12:22.759Z"
   },
   {
    "duration": 8,
    "start_time": "2024-05-31T16:12:22.777Z"
   },
   {
    "duration": 53,
    "start_time": "2024-05-31T16:12:22.788Z"
   },
   {
    "duration": 8,
    "start_time": "2024-05-31T16:12:22.846Z"
   },
   {
    "duration": 24,
    "start_time": "2024-05-31T16:12:22.857Z"
   },
   {
    "duration": 406,
    "start_time": "2024-05-31T16:12:22.884Z"
   },
   {
    "duration": 10,
    "start_time": "2024-05-31T16:12:23.293Z"
   },
   {
    "duration": 936,
    "start_time": "2024-05-31T16:12:23.307Z"
   },
   {
    "duration": 1357,
    "start_time": "2024-05-31T16:12:24.246Z"
   },
   {
    "duration": 0,
    "start_time": "2024-05-31T16:12:25.607Z"
   },
   {
    "duration": 0,
    "start_time": "2024-05-31T16:12:25.609Z"
   },
   {
    "duration": 0,
    "start_time": "2024-05-31T16:12:25.611Z"
   },
   {
    "duration": 0,
    "start_time": "2024-05-31T16:12:25.614Z"
   },
   {
    "duration": 8,
    "start_time": "2024-05-31T16:15:19.628Z"
   },
   {
    "duration": 29,
    "start_time": "2024-05-31T16:15:35.390Z"
   },
   {
    "duration": 318,
    "start_time": "2024-05-31T16:15:42.974Z"
   },
   {
    "duration": 5,
    "start_time": "2024-05-31T16:16:35.866Z"
   },
   {
    "duration": 266,
    "start_time": "2024-05-31T16:25:55.100Z"
   },
   {
    "duration": 265,
    "start_time": "2024-05-31T16:26:01.433Z"
   },
   {
    "duration": 250,
    "start_time": "2024-05-31T16:27:56.272Z"
   },
   {
    "duration": 254,
    "start_time": "2024-05-31T16:28:05.329Z"
   },
   {
    "duration": 237,
    "start_time": "2024-05-31T16:28:11.425Z"
   },
   {
    "duration": 11,
    "start_time": "2024-05-31T16:40:15.579Z"
   },
   {
    "duration": 10,
    "start_time": "2024-05-31T16:40:18.119Z"
   },
   {
    "duration": 31,
    "start_time": "2024-05-31T16:40:27.100Z"
   },
   {
    "duration": 27,
    "start_time": "2024-05-31T16:41:20.105Z"
   },
   {
    "duration": 7,
    "start_time": "2024-05-31T17:07:13.729Z"
   },
   {
    "duration": 5,
    "start_time": "2024-05-31T17:07:48.639Z"
   },
   {
    "duration": 5,
    "start_time": "2024-05-31T17:08:00.722Z"
   },
   {
    "duration": 4,
    "start_time": "2024-05-31T17:08:04.090Z"
   },
   {
    "duration": 14,
    "start_time": "2024-05-31T17:08:28.339Z"
   },
   {
    "duration": 11,
    "start_time": "2024-05-31T17:08:40.277Z"
   },
   {
    "duration": 8,
    "start_time": "2024-05-31T17:08:59.282Z"
   },
   {
    "duration": 107,
    "start_time": "2024-05-31T17:09:58.067Z"
   },
   {
    "duration": 212,
    "start_time": "2024-05-31T17:10:04.063Z"
   },
   {
    "duration": 535,
    "start_time": "2024-05-31T17:16:53.866Z"
   },
   {
    "duration": 416,
    "start_time": "2024-05-31T17:17:08.829Z"
   },
   {
    "duration": 1234,
    "start_time": "2024-05-31T18:41:55.742Z"
   },
   {
    "duration": 56,
    "start_time": "2024-05-31T18:41:56.979Z"
   },
   {
    "duration": 41,
    "start_time": "2024-05-31T18:41:57.040Z"
   },
   {
    "duration": 19,
    "start_time": "2024-05-31T18:41:57.084Z"
   },
   {
    "duration": 6,
    "start_time": "2024-05-31T18:41:57.131Z"
   },
   {
    "duration": 15,
    "start_time": "2024-05-31T18:41:57.140Z"
   },
   {
    "duration": 11,
    "start_time": "2024-05-31T18:41:57.158Z"
   },
   {
    "duration": 10,
    "start_time": "2024-05-31T18:41:57.173Z"
   },
   {
    "duration": 11,
    "start_time": "2024-05-31T18:41:57.230Z"
   },
   {
    "duration": 8,
    "start_time": "2024-05-31T18:41:57.244Z"
   },
   {
    "duration": 27,
    "start_time": "2024-05-31T18:41:57.254Z"
   },
   {
    "duration": 394,
    "start_time": "2024-05-31T18:41:57.283Z"
   },
   {
    "duration": 10,
    "start_time": "2024-05-31T18:41:57.680Z"
   },
   {
    "duration": 975,
    "start_time": "2024-05-31T18:41:57.696Z"
   },
   {
    "duration": 305,
    "start_time": "2024-05-31T18:41:58.674Z"
   },
   {
    "duration": 243,
    "start_time": "2024-05-31T18:41:58.982Z"
   },
   {
    "duration": 33,
    "start_time": "2024-05-31T18:41:59.232Z"
   },
   {
    "duration": 7,
    "start_time": "2024-05-31T18:41:59.268Z"
   },
   {
    "duration": 17,
    "start_time": "2024-05-31T18:41:59.278Z"
   },
   {
    "duration": 250,
    "start_time": "2024-05-31T18:41:59.298Z"
   },
   {
    "duration": 406,
    "start_time": "2024-05-31T18:41:59.553Z"
   },
   {
    "duration": 0,
    "start_time": "2024-05-31T18:41:59.962Z"
   },
   {
    "duration": 0,
    "start_time": "2024-05-31T18:41:59.964Z"
   },
   {
    "duration": 315,
    "start_time": "2024-05-31T20:34:13.742Z"
   },
   {
    "duration": 4977,
    "start_time": "2024-05-31T20:34:22.140Z"
   },
   {
    "duration": 66,
    "start_time": "2024-05-31T20:34:27.121Z"
   },
   {
    "duration": 40,
    "start_time": "2024-05-31T20:34:27.190Z"
   },
   {
    "duration": 17,
    "start_time": "2024-05-31T20:34:27.235Z"
   },
   {
    "duration": 7,
    "start_time": "2024-05-31T20:34:27.254Z"
   },
   {
    "duration": 15,
    "start_time": "2024-05-31T20:34:27.264Z"
   },
   {
    "duration": 50,
    "start_time": "2024-05-31T20:34:27.282Z"
   },
   {
    "duration": 10,
    "start_time": "2024-05-31T20:34:27.335Z"
   },
   {
    "duration": 11,
    "start_time": "2024-05-31T20:34:27.348Z"
   },
   {
    "duration": 8,
    "start_time": "2024-05-31T20:34:27.364Z"
   },
   {
    "duration": 68,
    "start_time": "2024-05-31T20:34:27.376Z"
   },
   {
    "duration": 369,
    "start_time": "2024-05-31T20:34:27.448Z"
   },
   {
    "duration": 19,
    "start_time": "2024-05-31T20:34:27.820Z"
   },
   {
    "duration": 911,
    "start_time": "2024-05-31T20:34:27.842Z"
   },
   {
    "duration": 308,
    "start_time": "2024-05-31T20:34:28.757Z"
   },
   {
    "duration": 325,
    "start_time": "2024-05-31T20:34:29.069Z"
   },
   {
    "duration": 40,
    "start_time": "2024-05-31T20:34:29.397Z"
   },
   {
    "duration": 6,
    "start_time": "2024-05-31T20:34:29.440Z"
   },
   {
    "duration": 11,
    "start_time": "2024-05-31T20:34:29.449Z"
   },
   {
    "duration": 249,
    "start_time": "2024-05-31T20:34:29.462Z"
   },
   {
    "duration": 409,
    "start_time": "2024-05-31T20:34:29.714Z"
   },
   {
    "duration": 0,
    "start_time": "2024-05-31T20:34:30.125Z"
   },
   {
    "duration": 0,
    "start_time": "2024-05-31T20:34:30.127Z"
   },
   {
    "duration": 233,
    "start_time": "2024-05-31T20:42:08.484Z"
   },
   {
    "duration": 26,
    "start_time": "2024-05-31T20:42:30.348Z"
   },
   {
    "duration": 248,
    "start_time": "2024-05-31T20:44:59.850Z"
   },
   {
    "duration": 23,
    "start_time": "2024-05-31T20:45:05.427Z"
   },
   {
    "duration": 5,
    "start_time": "2024-05-31T20:45:21.012Z"
   },
   {
    "duration": 11,
    "start_time": "2024-05-31T20:45:31.866Z"
   },
   {
    "duration": 462,
    "start_time": "2024-05-31T20:51:42.389Z"
   },
   {
    "duration": 328,
    "start_time": "2024-05-31T21:03:11.406Z"
   },
   {
    "duration": 8,
    "start_time": "2024-05-31T21:21:09.639Z"
   },
   {
    "duration": 890,
    "start_time": "2024-05-31T21:29:00.788Z"
   },
   {
    "duration": 301,
    "start_time": "2024-05-31T21:30:20.213Z"
   },
   {
    "duration": 238,
    "start_time": "2024-05-31T21:32:01.732Z"
   },
   {
    "duration": 234,
    "start_time": "2024-05-31T21:32:10.638Z"
   },
   {
    "duration": 245,
    "start_time": "2024-05-31T21:32:16.178Z"
   },
   {
    "duration": 233,
    "start_time": "2024-05-31T21:32:22.478Z"
   },
   {
    "duration": 253,
    "start_time": "2024-05-31T21:33:30.290Z"
   },
   {
    "duration": 6,
    "start_time": "2024-05-31T21:34:38.235Z"
   },
   {
    "duration": 23,
    "start_time": "2024-05-31T21:43:19.214Z"
   },
   {
    "duration": 686,
    "start_time": "2024-05-31T22:19:22.628Z"
   },
   {
    "duration": 423,
    "start_time": "2024-05-31T22:19:49.695Z"
   },
   {
    "duration": 1288,
    "start_time": "2024-05-31T22:20:00.059Z"
   },
   {
    "duration": 43,
    "start_time": "2024-05-31T22:20:01.355Z"
   },
   {
    "duration": 51,
    "start_time": "2024-05-31T22:20:01.400Z"
   },
   {
    "duration": 17,
    "start_time": "2024-05-31T22:20:01.456Z"
   },
   {
    "duration": 7,
    "start_time": "2024-05-31T22:20:01.478Z"
   },
   {
    "duration": 55,
    "start_time": "2024-05-31T22:20:01.489Z"
   },
   {
    "duration": 13,
    "start_time": "2024-05-31T22:20:01.549Z"
   },
   {
    "duration": 8,
    "start_time": "2024-05-31T22:20:01.565Z"
   },
   {
    "duration": 12,
    "start_time": "2024-05-31T22:20:01.576Z"
   },
   {
    "duration": 43,
    "start_time": "2024-05-31T22:20:01.594Z"
   },
   {
    "duration": 32,
    "start_time": "2024-05-31T22:20:01.640Z"
   },
   {
    "duration": 399,
    "start_time": "2024-05-31T22:20:01.676Z"
   },
   {
    "duration": 9,
    "start_time": "2024-05-31T22:20:02.078Z"
   },
   {
    "duration": 971,
    "start_time": "2024-05-31T22:20:02.090Z"
   },
   {
    "duration": 306,
    "start_time": "2024-05-31T22:20:03.064Z"
   },
   {
    "duration": 411,
    "start_time": "2024-05-31T22:20:03.373Z"
   },
   {
    "duration": 0,
    "start_time": "2024-05-31T22:20:03.789Z"
   },
   {
    "duration": 0,
    "start_time": "2024-05-31T22:20:03.790Z"
   },
   {
    "duration": 0,
    "start_time": "2024-05-31T22:20:03.792Z"
   },
   {
    "duration": 0,
    "start_time": "2024-05-31T22:20:03.797Z"
   },
   {
    "duration": 0,
    "start_time": "2024-05-31T22:20:03.803Z"
   },
   {
    "duration": 0,
    "start_time": "2024-05-31T22:20:03.805Z"
   },
   {
    "duration": 0,
    "start_time": "2024-05-31T22:20:03.807Z"
   },
   {
    "duration": 0,
    "start_time": "2024-05-31T22:20:03.809Z"
   },
   {
    "duration": 26,
    "start_time": "2024-05-31T22:21:48.224Z"
   },
   {
    "duration": 242,
    "start_time": "2024-05-31T22:22:34.114Z"
   },
   {
    "duration": 24,
    "start_time": "2024-05-31T22:22:38.725Z"
   },
   {
    "duration": 1231,
    "start_time": "2024-05-31T22:22:44.091Z"
   },
   {
    "duration": 41,
    "start_time": "2024-05-31T22:22:45.325Z"
   },
   {
    "duration": 38,
    "start_time": "2024-05-31T22:22:45.369Z"
   },
   {
    "duration": 37,
    "start_time": "2024-05-31T22:22:45.410Z"
   },
   {
    "duration": 6,
    "start_time": "2024-05-31T22:22:45.452Z"
   },
   {
    "duration": 15,
    "start_time": "2024-05-31T22:22:45.461Z"
   },
   {
    "duration": 54,
    "start_time": "2024-05-31T22:22:45.479Z"
   },
   {
    "duration": 8,
    "start_time": "2024-05-31T22:22:45.536Z"
   },
   {
    "duration": 12,
    "start_time": "2024-05-31T22:22:45.547Z"
   },
   {
    "duration": 8,
    "start_time": "2024-05-31T22:22:45.562Z"
   },
   {
    "duration": 69,
    "start_time": "2024-05-31T22:22:45.573Z"
   },
   {
    "duration": 409,
    "start_time": "2024-05-31T22:22:45.645Z"
   },
   {
    "duration": 9,
    "start_time": "2024-05-31T22:22:46.058Z"
   },
   {
    "duration": 1083,
    "start_time": "2024-05-31T22:22:46.072Z"
   },
   {
    "duration": 390,
    "start_time": "2024-05-31T22:22:47.158Z"
   },
   {
    "duration": 260,
    "start_time": "2024-05-31T22:22:47.552Z"
   },
   {
    "duration": 35,
    "start_time": "2024-05-31T22:22:47.815Z"
   },
   {
    "duration": 425,
    "start_time": "2024-05-31T22:22:47.852Z"
   },
   {
    "duration": 0,
    "start_time": "2024-05-31T22:22:48.280Z"
   },
   {
    "duration": 0,
    "start_time": "2024-05-31T22:22:48.284Z"
   },
   {
    "duration": 0,
    "start_time": "2024-05-31T22:22:48.286Z"
   },
   {
    "duration": 0,
    "start_time": "2024-05-31T22:22:48.288Z"
   },
   {
    "duration": 0,
    "start_time": "2024-05-31T22:22:48.293Z"
   },
   {
    "duration": 0,
    "start_time": "2024-05-31T22:22:48.295Z"
   },
   {
    "duration": 188,
    "start_time": "2024-05-31T22:23:48.175Z"
   },
   {
    "duration": 336,
    "start_time": "2024-05-31T22:28:06.958Z"
   },
   {
    "duration": 1304,
    "start_time": "2024-05-31T22:32:00.421Z"
   },
   {
    "duration": 39,
    "start_time": "2024-05-31T22:32:01.733Z"
   },
   {
    "duration": 38,
    "start_time": "2024-05-31T22:32:01.774Z"
   },
   {
    "duration": 19,
    "start_time": "2024-05-31T22:32:01.834Z"
   },
   {
    "duration": 6,
    "start_time": "2024-05-31T22:32:01.856Z"
   },
   {
    "duration": 15,
    "start_time": "2024-05-31T22:32:01.866Z"
   },
   {
    "duration": 50,
    "start_time": "2024-05-31T22:32:01.885Z"
   },
   {
    "duration": 9,
    "start_time": "2024-05-31T22:32:01.942Z"
   },
   {
    "duration": 17,
    "start_time": "2024-05-31T22:32:01.954Z"
   },
   {
    "duration": 14,
    "start_time": "2024-05-31T22:32:01.979Z"
   },
   {
    "duration": 59,
    "start_time": "2024-05-31T22:32:01.996Z"
   },
   {
    "duration": 379,
    "start_time": "2024-05-31T22:32:02.058Z"
   },
   {
    "duration": 10,
    "start_time": "2024-05-31T22:32:02.442Z"
   },
   {
    "duration": 994,
    "start_time": "2024-05-31T22:32:02.455Z"
   },
   {
    "duration": 304,
    "start_time": "2024-05-31T22:32:03.452Z"
   },
   {
    "duration": 276,
    "start_time": "2024-05-31T22:32:03.759Z"
   },
   {
    "duration": 25,
    "start_time": "2024-05-31T22:32:04.038Z"
   },
   {
    "duration": 212,
    "start_time": "2024-05-31T22:32:04.066Z"
   },
   {
    "duration": 333,
    "start_time": "2024-05-31T22:32:04.281Z"
   },
   {
    "duration": 5,
    "start_time": "2024-05-31T22:32:04.617Z"
   },
   {
    "duration": 224,
    "start_time": "2024-05-31T22:32:04.632Z"
   },
   {
    "duration": 267,
    "start_time": "2024-05-31T22:32:04.859Z"
   },
   {
    "duration": 417,
    "start_time": "2024-05-31T22:32:05.133Z"
   },
   {
    "duration": 0,
    "start_time": "2024-05-31T22:32:05.553Z"
   },
   {
    "duration": 0,
    "start_time": "2024-05-31T22:32:05.555Z"
   },
   {
    "duration": 5,
    "start_time": "2024-05-31T22:34:29.929Z"
   },
   {
    "duration": 861,
    "start_time": "2024-05-31T22:34:39.402Z"
   },
   {
    "duration": 97,
    "start_time": "2024-05-31T22:34:53.637Z"
   },
   {
    "duration": 178,
    "start_time": "2024-05-31T22:35:05.027Z"
   },
   {
    "duration": 265,
    "start_time": "2024-05-31T22:35:33.193Z"
   },
   {
    "duration": 256,
    "start_time": "2024-05-31T22:35:46.170Z"
   },
   {
    "duration": 256,
    "start_time": "2024-05-31T22:36:36.721Z"
   },
   {
    "duration": 14,
    "start_time": "2024-05-31T22:49:17.912Z"
   },
   {
    "duration": 16,
    "start_time": "2024-05-31T22:49:31.832Z"
   },
   {
    "duration": 13,
    "start_time": "2024-05-31T22:51:17.232Z"
   },
   {
    "duration": 15,
    "start_time": "2024-05-31T22:51:24.615Z"
   },
   {
    "duration": 15,
    "start_time": "2024-05-31T22:51:38.361Z"
   },
   {
    "duration": 13,
    "start_time": "2024-05-31T22:54:16.415Z"
   },
   {
    "duration": 19,
    "start_time": "2024-05-31T22:54:30.329Z"
   },
   {
    "duration": 15,
    "start_time": "2024-05-31T22:57:25.042Z"
   },
   {
    "duration": 9,
    "start_time": "2024-05-31T22:59:06.486Z"
   },
   {
    "duration": 1330,
    "start_time": "2024-05-31T22:59:12.941Z"
   },
   {
    "duration": 40,
    "start_time": "2024-05-31T22:59:14.274Z"
   },
   {
    "duration": 44,
    "start_time": "2024-05-31T22:59:14.317Z"
   },
   {
    "duration": 17,
    "start_time": "2024-05-31T22:59:14.364Z"
   },
   {
    "duration": 6,
    "start_time": "2024-05-31T22:59:14.385Z"
   },
   {
    "duration": 50,
    "start_time": "2024-05-31T22:59:14.395Z"
   },
   {
    "duration": 11,
    "start_time": "2024-05-31T22:59:14.449Z"
   },
   {
    "duration": 10,
    "start_time": "2024-05-31T22:59:14.463Z"
   },
   {
    "duration": 12,
    "start_time": "2024-05-31T22:59:14.476Z"
   },
   {
    "duration": 7,
    "start_time": "2024-05-31T22:59:14.534Z"
   },
   {
    "duration": 25,
    "start_time": "2024-05-31T22:59:14.544Z"
   },
   {
    "duration": 388,
    "start_time": "2024-05-31T22:59:14.572Z"
   },
   {
    "duration": 10,
    "start_time": "2024-05-31T22:59:14.964Z"
   },
   {
    "duration": 964,
    "start_time": "2024-05-31T22:59:14.977Z"
   },
   {
    "duration": 326,
    "start_time": "2024-05-31T22:59:15.947Z"
   },
   {
    "duration": 247,
    "start_time": "2024-05-31T22:59:16.276Z"
   },
   {
    "duration": 24,
    "start_time": "2024-05-31T22:59:16.533Z"
   },
   {
    "duration": 5,
    "start_time": "2024-05-31T22:59:16.560Z"
   },
   {
    "duration": 222,
    "start_time": "2024-05-31T22:59:16.568Z"
   },
   {
    "duration": 274,
    "start_time": "2024-05-31T22:59:16.792Z"
   },
   {
    "duration": 17,
    "start_time": "2024-05-31T22:59:17.069Z"
   },
   {
    "duration": 19,
    "start_time": "2024-05-31T22:59:17.092Z"
   },
   {
    "duration": 339,
    "start_time": "2024-05-31T22:59:17.133Z"
   },
   {
    "duration": 228,
    "start_time": "2024-05-31T22:59:17.475Z"
   },
   {
    "duration": 247,
    "start_time": "2024-05-31T22:59:17.706Z"
   },
   {
    "duration": 492,
    "start_time": "2024-05-31T22:59:17.956Z"
   },
   {
    "duration": 0,
    "start_time": "2024-05-31T22:59:18.452Z"
   },
   {
    "duration": 0,
    "start_time": "2024-05-31T22:59:18.453Z"
   },
   {
    "duration": 5444,
    "start_time": "2024-06-03T15:36:30.249Z"
   },
   {
    "duration": 77,
    "start_time": "2024-06-03T15:36:35.699Z"
   },
   {
    "duration": 41,
    "start_time": "2024-06-03T15:36:35.784Z"
   },
   {
    "duration": 18,
    "start_time": "2024-06-03T15:36:35.831Z"
   },
   {
    "duration": 6,
    "start_time": "2024-06-03T15:36:35.854Z"
   },
   {
    "duration": 21,
    "start_time": "2024-06-03T15:36:35.863Z"
   },
   {
    "duration": 50,
    "start_time": "2024-06-03T15:36:35.887Z"
   },
   {
    "duration": 12,
    "start_time": "2024-06-03T15:36:35.941Z"
   },
   {
    "duration": 13,
    "start_time": "2024-06-03T15:36:35.956Z"
   },
   {
    "duration": 9,
    "start_time": "2024-06-03T15:36:35.972Z"
   },
   {
    "duration": 55,
    "start_time": "2024-06-03T15:36:35.984Z"
   },
   {
    "duration": 488,
    "start_time": "2024-06-03T15:36:36.042Z"
   },
   {
    "duration": 12,
    "start_time": "2024-06-03T15:36:36.533Z"
   },
   {
    "duration": 979,
    "start_time": "2024-06-03T15:36:36.552Z"
   },
   {
    "duration": 328,
    "start_time": "2024-06-03T15:36:37.534Z"
   },
   {
    "duration": 253,
    "start_time": "2024-06-03T15:36:37.867Z"
   },
   {
    "duration": 31,
    "start_time": "2024-06-03T15:36:38.123Z"
   },
   {
    "duration": 6,
    "start_time": "2024-06-03T15:36:38.157Z"
   },
   {
    "duration": 316,
    "start_time": "2024-06-03T15:36:38.166Z"
   },
   {
    "duration": 282,
    "start_time": "2024-06-03T15:36:38.487Z"
   },
   {
    "duration": 21,
    "start_time": "2024-06-03T15:36:38.772Z"
   },
   {
    "duration": 37,
    "start_time": "2024-06-03T15:36:38.796Z"
   },
   {
    "duration": 370,
    "start_time": "2024-06-03T15:36:38.836Z"
   },
   {
    "duration": 246,
    "start_time": "2024-06-03T15:36:39.209Z"
   },
   {
    "duration": 260,
    "start_time": "2024-06-03T15:36:39.458Z"
   },
   {
    "duration": 838,
    "start_time": "2024-06-03T15:36:39.722Z"
   },
   {
    "duration": 0,
    "start_time": "2024-06-03T15:36:40.563Z"
   },
   {
    "duration": 504,
    "start_time": "2024-06-03T16:12:32.726Z"
   },
   {
    "duration": 206,
    "start_time": "2024-06-03T16:18:21.026Z"
   },
   {
    "duration": 191,
    "start_time": "2024-06-03T16:22:12.867Z"
   },
   {
    "duration": 777,
    "start_time": "2024-06-03T16:22:33.204Z"
   },
   {
    "duration": 157,
    "start_time": "2024-06-03T16:22:40.655Z"
   },
   {
    "duration": 201,
    "start_time": "2024-06-03T16:23:37.396Z"
   },
   {
    "duration": 204,
    "start_time": "2024-06-03T16:25:03.437Z"
   },
   {
    "duration": 199,
    "start_time": "2024-06-03T16:30:07.491Z"
   },
   {
    "duration": 186,
    "start_time": "2024-06-03T16:30:35.353Z"
   },
   {
    "duration": 182,
    "start_time": "2024-06-03T16:30:46.203Z"
   },
   {
    "duration": 186,
    "start_time": "2024-06-03T16:31:21.192Z"
   },
   {
    "duration": 192,
    "start_time": "2024-06-03T16:31:32.917Z"
   },
   {
    "duration": 184,
    "start_time": "2024-06-03T16:31:39.695Z"
   },
   {
    "duration": 206,
    "start_time": "2024-06-03T16:36:52.888Z"
   },
   {
    "duration": 170,
    "start_time": "2024-06-03T16:37:06.435Z"
   },
   {
    "duration": 165,
    "start_time": "2024-06-03T16:37:20.078Z"
   },
   {
    "duration": 161,
    "start_time": "2024-06-03T16:37:34.453Z"
   },
   {
    "duration": 1346,
    "start_time": "2024-06-03T16:38:05.419Z"
   },
   {
    "duration": 40,
    "start_time": "2024-06-03T16:38:06.770Z"
   },
   {
    "duration": 52,
    "start_time": "2024-06-03T16:38:06.813Z"
   },
   {
    "duration": 20,
    "start_time": "2024-06-03T16:38:06.868Z"
   },
   {
    "duration": 38,
    "start_time": "2024-06-03T16:38:06.893Z"
   },
   {
    "duration": 18,
    "start_time": "2024-06-03T16:38:06.935Z"
   },
   {
    "duration": 12,
    "start_time": "2024-06-03T16:38:06.956Z"
   },
   {
    "duration": 12,
    "start_time": "2024-06-03T16:38:06.972Z"
   },
   {
    "duration": 14,
    "start_time": "2024-06-03T16:38:07.030Z"
   },
   {
    "duration": 10,
    "start_time": "2024-06-03T16:38:07.047Z"
   },
   {
    "duration": 35,
    "start_time": "2024-06-03T16:38:07.060Z"
   },
   {
    "duration": 435,
    "start_time": "2024-06-03T16:38:07.098Z"
   },
   {
    "duration": 11,
    "start_time": "2024-06-03T16:38:07.537Z"
   },
   {
    "duration": 1031,
    "start_time": "2024-06-03T16:38:07.555Z"
   },
   {
    "duration": 316,
    "start_time": "2024-06-03T16:38:08.591Z"
   },
   {
    "duration": 262,
    "start_time": "2024-06-03T16:38:08.911Z"
   },
   {
    "duration": 26,
    "start_time": "2024-06-03T16:38:09.179Z"
   },
   {
    "duration": 5,
    "start_time": "2024-06-03T16:38:09.230Z"
   },
   {
    "duration": 236,
    "start_time": "2024-06-03T16:38:09.238Z"
   },
   {
    "duration": 316,
    "start_time": "2024-06-03T16:38:09.478Z"
   },
   {
    "duration": 217,
    "start_time": "2024-06-03T16:38:09.797Z"
   },
   {
    "duration": 26,
    "start_time": "2024-06-03T16:38:10.017Z"
   },
   {
    "duration": 221,
    "start_time": "2024-06-03T16:38:10.046Z"
   },
   {
    "duration": 214,
    "start_time": "2024-06-03T16:38:10.270Z"
   },
   {
    "duration": 19,
    "start_time": "2024-06-03T16:38:10.488Z"
   },
   {
    "duration": 22,
    "start_time": "2024-06-03T16:38:10.510Z"
   },
   {
    "duration": 290,
    "start_time": "2024-06-03T16:38:10.535Z"
   },
   {
    "duration": 276,
    "start_time": "2024-06-03T16:38:10.828Z"
   },
   {
    "duration": 498,
    "start_time": "2024-06-03T16:38:11.108Z"
   },
   {
    "duration": 9,
    "start_time": "2024-06-03T16:38:11.609Z"
   },
   {
    "duration": 206,
    "start_time": "2024-06-03T16:39:10.398Z"
   },
   {
    "duration": 312,
    "start_time": "2024-06-03T16:39:35.621Z"
   },
   {
    "duration": 8934,
    "start_time": "2024-06-03T16:43:05.750Z"
   },
   {
    "duration": 9072,
    "start_time": "2024-06-03T16:43:30.221Z"
   },
   {
    "duration": 8765,
    "start_time": "2024-06-03T16:43:43.569Z"
   },
   {
    "duration": 8339,
    "start_time": "2024-06-03T16:45:26.999Z"
   },
   {
    "duration": 155,
    "start_time": "2024-06-03T16:49:04.077Z"
   },
   {
    "duration": 170,
    "start_time": "2024-06-03T16:49:21.794Z"
   },
   {
    "duration": 2194,
    "start_time": "2024-06-03T16:50:07.111Z"
   },
   {
    "duration": 336,
    "start_time": "2024-06-03T16:50:34.829Z"
   },
   {
    "duration": 5,
    "start_time": "2024-06-03T16:51:02.308Z"
   },
   {
    "duration": 61,
    "start_time": "2024-06-03T16:52:16.287Z"
   },
   {
    "duration": 79,
    "start_time": "2024-06-03T16:52:25.580Z"
   },
   {
    "duration": 13,
    "start_time": "2024-06-03T16:54:17.572Z"
   },
   {
    "duration": 785,
    "start_time": "2024-06-03T16:57:28.821Z"
   },
   {
    "duration": 7,
    "start_time": "2024-06-03T17:00:22.757Z"
   },
   {
    "duration": 636,
    "start_time": "2024-06-03T17:00:28.642Z"
   },
   {
    "duration": 6,
    "start_time": "2024-06-03T17:00:34.427Z"
   },
   {
    "duration": 24,
    "start_time": "2024-06-03T17:00:37.605Z"
   },
   {
    "duration": 26,
    "start_time": "2024-06-03T17:00:53.471Z"
   },
   {
    "duration": 5,
    "start_time": "2024-06-03T17:03:20.123Z"
   },
   {
    "duration": 24,
    "start_time": "2024-06-03T17:03:38.718Z"
   },
   {
    "duration": 199,
    "start_time": "2024-06-03T17:05:19.213Z"
   },
   {
    "duration": 228,
    "start_time": "2024-06-03T17:06:22.362Z"
   },
   {
    "duration": 213,
    "start_time": "2024-06-03T17:07:48.793Z"
   },
   {
    "duration": 212,
    "start_time": "2024-06-03T17:11:49.008Z"
   },
   {
    "duration": 220,
    "start_time": "2024-06-03T17:11:59.841Z"
   },
   {
    "duration": 6,
    "start_time": "2024-06-03T17:12:15.968Z"
   },
   {
    "duration": 234,
    "start_time": "2024-06-03T17:12:21.713Z"
   },
   {
    "duration": 214,
    "start_time": "2024-06-03T17:12:39.113Z"
   },
   {
    "duration": 213,
    "start_time": "2024-06-03T17:12:50.303Z"
   },
   {
    "duration": 218,
    "start_time": "2024-06-03T17:17:03.176Z"
   },
   {
    "duration": 3,
    "start_time": "2024-06-03T17:17:53.518Z"
   },
   {
    "duration": 381,
    "start_time": "2024-06-03T17:22:05.447Z"
   },
   {
    "duration": 492,
    "start_time": "2024-06-03T17:22:25.361Z"
   },
   {
    "duration": 403,
    "start_time": "2024-06-03T17:23:49.591Z"
   },
   {
    "duration": 16,
    "start_time": "2024-06-03T17:38:24.340Z"
   },
   {
    "duration": 31,
    "start_time": "2024-06-03T17:38:59.099Z"
   },
   {
    "duration": 31,
    "start_time": "2024-06-03T17:40:47.563Z"
   },
   {
    "duration": 18,
    "start_time": "2024-06-03T17:41:06.668Z"
   },
   {
    "duration": 8,
    "start_time": "2024-06-03T17:41:16.672Z"
   },
   {
    "duration": 1333,
    "start_time": "2024-06-03T17:41:19.637Z"
   },
   {
    "duration": 12,
    "start_time": "2024-06-03T17:41:43.294Z"
   },
   {
    "duration": 9,
    "start_time": "2024-06-03T17:42:52.109Z"
   },
   {
    "duration": 15,
    "start_time": "2024-06-03T17:45:21.345Z"
   },
   {
    "duration": 45,
    "start_time": "2024-06-03T17:45:33.812Z"
   },
   {
    "duration": 16,
    "start_time": "2024-06-03T17:45:39.393Z"
   },
   {
    "duration": 40,
    "start_time": "2024-06-03T17:46:02.554Z"
   },
   {
    "duration": 17,
    "start_time": "2024-06-03T17:46:11.626Z"
   },
   {
    "duration": 238,
    "start_time": "2024-06-03T17:46:18.076Z"
   },
   {
    "duration": 13,
    "start_time": "2024-06-03T17:46:24.436Z"
   },
   {
    "duration": 13,
    "start_time": "2024-06-03T17:46:30.338Z"
   },
   {
    "duration": 160,
    "start_time": "2024-06-03T17:46:35.107Z"
   },
   {
    "duration": 15,
    "start_time": "2024-06-03T17:47:24.843Z"
   },
   {
    "duration": 21,
    "start_time": "2024-06-03T17:47:50.757Z"
   },
   {
    "duration": 160,
    "start_time": "2024-06-03T17:48:11.226Z"
   },
   {
    "duration": 18,
    "start_time": "2024-06-03T17:48:17.355Z"
   },
   {
    "duration": 15,
    "start_time": "2024-06-03T17:48:35.485Z"
   },
   {
    "duration": 20,
    "start_time": "2024-06-03T17:48:40.823Z"
   },
   {
    "duration": 28,
    "start_time": "2024-06-03T17:49:11.923Z"
   },
   {
    "duration": 26,
    "start_time": "2024-06-03T17:49:17.685Z"
   },
   {
    "duration": 26,
    "start_time": "2024-06-03T17:49:30.018Z"
   },
   {
    "duration": 29,
    "start_time": "2024-06-03T17:49:45.619Z"
   },
   {
    "duration": 21,
    "start_time": "2024-06-03T17:51:14.959Z"
   },
   {
    "duration": 21,
    "start_time": "2024-06-03T17:51:23.149Z"
   },
   {
    "duration": 18,
    "start_time": "2024-06-03T17:53:06.386Z"
   },
   {
    "duration": 27,
    "start_time": "2024-06-03T17:53:07.989Z"
   },
   {
    "duration": 8,
    "start_time": "2024-06-03T17:53:19.511Z"
   },
   {
    "duration": 10,
    "start_time": "2024-06-03T17:54:21.484Z"
   },
   {
    "duration": 22,
    "start_time": "2024-06-03T17:54:31.828Z"
   },
   {
    "duration": 6,
    "start_time": "2024-06-03T17:54:34.521Z"
   },
   {
    "duration": 22,
    "start_time": "2024-06-03T17:55:25.657Z"
   },
   {
    "duration": 27,
    "start_time": "2024-06-03T17:55:52.057Z"
   },
   {
    "duration": 25,
    "start_time": "2024-06-03T18:04:39.721Z"
   },
   {
    "duration": 7,
    "start_time": "2024-06-03T18:05:05.303Z"
   },
   {
    "duration": 24,
    "start_time": "2024-06-03T18:09:29.379Z"
   },
   {
    "duration": 22,
    "start_time": "2024-06-03T18:09:43.433Z"
   },
   {
    "duration": 22,
    "start_time": "2024-06-03T18:10:18.198Z"
   },
   {
    "duration": 21,
    "start_time": "2024-06-03T18:10:32.649Z"
   },
   {
    "duration": 9,
    "start_time": "2024-06-03T18:31:40.587Z"
   },
   {
    "duration": 253,
    "start_time": "2024-06-03T18:32:11.221Z"
   },
   {
    "duration": 231,
    "start_time": "2024-06-03T18:32:25.211Z"
   },
   {
    "duration": 241,
    "start_time": "2024-06-03T18:32:38.395Z"
   },
   {
    "duration": 227,
    "start_time": "2024-06-03T18:33:12.986Z"
   },
   {
    "duration": 1247,
    "start_time": "2024-06-03T18:34:16.198Z"
   },
   {
    "duration": 39,
    "start_time": "2024-06-03T18:34:17.448Z"
   },
   {
    "duration": 52,
    "start_time": "2024-06-03T18:34:17.490Z"
   },
   {
    "duration": 16,
    "start_time": "2024-06-03T18:34:17.548Z"
   },
   {
    "duration": 6,
    "start_time": "2024-06-03T18:34:17.567Z"
   },
   {
    "duration": 16,
    "start_time": "2024-06-03T18:34:17.576Z"
   },
   {
    "duration": 10,
    "start_time": "2024-06-03T18:34:17.630Z"
   },
   {
    "duration": 11,
    "start_time": "2024-06-03T18:34:17.643Z"
   },
   {
    "duration": 11,
    "start_time": "2024-06-03T18:34:17.657Z"
   },
   {
    "duration": 7,
    "start_time": "2024-06-03T18:34:17.675Z"
   },
   {
    "duration": 64,
    "start_time": "2024-06-03T18:34:17.686Z"
   },
   {
    "duration": 380,
    "start_time": "2024-06-03T18:34:17.753Z"
   },
   {
    "duration": 9,
    "start_time": "2024-06-03T18:34:18.136Z"
   },
   {
    "duration": 963,
    "start_time": "2024-06-03T18:34:18.148Z"
   },
   {
    "duration": 316,
    "start_time": "2024-06-03T18:34:19.114Z"
   },
   {
    "duration": 244,
    "start_time": "2024-06-03T18:34:19.434Z"
   },
   {
    "duration": 24,
    "start_time": "2024-06-03T18:34:19.681Z"
   },
   {
    "duration": 26,
    "start_time": "2024-06-03T18:34:19.708Z"
   },
   {
    "duration": 212,
    "start_time": "2024-06-03T18:34:19.737Z"
   },
   {
    "duration": 271,
    "start_time": "2024-06-03T18:34:19.952Z"
   },
   {
    "duration": 245,
    "start_time": "2024-06-03T18:34:20.230Z"
   },
   {
    "duration": 20,
    "start_time": "2024-06-03T18:34:20.478Z"
   },
   {
    "duration": 241,
    "start_time": "2024-06-03T18:34:20.502Z"
   },
   {
    "duration": 15,
    "start_time": "2024-06-03T18:34:20.746Z"
   },
   {
    "duration": 417,
    "start_time": "2024-06-03T18:34:20.763Z"
   },
   {
    "duration": 232,
    "start_time": "2024-06-03T18:34:21.183Z"
   },
   {
    "duration": 25,
    "start_time": "2024-06-03T18:34:21.418Z"
   },
   {
    "duration": 6,
    "start_time": "2024-06-03T18:34:21.450Z"
   },
   {
    "duration": 22,
    "start_time": "2024-06-03T18:34:21.460Z"
   },
   {
    "duration": 1332,
    "start_time": "2024-06-03T18:36:28.106Z"
   },
   {
    "duration": 8,
    "start_time": "2024-06-03T18:36:35.889Z"
   },
   {
    "duration": 7,
    "start_time": "2024-06-03T18:36:57.803Z"
   },
   {
    "duration": 214,
    "start_time": "2024-06-03T18:37:07.516Z"
   },
   {
    "duration": 97,
    "start_time": "2024-06-03T18:43:25.297Z"
   },
   {
    "duration": 10,
    "start_time": "2024-06-03T18:43:35.305Z"
   },
   {
    "duration": 11,
    "start_time": "2024-06-03T18:43:51.849Z"
   },
   {
    "duration": 6,
    "start_time": "2024-06-03T18:44:27.849Z"
   },
   {
    "duration": 6,
    "start_time": "2024-06-03T18:44:31.558Z"
   },
   {
    "duration": 269,
    "start_time": "2024-06-03T18:44:40.542Z"
   },
   {
    "duration": 1304,
    "start_time": "2024-06-03T18:45:07.922Z"
   },
   {
    "duration": 39,
    "start_time": "2024-06-03T18:45:09.232Z"
   },
   {
    "duration": 37,
    "start_time": "2024-06-03T18:45:09.274Z"
   },
   {
    "duration": 18,
    "start_time": "2024-06-03T18:45:09.330Z"
   },
   {
    "duration": 5,
    "start_time": "2024-06-03T18:45:09.355Z"
   },
   {
    "duration": 16,
    "start_time": "2024-06-03T18:45:09.363Z"
   },
   {
    "duration": 56,
    "start_time": "2024-06-03T18:45:09.381Z"
   },
   {
    "duration": 12,
    "start_time": "2024-06-03T18:45:09.440Z"
   },
   {
    "duration": 12,
    "start_time": "2024-06-03T18:45:09.455Z"
   },
   {
    "duration": 9,
    "start_time": "2024-06-03T18:45:09.471Z"
   },
   {
    "duration": 71,
    "start_time": "2024-06-03T18:45:09.483Z"
   },
   {
    "duration": 377,
    "start_time": "2024-06-03T18:45:09.558Z"
   },
   {
    "duration": 9,
    "start_time": "2024-06-03T18:45:09.938Z"
   },
   {
    "duration": 966,
    "start_time": "2024-06-03T18:45:09.953Z"
   },
   {
    "duration": 298,
    "start_time": "2024-06-03T18:45:10.922Z"
   },
   {
    "duration": 241,
    "start_time": "2024-06-03T18:45:11.230Z"
   },
   {
    "duration": 24,
    "start_time": "2024-06-03T18:45:11.475Z"
   },
   {
    "duration": 5,
    "start_time": "2024-06-03T18:45:11.502Z"
   },
   {
    "duration": 204,
    "start_time": "2024-06-03T18:45:11.530Z"
   },
   {
    "duration": 308,
    "start_time": "2024-06-03T18:45:11.738Z"
   },
   {
    "duration": 227,
    "start_time": "2024-06-03T18:45:12.050Z"
   },
   {
    "duration": 18,
    "start_time": "2024-06-03T18:45:12.280Z"
   },
   {
    "duration": 252,
    "start_time": "2024-06-03T18:45:12.302Z"
   },
   {
    "duration": 17,
    "start_time": "2024-06-03T18:45:12.556Z"
   },
   {
    "duration": 436,
    "start_time": "2024-06-03T18:45:12.577Z"
   },
   {
    "duration": 16,
    "start_time": "2024-06-03T18:45:13.016Z"
   },
   {
    "duration": 22,
    "start_time": "2024-06-03T18:45:13.035Z"
   },
   {
    "duration": 7,
    "start_time": "2024-06-03T18:45:13.060Z"
   },
   {
    "duration": 21,
    "start_time": "2024-06-03T18:45:13.071Z"
   },
   {
    "duration": 7,
    "start_time": "2024-06-03T18:48:48.015Z"
   },
   {
    "duration": 10,
    "start_time": "2024-06-03T18:48:52.975Z"
   },
   {
    "duration": 6,
    "start_time": "2024-06-03T18:49:01.529Z"
   },
   {
    "duration": 6,
    "start_time": "2024-06-03T18:49:03.706Z"
   },
   {
    "duration": 1049,
    "start_time": "2024-06-03T18:49:12.735Z"
   },
   {
    "duration": 7,
    "start_time": "2024-06-03T18:49:25.776Z"
   },
   {
    "duration": 1314,
    "start_time": "2024-06-03T18:49:32.202Z"
   },
   {
    "duration": 44,
    "start_time": "2024-06-03T18:49:33.519Z"
   },
   {
    "duration": 43,
    "start_time": "2024-06-03T18:49:33.566Z"
   },
   {
    "duration": 21,
    "start_time": "2024-06-03T18:49:33.634Z"
   },
   {
    "duration": 7,
    "start_time": "2024-06-03T18:49:33.658Z"
   },
   {
    "duration": 20,
    "start_time": "2024-06-03T18:49:33.668Z"
   },
   {
    "duration": 10,
    "start_time": "2024-06-03T18:49:33.732Z"
   },
   {
    "duration": 7,
    "start_time": "2024-06-03T18:49:33.746Z"
   },
   {
    "duration": 11,
    "start_time": "2024-06-03T18:49:33.757Z"
   },
   {
    "duration": 11,
    "start_time": "2024-06-03T18:49:33.775Z"
   },
   {
    "duration": 8,
    "start_time": "2024-06-03T18:49:33.831Z"
   },
   {
    "duration": 25,
    "start_time": "2024-06-03T18:49:33.842Z"
   },
   {
    "duration": 377,
    "start_time": "2024-06-03T18:49:33.870Z"
   },
   {
    "duration": 10,
    "start_time": "2024-06-03T18:49:34.250Z"
   },
   {
    "duration": 976,
    "start_time": "2024-06-03T18:49:34.263Z"
   },
   {
    "duration": 310,
    "start_time": "2024-06-03T18:49:35.243Z"
   },
   {
    "duration": 272,
    "start_time": "2024-06-03T18:49:35.556Z"
   },
   {
    "duration": 29,
    "start_time": "2024-06-03T18:49:35.832Z"
   },
   {
    "duration": 6,
    "start_time": "2024-06-03T18:49:35.866Z"
   },
   {
    "duration": 230,
    "start_time": "2024-06-03T18:49:35.875Z"
   },
   {
    "duration": 270,
    "start_time": "2024-06-03T18:49:36.108Z"
   },
   {
    "duration": 217,
    "start_time": "2024-06-03T18:49:36.386Z"
   },
   {
    "duration": 30,
    "start_time": "2024-06-03T18:49:36.607Z"
   },
   {
    "duration": 219,
    "start_time": "2024-06-03T18:49:36.641Z"
   },
   {
    "duration": 16,
    "start_time": "2024-06-03T18:49:36.865Z"
   },
   {
    "duration": 449,
    "start_time": "2024-06-03T18:49:36.884Z"
   },
   {
    "duration": 8,
    "start_time": "2024-06-03T18:49:37.336Z"
   },
   {
    "duration": 17,
    "start_time": "2024-06-03T18:49:37.350Z"
   },
   {
    "duration": 8,
    "start_time": "2024-06-03T18:49:37.369Z"
   },
   {
    "duration": 61,
    "start_time": "2024-06-03T18:49:37.381Z"
   },
   {
    "duration": 216,
    "start_time": "2024-06-03T18:53:37.877Z"
   },
   {
    "duration": 6,
    "start_time": "2024-06-03T18:53:48.688Z"
   },
   {
    "duration": 42,
    "start_time": "2024-06-03T18:54:34.815Z"
   },
   {
    "duration": 11,
    "start_time": "2024-06-03T18:54:44.388Z"
   },
   {
    "duration": 14,
    "start_time": "2024-06-03T18:54:54.168Z"
   },
   {
    "duration": 12,
    "start_time": "2024-06-03T18:54:57.229Z"
   },
   {
    "duration": 1373,
    "start_time": "2024-06-03T18:55:05.131Z"
   },
   {
    "duration": 48,
    "start_time": "2024-06-03T18:55:06.508Z"
   },
   {
    "duration": 47,
    "start_time": "2024-06-03T18:55:06.559Z"
   },
   {
    "duration": 38,
    "start_time": "2024-06-03T18:55:06.609Z"
   },
   {
    "duration": 6,
    "start_time": "2024-06-03T18:55:06.653Z"
   },
   {
    "duration": 14,
    "start_time": "2024-06-03T18:55:06.664Z"
   },
   {
    "duration": 51,
    "start_time": "2024-06-03T18:55:06.682Z"
   },
   {
    "duration": 13,
    "start_time": "2024-06-03T18:55:06.738Z"
   },
   {
    "duration": 11,
    "start_time": "2024-06-03T18:55:06.754Z"
   },
   {
    "duration": 8,
    "start_time": "2024-06-03T18:55:06.769Z"
   },
   {
    "duration": 61,
    "start_time": "2024-06-03T18:55:06.783Z"
   },
   {
    "duration": 15,
    "start_time": "2024-06-03T18:55:06.847Z"
   },
   {
    "duration": 404,
    "start_time": "2024-06-03T18:55:06.865Z"
   },
   {
    "duration": 11,
    "start_time": "2024-06-03T18:55:07.278Z"
   },
   {
    "duration": 1022,
    "start_time": "2024-06-03T18:55:07.293Z"
   },
   {
    "duration": 371,
    "start_time": "2024-06-03T18:55:08.319Z"
   },
   {
    "duration": 259,
    "start_time": "2024-06-03T18:55:08.693Z"
   },
   {
    "duration": 31,
    "start_time": "2024-06-03T18:55:08.955Z"
   },
   {
    "duration": 5,
    "start_time": "2024-06-03T18:55:08.991Z"
   },
   {
    "duration": 239,
    "start_time": "2024-06-03T18:55:09.000Z"
   },
   {
    "duration": 310,
    "start_time": "2024-06-03T18:55:09.244Z"
   },
   {
    "duration": 248,
    "start_time": "2024-06-03T18:55:09.557Z"
   },
   {
    "duration": 22,
    "start_time": "2024-06-03T18:55:09.810Z"
   },
   {
    "duration": 241,
    "start_time": "2024-06-03T18:55:09.836Z"
   },
   {
    "duration": 15,
    "start_time": "2024-06-03T18:55:10.080Z"
   },
   {
    "duration": 468,
    "start_time": "2024-06-03T18:55:10.099Z"
   },
   {
    "duration": 13,
    "start_time": "2024-06-03T18:55:10.571Z"
   },
   {
    "duration": 45,
    "start_time": "2024-06-03T18:55:10.588Z"
   },
   {
    "duration": 8,
    "start_time": "2024-06-03T18:55:10.636Z"
   },
   {
    "duration": 25,
    "start_time": "2024-06-03T18:55:10.647Z"
   },
   {
    "duration": 328,
    "start_time": "2024-06-03T20:12:58.814Z"
   },
   {
    "duration": 5015,
    "start_time": "2024-06-03T20:13:05.717Z"
   },
   {
    "duration": 58,
    "start_time": "2024-06-03T20:13:10.736Z"
   },
   {
    "duration": 40,
    "start_time": "2024-06-03T20:13:10.797Z"
   },
   {
    "duration": 19,
    "start_time": "2024-06-03T20:13:10.841Z"
   },
   {
    "duration": 6,
    "start_time": "2024-06-03T20:13:10.865Z"
   },
   {
    "duration": 48,
    "start_time": "2024-06-03T20:13:10.874Z"
   },
   {
    "duration": 15,
    "start_time": "2024-06-03T20:13:10.925Z"
   },
   {
    "duration": 12,
    "start_time": "2024-06-03T20:13:10.943Z"
   },
   {
    "duration": 16,
    "start_time": "2024-06-03T20:13:10.959Z"
   },
   {
    "duration": 38,
    "start_time": "2024-06-03T20:13:10.979Z"
   },
   {
    "duration": 24,
    "start_time": "2024-06-03T20:13:11.021Z"
   },
   {
    "duration": 16,
    "start_time": "2024-06-03T20:13:11.048Z"
   },
   {
    "duration": 361,
    "start_time": "2024-06-03T20:13:11.112Z"
   },
   {
    "duration": 9,
    "start_time": "2024-06-03T20:13:11.479Z"
   },
   {
    "duration": 934,
    "start_time": "2024-06-03T20:13:11.491Z"
   },
   {
    "duration": 310,
    "start_time": "2024-06-03T20:13:12.428Z"
   },
   {
    "duration": 340,
    "start_time": "2024-06-03T20:13:12.741Z"
   },
   {
    "duration": 36,
    "start_time": "2024-06-03T20:13:13.087Z"
   },
   {
    "duration": 7,
    "start_time": "2024-06-03T20:13:13.127Z"
   },
   {
    "duration": 210,
    "start_time": "2024-06-03T20:13:13.138Z"
   },
   {
    "duration": 289,
    "start_time": "2024-06-03T20:13:13.352Z"
   },
   {
    "duration": 233,
    "start_time": "2024-06-03T20:13:13.644Z"
   },
   {
    "duration": 33,
    "start_time": "2024-06-03T20:13:13.881Z"
   },
   {
    "duration": 248,
    "start_time": "2024-06-03T20:13:13.917Z"
   },
   {
    "duration": 16,
    "start_time": "2024-06-03T20:13:14.168Z"
   },
   {
    "duration": 457,
    "start_time": "2024-06-03T20:13:14.187Z"
   },
   {
    "duration": 7,
    "start_time": "2024-06-03T20:13:14.647Z"
   },
   {
    "duration": 518,
    "start_time": "2024-06-03T20:13:14.658Z"
   },
   {
    "duration": 0,
    "start_time": "2024-06-03T20:13:15.179Z"
   },
   {
    "duration": 0,
    "start_time": "2024-06-03T20:13:15.181Z"
   },
   {
    "duration": 0,
    "start_time": "2024-06-03T20:13:15.183Z"
   },
   {
    "duration": 25,
    "start_time": "2024-06-03T20:23:59.453Z"
   },
   {
    "duration": 1286,
    "start_time": "2024-06-03T20:24:12.278Z"
   },
   {
    "duration": 46,
    "start_time": "2024-06-03T20:24:13.567Z"
   },
   {
    "duration": 39,
    "start_time": "2024-06-03T20:24:13.616Z"
   },
   {
    "duration": 18,
    "start_time": "2024-06-03T20:24:13.658Z"
   },
   {
    "duration": 7,
    "start_time": "2024-06-03T20:24:13.712Z"
   },
   {
    "duration": 13,
    "start_time": "2024-06-03T20:24:13.722Z"
   },
   {
    "duration": 11,
    "start_time": "2024-06-03T20:24:13.738Z"
   },
   {
    "duration": 10,
    "start_time": "2024-06-03T20:24:13.752Z"
   },
   {
    "duration": 52,
    "start_time": "2024-06-03T20:24:13.766Z"
   },
   {
    "duration": 8,
    "start_time": "2024-06-03T20:24:13.822Z"
   },
   {
    "duration": 25,
    "start_time": "2024-06-03T20:24:13.833Z"
   },
   {
    "duration": 15,
    "start_time": "2024-06-03T20:24:13.861Z"
   },
   {
    "duration": 384,
    "start_time": "2024-06-03T20:24:13.914Z"
   },
   {
    "duration": 9,
    "start_time": "2024-06-03T20:24:14.312Z"
   },
   {
    "duration": 977,
    "start_time": "2024-06-03T20:24:14.324Z"
   },
   {
    "duration": 319,
    "start_time": "2024-06-03T20:24:15.305Z"
   },
   {
    "duration": 250,
    "start_time": "2024-06-03T20:24:15.627Z"
   },
   {
    "duration": 36,
    "start_time": "2024-06-03T20:24:15.880Z"
   },
   {
    "duration": 5,
    "start_time": "2024-06-03T20:24:15.919Z"
   },
   {
    "duration": 222,
    "start_time": "2024-06-03T20:24:15.928Z"
   },
   {
    "duration": 291,
    "start_time": "2024-06-03T20:24:16.153Z"
   },
   {
    "duration": 231,
    "start_time": "2024-06-03T20:24:16.447Z"
   },
   {
    "duration": 31,
    "start_time": "2024-06-03T20:24:16.681Z"
   },
   {
    "duration": 222,
    "start_time": "2024-06-03T20:24:16.715Z"
   },
   {
    "duration": 16,
    "start_time": "2024-06-03T20:24:16.940Z"
   },
   {
    "duration": 428,
    "start_time": "2024-06-03T20:24:16.959Z"
   },
   {
    "duration": 9,
    "start_time": "2024-06-03T20:24:17.390Z"
   },
   {
    "duration": 20,
    "start_time": "2024-06-03T20:24:17.415Z"
   },
   {
    "duration": 8,
    "start_time": "2024-06-03T20:24:17.438Z"
   },
   {
    "duration": 63,
    "start_time": "2024-06-03T20:24:17.450Z"
   },
   {
    "duration": 22,
    "start_time": "2024-06-03T20:27:02.314Z"
   },
   {
    "duration": 20,
    "start_time": "2024-06-03T20:27:36.369Z"
   },
   {
    "duration": 9,
    "start_time": "2024-06-03T20:38:32.509Z"
   },
   {
    "duration": 9,
    "start_time": "2024-06-03T20:38:52.107Z"
   },
   {
    "duration": 10,
    "start_time": "2024-06-03T20:39:02.581Z"
   },
   {
    "duration": 12,
    "start_time": "2024-06-03T20:40:26.788Z"
   },
   {
    "duration": 11,
    "start_time": "2024-06-03T20:41:50.484Z"
   },
   {
    "duration": 12,
    "start_time": "2024-06-03T20:45:48.163Z"
   },
   {
    "duration": 491,
    "start_time": "2024-06-03T20:45:58.470Z"
   },
   {
    "duration": 16,
    "start_time": "2024-06-03T20:46:03.926Z"
   },
   {
    "duration": 17,
    "start_time": "2024-06-03T20:49:07.014Z"
   },
   {
    "duration": 26,
    "start_time": "2024-06-03T20:49:34.237Z"
   },
   {
    "duration": 25,
    "start_time": "2024-06-03T20:49:59.406Z"
   },
   {
    "duration": 24,
    "start_time": "2024-06-03T20:50:47.179Z"
   },
   {
    "duration": 26,
    "start_time": "2024-06-03T20:50:51.658Z"
   },
   {
    "duration": 40,
    "start_time": "2024-06-03T20:51:53.204Z"
   },
   {
    "duration": 32,
    "start_time": "2024-06-03T20:52:03.211Z"
   },
   {
    "duration": 29,
    "start_time": "2024-06-03T20:52:39.803Z"
   },
   {
    "duration": 49,
    "start_time": "2024-06-03T20:52:58.242Z"
   },
   {
    "duration": 50,
    "start_time": "2024-06-03T20:53:09.214Z"
   },
   {
    "duration": 29,
    "start_time": "2024-06-03T20:53:18.791Z"
   },
   {
    "duration": 6,
    "start_time": "2024-06-03T20:56:12.058Z"
   },
   {
    "duration": 38,
    "start_time": "2024-06-03T20:57:28.397Z"
   },
   {
    "duration": 40,
    "start_time": "2024-06-03T21:01:05.165Z"
   },
   {
    "duration": 12,
    "start_time": "2024-06-03T21:01:10.202Z"
   },
   {
    "duration": 28,
    "start_time": "2024-06-03T21:01:17.889Z"
   },
   {
    "duration": 28,
    "start_time": "2024-06-03T21:01:27.553Z"
   },
   {
    "duration": 34,
    "start_time": "2024-06-03T21:01:33.169Z"
   },
   {
    "duration": 33,
    "start_time": "2024-06-03T21:03:46.172Z"
   },
   {
    "duration": 43,
    "start_time": "2024-06-03T21:04:43.552Z"
   },
   {
    "duration": 6,
    "start_time": "2024-06-03T21:05:00.512Z"
   },
   {
    "duration": 5,
    "start_time": "2024-06-03T21:05:04.488Z"
   },
   {
    "duration": 5,
    "start_time": "2024-06-03T21:05:11.929Z"
   },
   {
    "duration": 25,
    "start_time": "2024-06-03T21:05:16.291Z"
   },
   {
    "duration": 5,
    "start_time": "2024-06-03T21:05:22.113Z"
   },
   {
    "duration": 7,
    "start_time": "2024-06-03T21:05:51.603Z"
   },
   {
    "duration": 7,
    "start_time": "2024-06-03T21:06:15.053Z"
   },
   {
    "duration": 6,
    "start_time": "2024-06-03T21:06:34.512Z"
   },
   {
    "duration": 5,
    "start_time": "2024-06-03T21:06:48.612Z"
   },
   {
    "duration": 5,
    "start_time": "2024-06-03T21:07:44.695Z"
   },
   {
    "duration": 7,
    "start_time": "2024-06-03T21:08:15.235Z"
   },
   {
    "duration": 32,
    "start_time": "2024-06-03T21:08:52.736Z"
   },
   {
    "duration": 8,
    "start_time": "2024-06-03T21:09:11.176Z"
   },
   {
    "duration": 10,
    "start_time": "2024-06-03T21:09:20.055Z"
   },
   {
    "duration": 42,
    "start_time": "2024-06-03T21:09:58.233Z"
   },
   {
    "duration": 31,
    "start_time": "2024-06-03T21:10:08.495Z"
   },
   {
    "duration": 8,
    "start_time": "2024-06-03T21:10:10.489Z"
   },
   {
    "duration": 12,
    "start_time": "2024-06-03T21:10:11.885Z"
   },
   {
    "duration": 30,
    "start_time": "2024-06-03T21:11:14.111Z"
   },
   {
    "duration": 28,
    "start_time": "2024-06-03T21:11:24.586Z"
   },
   {
    "duration": 11,
    "start_time": "2024-06-03T21:11:33.554Z"
   },
   {
    "duration": 797,
    "start_time": "2024-06-03T21:22:54.650Z"
   },
   {
    "duration": 27,
    "start_time": "2024-06-03T21:22:59.982Z"
   },
   {
    "duration": 30,
    "start_time": "2024-06-03T21:23:04.869Z"
   },
   {
    "duration": 6,
    "start_time": "2024-06-03T21:23:12.757Z"
   },
   {
    "duration": 5,
    "start_time": "2024-06-03T21:23:18.133Z"
   },
   {
    "duration": 8,
    "start_time": "2024-06-03T21:23:49.483Z"
   },
   {
    "duration": 5,
    "start_time": "2024-06-03T21:23:55.883Z"
   },
   {
    "duration": 43,
    "start_time": "2024-06-03T21:24:38.119Z"
   },
   {
    "duration": 33,
    "start_time": "2024-06-03T21:25:37.113Z"
   },
   {
    "duration": 5,
    "start_time": "2024-06-03T21:25:38.175Z"
   },
   {
    "duration": 47,
    "start_time": "2024-06-03T21:25:40.933Z"
   },
   {
    "duration": 5,
    "start_time": "2024-06-03T21:25:55.938Z"
   },
   {
    "duration": 6,
    "start_time": "2024-06-03T21:26:16.578Z"
   },
   {
    "duration": 5,
    "start_time": "2024-06-03T21:26:19.116Z"
   },
   {
    "duration": 40,
    "start_time": "2024-06-03T21:26:21.029Z"
   },
   {
    "duration": 6,
    "start_time": "2024-06-03T21:26:42.436Z"
   },
   {
    "duration": 1359,
    "start_time": "2024-06-03T21:27:03.613Z"
   },
   {
    "duration": 46,
    "start_time": "2024-06-03T21:27:04.976Z"
   },
   {
    "duration": 36,
    "start_time": "2024-06-03T21:27:05.024Z"
   },
   {
    "duration": 16,
    "start_time": "2024-06-03T21:27:05.064Z"
   },
   {
    "duration": 6,
    "start_time": "2024-06-03T21:27:05.111Z"
   },
   {
    "duration": 12,
    "start_time": "2024-06-03T21:27:05.121Z"
   },
   {
    "duration": 11,
    "start_time": "2024-06-03T21:27:05.136Z"
   },
   {
    "duration": 12,
    "start_time": "2024-06-03T21:27:05.150Z"
   },
   {
    "duration": 56,
    "start_time": "2024-06-03T21:27:05.165Z"
   },
   {
    "duration": 7,
    "start_time": "2024-06-03T21:27:05.224Z"
   },
   {
    "duration": 26,
    "start_time": "2024-06-03T21:27:05.234Z"
   },
   {
    "duration": 51,
    "start_time": "2024-06-03T21:27:05.262Z"
   },
   {
    "duration": 385,
    "start_time": "2024-06-03T21:27:05.318Z"
   },
   {
    "duration": 8,
    "start_time": "2024-06-03T21:27:05.718Z"
   },
   {
    "duration": 960,
    "start_time": "2024-06-03T21:27:05.729Z"
   },
   {
    "duration": 323,
    "start_time": "2024-06-03T21:27:06.692Z"
   },
   {
    "duration": 247,
    "start_time": "2024-06-03T21:27:07.019Z"
   },
   {
    "duration": 24,
    "start_time": "2024-06-03T21:27:07.268Z"
   },
   {
    "duration": 22,
    "start_time": "2024-06-03T21:27:07.294Z"
   },
   {
    "duration": 212,
    "start_time": "2024-06-03T21:27:07.320Z"
   },
   {
    "duration": 281,
    "start_time": "2024-06-03T21:27:07.536Z"
   },
   {
    "duration": 235,
    "start_time": "2024-06-03T21:27:07.820Z"
   },
   {
    "duration": 16,
    "start_time": "2024-06-03T21:27:08.058Z"
   },
   {
    "duration": 232,
    "start_time": "2024-06-03T21:27:08.077Z"
   },
   {
    "duration": 16,
    "start_time": "2024-06-03T21:27:08.313Z"
   },
   {
    "duration": 447,
    "start_time": "2024-06-03T21:27:08.332Z"
   },
   {
    "duration": 43,
    "start_time": "2024-06-03T21:27:08.782Z"
   },
   {
    "duration": 5,
    "start_time": "2024-06-03T21:27:08.829Z"
   },
   {
    "duration": 5,
    "start_time": "2024-06-03T21:27:08.838Z"
   },
   {
    "duration": 540,
    "start_time": "2024-06-03T21:27:08.848Z"
   },
   {
    "duration": 0,
    "start_time": "2024-06-03T21:27:09.391Z"
   },
   {
    "duration": 0,
    "start_time": "2024-06-03T21:27:09.394Z"
   },
   {
    "duration": 0,
    "start_time": "2024-06-03T21:27:09.411Z"
   },
   {
    "duration": 6,
    "start_time": "2024-06-03T21:27:43.755Z"
   },
   {
    "duration": 39,
    "start_time": "2024-06-03T21:27:45.982Z"
   },
   {
    "duration": 5,
    "start_time": "2024-06-03T21:27:57.210Z"
   },
   {
    "duration": 13,
    "start_time": "2024-06-03T21:27:59.525Z"
   },
   {
    "duration": 319,
    "start_time": "2024-06-04T22:20:31.702Z"
   },
   {
    "duration": 25,
    "start_time": "2024-06-04T22:20:44.628Z"
   },
   {
    "duration": 5160,
    "start_time": "2024-06-04T22:20:51.900Z"
   },
   {
    "duration": 66,
    "start_time": "2024-06-04T22:20:57.065Z"
   },
   {
    "duration": 38,
    "start_time": "2024-06-04T22:20:57.134Z"
   },
   {
    "duration": 19,
    "start_time": "2024-06-04T22:20:57.176Z"
   },
   {
    "duration": 6,
    "start_time": "2024-06-04T22:20:57.225Z"
   },
   {
    "duration": 12,
    "start_time": "2024-06-04T22:20:57.235Z"
   },
   {
    "duration": 11,
    "start_time": "2024-06-04T22:20:57.250Z"
   },
   {
    "duration": 59,
    "start_time": "2024-06-04T22:20:57.264Z"
   },
   {
    "duration": 13,
    "start_time": "2024-06-04T22:20:57.326Z"
   },
   {
    "duration": 426,
    "start_time": "2024-06-04T22:20:57.347Z"
   },
   {
    "duration": 0,
    "start_time": "2024-06-04T22:20:57.777Z"
   },
   {
    "duration": 0,
    "start_time": "2024-06-04T22:20:57.779Z"
   },
   {
    "duration": 0,
    "start_time": "2024-06-04T22:20:57.783Z"
   },
   {
    "duration": 0,
    "start_time": "2024-06-04T22:20:57.785Z"
   },
   {
    "duration": 0,
    "start_time": "2024-06-04T22:20:57.788Z"
   },
   {
    "duration": 0,
    "start_time": "2024-06-04T22:20:57.790Z"
   },
   {
    "duration": 0,
    "start_time": "2024-06-04T22:20:57.792Z"
   },
   {
    "duration": 0,
    "start_time": "2024-06-04T22:20:57.794Z"
   },
   {
    "duration": 0,
    "start_time": "2024-06-04T22:20:57.826Z"
   },
   {
    "duration": 0,
    "start_time": "2024-06-04T22:20:57.828Z"
   },
   {
    "duration": 0,
    "start_time": "2024-06-04T22:20:57.831Z"
   },
   {
    "duration": 0,
    "start_time": "2024-06-04T22:20:57.835Z"
   },
   {
    "duration": 0,
    "start_time": "2024-06-04T22:20:57.837Z"
   },
   {
    "duration": 0,
    "start_time": "2024-06-04T22:20:57.841Z"
   },
   {
    "duration": 0,
    "start_time": "2024-06-04T22:20:57.842Z"
   },
   {
    "duration": 0,
    "start_time": "2024-06-04T22:20:57.845Z"
   },
   {
    "duration": 0,
    "start_time": "2024-06-04T22:20:57.847Z"
   },
   {
    "duration": 0,
    "start_time": "2024-06-04T22:20:57.849Z"
   },
   {
    "duration": 0,
    "start_time": "2024-06-04T22:20:57.853Z"
   },
   {
    "duration": 0,
    "start_time": "2024-06-04T22:20:57.856Z"
   },
   {
    "duration": 0,
    "start_time": "2024-06-04T22:20:57.859Z"
   },
   {
    "duration": 0,
    "start_time": "2024-06-04T22:20:57.861Z"
   },
   {
    "duration": 0,
    "start_time": "2024-06-04T22:20:57.863Z"
   },
   {
    "duration": 0,
    "start_time": "2024-06-04T22:20:57.924Z"
   },
   {
    "duration": 0,
    "start_time": "2024-06-04T22:20:57.925Z"
   },
   {
    "duration": 6,
    "start_time": "2024-06-04T22:26:04.898Z"
   },
   {
    "duration": 1464,
    "start_time": "2024-06-04T22:26:41.088Z"
   },
   {
    "duration": 41,
    "start_time": "2024-06-04T22:26:42.556Z"
   },
   {
    "duration": 54,
    "start_time": "2024-06-04T22:26:42.601Z"
   },
   {
    "duration": 21,
    "start_time": "2024-06-04T22:26:42.660Z"
   },
   {
    "duration": 39,
    "start_time": "2024-06-04T22:26:42.686Z"
   },
   {
    "duration": 13,
    "start_time": "2024-06-04T22:26:42.729Z"
   },
   {
    "duration": 14,
    "start_time": "2024-06-04T22:26:42.747Z"
   },
   {
    "duration": 59,
    "start_time": "2024-06-04T22:26:42.765Z"
   },
   {
    "duration": 4,
    "start_time": "2024-06-04T22:26:42.829Z"
   },
   {
    "duration": 11,
    "start_time": "2024-06-04T22:26:42.843Z"
   },
   {
    "duration": 10,
    "start_time": "2024-06-04T22:26:42.858Z"
   },
   {
    "duration": 79,
    "start_time": "2024-06-04T22:26:42.871Z"
   },
   {
    "duration": 17,
    "start_time": "2024-06-04T22:26:42.954Z"
   },
   {
    "duration": 443,
    "start_time": "2024-06-04T22:26:42.975Z"
   },
   {
    "duration": 15,
    "start_time": "2024-06-04T22:26:43.425Z"
   },
   {
    "duration": 1136,
    "start_time": "2024-06-04T22:26:43.444Z"
   },
   {
    "duration": 386,
    "start_time": "2024-06-04T22:26:44.584Z"
   },
   {
    "duration": 291,
    "start_time": "2024-06-04T22:26:44.974Z"
   },
   {
    "duration": 33,
    "start_time": "2024-06-04T22:26:45.269Z"
   },
   {
    "duration": 7,
    "start_time": "2024-06-04T22:26:45.327Z"
   },
   {
    "duration": 257,
    "start_time": "2024-06-04T22:26:45.338Z"
   },
   {
    "duration": 320,
    "start_time": "2024-06-04T22:26:45.599Z"
   },
   {
    "duration": 248,
    "start_time": "2024-06-04T22:26:45.922Z"
   },
   {
    "duration": 20,
    "start_time": "2024-06-04T22:26:46.174Z"
   },
   {
    "duration": 286,
    "start_time": "2024-06-04T22:26:46.197Z"
   },
   {
    "duration": 37,
    "start_time": "2024-06-04T22:26:46.487Z"
   },
   {
    "duration": 515,
    "start_time": "2024-06-04T22:26:46.528Z"
   },
   {
    "duration": 38,
    "start_time": "2024-06-04T22:26:47.057Z"
   },
   {
    "duration": 5,
    "start_time": "2024-06-04T22:26:47.100Z"
   },
   {
    "duration": 7,
    "start_time": "2024-06-04T22:26:47.125Z"
   },
   {
    "duration": 16,
    "start_time": "2024-06-04T22:26:47.136Z"
   },
   {
    "duration": 65,
    "start_time": "2024-06-04T22:26:47.157Z"
   },
   {
    "duration": 9,
    "start_time": "2024-06-04T22:26:47.226Z"
   },
   {
    "duration": 30,
    "start_time": "2024-06-04T22:26:47.241Z"
   },
   {
    "duration": 1390,
    "start_time": "2024-06-04T22:27:59.409Z"
   },
   {
    "duration": 56,
    "start_time": "2024-06-04T22:28:00.803Z"
   },
   {
    "duration": 40,
    "start_time": "2024-06-04T22:28:00.862Z"
   },
   {
    "duration": 33,
    "start_time": "2024-06-04T22:28:00.906Z"
   },
   {
    "duration": 6,
    "start_time": "2024-06-04T22:28:00.944Z"
   },
   {
    "duration": 12,
    "start_time": "2024-06-04T22:28:00.954Z"
   },
   {
    "duration": 59,
    "start_time": "2024-06-04T22:28:00.970Z"
   },
   {
    "duration": 8,
    "start_time": "2024-06-04T22:28:01.032Z"
   },
   {
    "duration": 13,
    "start_time": "2024-06-04T22:28:01.049Z"
   },
   {
    "duration": 13,
    "start_time": "2024-06-04T22:28:01.066Z"
   },
   {
    "duration": 46,
    "start_time": "2024-06-04T22:28:01.082Z"
   },
   {
    "duration": 34,
    "start_time": "2024-06-04T22:28:01.132Z"
   },
   {
    "duration": 53,
    "start_time": "2024-06-04T22:28:01.170Z"
   },
   {
    "duration": 397,
    "start_time": "2024-06-04T22:28:01.231Z"
   },
   {
    "duration": 11,
    "start_time": "2024-06-04T22:28:01.631Z"
   },
   {
    "duration": 1058,
    "start_time": "2024-06-04T22:28:01.646Z"
   },
   {
    "duration": 341,
    "start_time": "2024-06-04T22:28:02.708Z"
   },
   {
    "duration": 282,
    "start_time": "2024-06-04T22:28:03.053Z"
   },
   {
    "duration": 29,
    "start_time": "2024-06-04T22:28:03.338Z"
   },
   {
    "duration": 7,
    "start_time": "2024-06-04T22:28:03.371Z"
   },
   {
    "duration": 259,
    "start_time": "2024-06-04T22:28:03.382Z"
   },
   {
    "duration": 327,
    "start_time": "2024-06-04T22:28:03.644Z"
   },
   {
    "duration": 252,
    "start_time": "2024-06-04T22:28:03.975Z"
   },
   {
    "duration": 18,
    "start_time": "2024-06-04T22:28:04.231Z"
   },
   {
    "duration": 269,
    "start_time": "2024-06-04T22:28:04.253Z"
   },
   {
    "duration": 19,
    "start_time": "2024-06-04T22:28:04.526Z"
   },
   {
    "duration": 487,
    "start_time": "2024-06-04T22:28:04.552Z"
   },
   {
    "duration": 37,
    "start_time": "2024-06-04T22:28:05.043Z"
   },
   {
    "duration": 33,
    "start_time": "2024-06-04T22:28:05.090Z"
   },
   {
    "duration": 7,
    "start_time": "2024-06-04T22:28:05.126Z"
   },
   {
    "duration": 19,
    "start_time": "2024-06-04T22:28:05.137Z"
   },
   {
    "duration": 21,
    "start_time": "2024-06-04T22:28:05.160Z"
   },
   {
    "duration": 45,
    "start_time": "2024-06-04T22:28:05.184Z"
   },
   {
    "duration": 26,
    "start_time": "2024-06-04T22:28:05.233Z"
   },
   {
    "duration": 1550,
    "start_time": "2024-06-04T22:28:37.650Z"
   },
   {
    "duration": 117,
    "start_time": "2024-06-04T22:29:20.699Z"
   },
   {
    "duration": 507,
    "start_time": "2024-06-04T22:30:34.160Z"
   },
   {
    "duration": 54,
    "start_time": "2024-06-04T22:30:47.603Z"
   },
   {
    "duration": 443,
    "start_time": "2024-06-04T22:33:00.895Z"
   },
   {
    "duration": 132,
    "start_time": "2024-06-04T22:37:02.658Z"
   },
   {
    "duration": 135,
    "start_time": "2024-06-04T22:37:19.691Z"
   },
   {
    "duration": 25,
    "start_time": "2024-06-04T22:37:47.226Z"
   },
   {
    "duration": 10,
    "start_time": "2024-06-04T22:39:21.081Z"
   },
   {
    "duration": 24,
    "start_time": "2024-06-04T22:39:37.127Z"
   },
   {
    "duration": 25,
    "start_time": "2024-06-04T22:40:22.522Z"
   },
   {
    "duration": 1348,
    "start_time": "2024-06-04T22:41:04.433Z"
   },
   {
    "duration": 44,
    "start_time": "2024-06-04T22:41:05.784Z"
   },
   {
    "duration": 38,
    "start_time": "2024-06-04T22:41:05.831Z"
   },
   {
    "duration": 19,
    "start_time": "2024-06-04T22:41:05.874Z"
   },
   {
    "duration": 7,
    "start_time": "2024-06-04T22:41:05.924Z"
   },
   {
    "duration": 12,
    "start_time": "2024-06-04T22:41:05.934Z"
   },
   {
    "duration": 12,
    "start_time": "2024-06-04T22:41:05.949Z"
   },
   {
    "duration": 8,
    "start_time": "2024-06-04T22:41:05.964Z"
   },
   {
    "duration": 57,
    "start_time": "2024-06-04T22:41:05.974Z"
   },
   {
    "duration": 11,
    "start_time": "2024-06-04T22:41:06.036Z"
   },
   {
    "duration": 9,
    "start_time": "2024-06-04T22:41:06.052Z"
   },
   {
    "duration": 71,
    "start_time": "2024-06-04T22:41:06.064Z"
   },
   {
    "duration": 33,
    "start_time": "2024-06-04T22:41:06.139Z"
   },
   {
    "duration": 46,
    "start_time": "2024-06-04T22:41:06.178Z"
   },
   {
    "duration": 383,
    "start_time": "2024-06-04T22:41:06.227Z"
   },
   {
    "duration": 9,
    "start_time": "2024-06-04T22:41:06.622Z"
   },
   {
    "duration": 1009,
    "start_time": "2024-06-04T22:41:06.634Z"
   },
   {
    "duration": 337,
    "start_time": "2024-06-04T22:41:07.647Z"
   },
   {
    "duration": 251,
    "start_time": "2024-06-04T22:41:07.987Z"
   },
   {
    "duration": 24,
    "start_time": "2024-06-04T22:41:08.241Z"
   },
   {
    "duration": 5,
    "start_time": "2024-06-04T22:41:08.268Z"
   },
   {
    "duration": 248,
    "start_time": "2024-06-04T22:41:08.277Z"
   },
   {
    "duration": 280,
    "start_time": "2024-06-04T22:41:08.529Z"
   },
   {
    "duration": 236,
    "start_time": "2024-06-04T22:41:08.812Z"
   },
   {
    "duration": 19,
    "start_time": "2024-06-04T22:41:09.051Z"
   },
   {
    "duration": 236,
    "start_time": "2024-06-04T22:41:09.073Z"
   },
   {
    "duration": 20,
    "start_time": "2024-06-04T22:41:09.315Z"
   },
   {
    "duration": 459,
    "start_time": "2024-06-04T22:41:09.342Z"
   },
   {
    "duration": 49,
    "start_time": "2024-06-04T22:41:09.805Z"
   },
   {
    "duration": 6,
    "start_time": "2024-06-04T22:41:09.857Z"
   },
   {
    "duration": 6,
    "start_time": "2024-06-04T22:41:09.867Z"
   },
   {
    "duration": 53,
    "start_time": "2024-06-04T22:41:09.877Z"
   },
   {
    "duration": 19,
    "start_time": "2024-06-04T22:41:09.934Z"
   },
   {
    "duration": 8,
    "start_time": "2024-06-04T22:41:09.955Z"
   },
   {
    "duration": 60,
    "start_time": "2024-06-04T22:41:09.966Z"
   },
   {
    "duration": 556,
    "start_time": "2024-06-04T22:44:39.532Z"
   },
   {
    "duration": 5,
    "start_time": "2024-06-04T22:46:00.216Z"
   },
   {
    "duration": 66,
    "start_time": "2024-06-04T22:46:07.256Z"
   },
   {
    "duration": 638,
    "start_time": "2024-06-04T22:47:05.992Z"
   },
   {
    "duration": 1280,
    "start_time": "2024-06-04T22:47:42.104Z"
   },
   {
    "duration": 47,
    "start_time": "2024-06-04T22:47:43.388Z"
   },
   {
    "duration": 40,
    "start_time": "2024-06-04T22:47:43.437Z"
   },
   {
    "duration": 44,
    "start_time": "2024-06-04T22:47:43.483Z"
   },
   {
    "duration": 6,
    "start_time": "2024-06-04T22:47:43.531Z"
   },
   {
    "duration": 12,
    "start_time": "2024-06-04T22:47:43.540Z"
   },
   {
    "duration": 12,
    "start_time": "2024-06-04T22:47:43.555Z"
   },
   {
    "duration": 55,
    "start_time": "2024-06-04T22:47:43.570Z"
   },
   {
    "duration": 11,
    "start_time": "2024-06-04T22:47:43.628Z"
   },
   {
    "duration": 11,
    "start_time": "2024-06-04T22:47:43.645Z"
   },
   {
    "duration": 7,
    "start_time": "2024-06-04T22:47:43.660Z"
   },
   {
    "duration": 70,
    "start_time": "2024-06-04T22:47:43.670Z"
   },
   {
    "duration": 34,
    "start_time": "2024-06-04T22:47:43.743Z"
   },
   {
    "duration": 16,
    "start_time": "2024-06-04T22:47:43.780Z"
   },
   {
    "duration": 391,
    "start_time": "2024-06-04T22:47:43.823Z"
   },
   {
    "duration": 15,
    "start_time": "2024-06-04T22:47:44.217Z"
   },
   {
    "duration": 1041,
    "start_time": "2024-06-04T22:47:44.235Z"
   },
   {
    "duration": 323,
    "start_time": "2024-06-04T22:47:45.279Z"
   },
   {
    "duration": 278,
    "start_time": "2024-06-04T22:47:45.605Z"
   },
   {
    "duration": 43,
    "start_time": "2024-06-04T22:47:45.886Z"
   },
   {
    "duration": 5,
    "start_time": "2024-06-04T22:47:45.932Z"
   },
   {
    "duration": 224,
    "start_time": "2024-06-04T22:47:45.940Z"
   },
   {
    "duration": 293,
    "start_time": "2024-06-04T22:47:46.167Z"
   },
   {
    "duration": 267,
    "start_time": "2024-06-04T22:47:46.464Z"
   },
   {
    "duration": 16,
    "start_time": "2024-06-04T22:47:46.734Z"
   },
   {
    "duration": 243,
    "start_time": "2024-06-04T22:47:46.753Z"
   },
   {
    "duration": 29,
    "start_time": "2024-06-04T22:47:46.999Z"
   },
   {
    "duration": 463,
    "start_time": "2024-06-04T22:47:47.035Z"
   },
   {
    "duration": 41,
    "start_time": "2024-06-04T22:47:47.501Z"
   },
   {
    "duration": 6,
    "start_time": "2024-06-04T22:47:47.546Z"
   },
   {
    "duration": 6,
    "start_time": "2024-06-04T22:47:47.555Z"
   },
   {
    "duration": 13,
    "start_time": "2024-06-04T22:47:47.564Z"
   },
   {
    "duration": 57,
    "start_time": "2024-06-04T22:47:47.580Z"
   },
   {
    "duration": 7,
    "start_time": "2024-06-04T22:47:47.639Z"
   },
   {
    "duration": 1144,
    "start_time": "2024-06-04T22:47:47.650Z"
   },
   {
    "duration": 98,
    "start_time": "2024-06-04T22:49:34.744Z"
   },
   {
    "duration": 22,
    "start_time": "2024-06-04T22:50:15.684Z"
   },
   {
    "duration": 24,
    "start_time": "2024-06-04T22:50:31.960Z"
   },
   {
    "duration": 390,
    "start_time": "2024-06-04T22:56:38.412Z"
   },
   {
    "duration": 392,
    "start_time": "2024-06-04T22:57:25.003Z"
   },
   {
    "duration": 305,
    "start_time": "2024-06-04T22:59:37.363Z"
   },
   {
    "duration": 1292,
    "start_time": "2024-06-04T22:59:53.280Z"
   },
   {
    "duration": 46,
    "start_time": "2024-06-04T22:59:54.576Z"
   },
   {
    "duration": 40,
    "start_time": "2024-06-04T22:59:54.626Z"
   },
   {
    "duration": 19,
    "start_time": "2024-06-04T22:59:54.670Z"
   },
   {
    "duration": 9,
    "start_time": "2024-06-04T22:59:54.725Z"
   },
   {
    "duration": 12,
    "start_time": "2024-06-04T22:59:54.737Z"
   },
   {
    "duration": 12,
    "start_time": "2024-06-04T22:59:54.752Z"
   },
   {
    "duration": 8,
    "start_time": "2024-06-04T22:59:54.767Z"
   },
   {
    "duration": 12,
    "start_time": "2024-06-04T22:59:54.823Z"
   },
   {
    "duration": 11,
    "start_time": "2024-06-04T22:59:54.843Z"
   },
   {
    "duration": 9,
    "start_time": "2024-06-04T22:59:54.857Z"
   },
   {
    "duration": 70,
    "start_time": "2024-06-04T22:59:54.868Z"
   },
   {
    "duration": 25,
    "start_time": "2024-06-04T22:59:54.941Z"
   },
   {
    "duration": 17,
    "start_time": "2024-06-04T22:59:54.969Z"
   },
   {
    "duration": 398,
    "start_time": "2024-06-04T22:59:54.989Z"
   },
   {
    "duration": 9,
    "start_time": "2024-06-04T22:59:55.390Z"
   },
   {
    "duration": 429,
    "start_time": "2024-06-04T22:59:55.402Z"
   },
   {
    "duration": 348,
    "start_time": "2024-06-04T22:59:55.834Z"
   },
   {
    "duration": 272,
    "start_time": "2024-06-04T22:59:56.186Z"
   },
   {
    "duration": 23,
    "start_time": "2024-06-04T22:59:56.461Z"
   },
   {
    "duration": 5,
    "start_time": "2024-06-04T22:59:56.487Z"
   },
   {
    "duration": 208,
    "start_time": "2024-06-04T22:59:56.523Z"
   },
   {
    "duration": 265,
    "start_time": "2024-06-04T22:59:56.734Z"
   },
   {
    "duration": 249,
    "start_time": "2024-06-04T22:59:57.002Z"
   },
   {
    "duration": 17,
    "start_time": "2024-06-04T22:59:57.254Z"
   },
   {
    "duration": 263,
    "start_time": "2024-06-04T22:59:57.274Z"
   },
   {
    "duration": 16,
    "start_time": "2024-06-04T22:59:57.540Z"
   },
   {
    "duration": 417,
    "start_time": "2024-06-04T22:59:57.563Z"
   },
   {
    "duration": 48,
    "start_time": "2024-06-04T22:59:57.983Z"
   },
   {
    "duration": 6,
    "start_time": "2024-06-04T22:59:58.034Z"
   },
   {
    "duration": 6,
    "start_time": "2024-06-04T22:59:58.043Z"
   },
   {
    "duration": 14,
    "start_time": "2024-06-04T22:59:58.052Z"
   },
   {
    "duration": 53,
    "start_time": "2024-06-04T22:59:58.069Z"
   },
   {
    "duration": 7,
    "start_time": "2024-06-04T22:59:58.125Z"
   },
   {
    "duration": 22,
    "start_time": "2024-06-04T22:59:58.136Z"
   },
   {
    "duration": 309,
    "start_time": "2024-06-05T01:39:07.384Z"
   },
   {
    "duration": 4871,
    "start_time": "2024-06-05T01:39:13.664Z"
   },
   {
    "duration": 55,
    "start_time": "2024-06-05T01:39:18.540Z"
   },
   {
    "duration": 37,
    "start_time": "2024-06-05T01:39:18.598Z"
   },
   {
    "duration": 18,
    "start_time": "2024-06-05T01:39:18.638Z"
   },
   {
    "duration": 5,
    "start_time": "2024-06-05T01:39:18.661Z"
   },
   {
    "duration": 10,
    "start_time": "2024-06-05T01:39:18.669Z"
   },
   {
    "duration": 54,
    "start_time": "2024-06-05T01:39:18.682Z"
   },
   {
    "duration": 9,
    "start_time": "2024-06-05T01:39:18.738Z"
   },
   {
    "duration": 10,
    "start_time": "2024-06-05T01:39:18.750Z"
   },
   {
    "duration": 11,
    "start_time": "2024-06-05T01:39:18.763Z"
   },
   {
    "duration": 56,
    "start_time": "2024-06-05T01:39:18.777Z"
   },
   {
    "duration": 23,
    "start_time": "2024-06-05T01:39:18.836Z"
   },
   {
    "duration": 25,
    "start_time": "2024-06-05T01:39:18.861Z"
   },
   {
    "duration": 49,
    "start_time": "2024-06-05T01:39:18.893Z"
   },
   {
    "duration": 366,
    "start_time": "2024-06-05T01:39:18.945Z"
   },
   {
    "duration": 19,
    "start_time": "2024-06-05T01:39:19.314Z"
   },
   {
    "duration": 252,
    "start_time": "2024-06-05T01:39:19.336Z"
   },
   {
    "duration": 244,
    "start_time": "2024-06-05T01:39:19.591Z"
   },
   {
    "duration": 224,
    "start_time": "2024-06-05T01:39:19.837Z"
   },
   {
    "duration": 22,
    "start_time": "2024-06-05T01:39:20.064Z"
   },
   {
    "duration": 6,
    "start_time": "2024-06-05T01:39:20.090Z"
   },
   {
    "duration": 220,
    "start_time": "2024-06-05T01:39:20.098Z"
   },
   {
    "duration": 231,
    "start_time": "2024-06-05T01:39:20.322Z"
   },
   {
    "duration": 286,
    "start_time": "2024-06-05T01:39:20.555Z"
   },
   {
    "duration": 14,
    "start_time": "2024-06-05T01:39:20.844Z"
   },
   {
    "duration": 230,
    "start_time": "2024-06-05T01:39:20.861Z"
   },
   {
    "duration": 14,
    "start_time": "2024-06-05T01:39:21.094Z"
   },
   {
    "duration": 264,
    "start_time": "2024-06-05T01:39:21.111Z"
   },
   {
    "duration": 33,
    "start_time": "2024-06-05T01:39:21.378Z"
   },
   {
    "duration": 24,
    "start_time": "2024-06-05T01:39:21.414Z"
   },
   {
    "duration": 8,
    "start_time": "2024-06-05T01:39:21.442Z"
   },
   {
    "duration": 13,
    "start_time": "2024-06-05T01:39:21.453Z"
   },
   {
    "duration": 18,
    "start_time": "2024-06-05T01:39:21.469Z"
   },
   {
    "duration": 44,
    "start_time": "2024-06-05T01:39:21.489Z"
   },
   {
    "duration": 29,
    "start_time": "2024-06-05T01:39:21.536Z"
   },
   {
    "duration": 399,
    "start_time": "2024-06-05T01:42:03.010Z"
   },
   {
    "duration": 1271,
    "start_time": "2024-06-05T01:42:10.244Z"
   },
   {
    "duration": 47,
    "start_time": "2024-06-05T01:42:11.518Z"
   },
   {
    "duration": 36,
    "start_time": "2024-06-05T01:42:11.568Z"
   },
   {
    "duration": 41,
    "start_time": "2024-06-05T01:42:11.606Z"
   },
   {
    "duration": 5,
    "start_time": "2024-06-05T01:42:11.654Z"
   },
   {
    "duration": 11,
    "start_time": "2024-06-05T01:42:11.662Z"
   },
   {
    "duration": 11,
    "start_time": "2024-06-05T01:42:11.676Z"
   },
   {
    "duration": 9,
    "start_time": "2024-06-05T01:42:11.739Z"
   },
   {
    "duration": 11,
    "start_time": "2024-06-05T01:42:11.751Z"
   },
   {
    "duration": 10,
    "start_time": "2024-06-05T01:42:11.765Z"
   },
   {
    "duration": 8,
    "start_time": "2024-06-05T01:42:11.778Z"
   },
   {
    "duration": 66,
    "start_time": "2024-06-05T01:42:11.788Z"
   },
   {
    "duration": 24,
    "start_time": "2024-06-05T01:42:11.857Z"
   },
   {
    "duration": 46,
    "start_time": "2024-06-05T01:42:11.888Z"
   },
   {
    "duration": 383,
    "start_time": "2024-06-05T01:42:11.937Z"
   },
   {
    "duration": 17,
    "start_time": "2024-06-05T01:42:12.324Z"
   },
   {
    "duration": 441,
    "start_time": "2024-06-05T01:42:12.344Z"
   },
   {
    "duration": 334,
    "start_time": "2024-06-05T01:42:12.788Z"
   },
   {
    "duration": 267,
    "start_time": "2024-06-05T01:42:13.132Z"
   },
   {
    "duration": 34,
    "start_time": "2024-06-05T01:42:13.402Z"
   },
   {
    "duration": 7,
    "start_time": "2024-06-05T01:42:13.439Z"
   },
   {
    "duration": 228,
    "start_time": "2024-06-05T01:42:13.449Z"
   },
   {
    "duration": 259,
    "start_time": "2024-06-05T01:42:13.680Z"
   },
   {
    "duration": 239,
    "start_time": "2024-06-05T01:42:13.944Z"
   },
   {
    "duration": 15,
    "start_time": "2024-06-05T01:42:14.187Z"
   },
   {
    "duration": 238,
    "start_time": "2024-06-05T01:42:14.205Z"
   },
   {
    "duration": 15,
    "start_time": "2024-06-05T01:42:14.446Z"
   },
   {
    "duration": 410,
    "start_time": "2024-06-05T01:42:14.464Z"
   },
   {
    "duration": 31,
    "start_time": "2024-06-05T01:42:14.878Z"
   },
   {
    "duration": 22,
    "start_time": "2024-06-05T01:42:14.913Z"
   },
   {
    "duration": 6,
    "start_time": "2024-06-05T01:42:14.939Z"
   },
   {
    "duration": 12,
    "start_time": "2024-06-05T01:42:14.948Z"
   },
   {
    "duration": 17,
    "start_time": "2024-06-05T01:42:14.963Z"
   },
   {
    "duration": 50,
    "start_time": "2024-06-05T01:42:14.983Z"
   },
   {
    "duration": 22,
    "start_time": "2024-06-05T01:42:15.036Z"
   },
   {
    "duration": 8,
    "start_time": "2024-06-05T01:42:42.568Z"
   },
   {
    "duration": 577,
    "start_time": "2024-06-05T01:44:46.811Z"
   },
   {
    "duration": 5,
    "start_time": "2024-06-05T01:45:06.558Z"
   },
   {
    "duration": 8,
    "start_time": "2024-06-05T01:45:12.213Z"
   },
   {
    "duration": 8,
    "start_time": "2024-06-05T01:45:46.247Z"
   },
   {
    "duration": 7,
    "start_time": "2024-06-05T01:47:00.940Z"
   },
   {
    "duration": 5,
    "start_time": "2024-06-05T01:47:26.100Z"
   },
   {
    "duration": 6,
    "start_time": "2024-06-05T01:47:41.828Z"
   },
   {
    "duration": 6,
    "start_time": "2024-06-05T01:48:03.820Z"
   },
   {
    "duration": 6,
    "start_time": "2024-06-05T01:48:20.476Z"
   },
   {
    "duration": 17,
    "start_time": "2024-06-05T01:48:31.428Z"
   },
   {
    "duration": 18,
    "start_time": "2024-06-05T01:48:36.500Z"
   },
   {
    "duration": 7,
    "start_time": "2024-06-05T01:48:39.338Z"
   },
   {
    "duration": 5,
    "start_time": "2024-06-05T01:50:04.595Z"
   },
   {
    "duration": 6,
    "start_time": "2024-06-05T01:50:12.470Z"
   },
   {
    "duration": 10,
    "start_time": "2024-06-05T01:52:55.217Z"
   },
   {
    "duration": 20,
    "start_time": "2024-06-05T01:53:10.296Z"
   },
   {
    "duration": 14,
    "start_time": "2024-06-05T01:53:28.640Z"
   },
   {
    "duration": 13,
    "start_time": "2024-06-05T01:55:18.178Z"
   },
   {
    "duration": 8,
    "start_time": "2024-06-05T01:55:28.537Z"
   },
   {
    "duration": 20,
    "start_time": "2024-06-05T01:55:58.909Z"
   },
   {
    "duration": 9,
    "start_time": "2024-06-05T01:56:01.553Z"
   },
   {
    "duration": 16,
    "start_time": "2024-06-05T01:57:31.179Z"
   },
   {
    "duration": 6,
    "start_time": "2024-06-05T01:57:36.123Z"
   },
   {
    "duration": 63,
    "start_time": "2024-06-05T01:57:53.719Z"
   },
   {
    "duration": 7,
    "start_time": "2024-06-05T01:58:07.676Z"
   },
   {
    "duration": 5,
    "start_time": "2024-06-05T01:58:20.135Z"
   },
   {
    "duration": 8,
    "start_time": "2024-06-05T01:58:25.851Z"
   },
   {
    "duration": 6,
    "start_time": "2024-06-05T01:58:27.628Z"
   },
   {
    "duration": 5,
    "start_time": "2024-06-05T01:58:45.204Z"
   },
   {
    "duration": 7,
    "start_time": "2024-06-05T01:59:21.303Z"
   },
   {
    "duration": 13,
    "start_time": "2024-06-05T01:59:41.104Z"
   },
   {
    "duration": 8,
    "start_time": "2024-06-05T01:59:43.116Z"
   },
   {
    "duration": 7,
    "start_time": "2024-06-05T01:59:45.780Z"
   },
   {
    "duration": 6,
    "start_time": "2024-06-05T02:01:26.432Z"
   },
   {
    "duration": 7,
    "start_time": "2024-06-05T02:01:37.214Z"
   },
   {
    "duration": 7,
    "start_time": "2024-06-05T02:01:50.286Z"
   },
   {
    "duration": 331,
    "start_time": "2024-06-18T14:34:25.576Z"
   },
   {
    "duration": 1264,
    "start_time": "2024-06-18T14:34:32.622Z"
   },
   {
    "duration": 58,
    "start_time": "2024-06-18T14:34:33.890Z"
   },
   {
    "duration": 34,
    "start_time": "2024-06-18T14:34:33.951Z"
   },
   {
    "duration": 17,
    "start_time": "2024-06-18T14:34:33.991Z"
   },
   {
    "duration": 6,
    "start_time": "2024-06-18T14:34:34.032Z"
   },
   {
    "duration": 11,
    "start_time": "2024-06-18T14:34:34.041Z"
   },
   {
    "duration": 11,
    "start_time": "2024-06-18T14:34:34.055Z"
   },
   {
    "duration": 8,
    "start_time": "2024-06-18T14:34:34.069Z"
   },
   {
    "duration": 56,
    "start_time": "2024-06-18T14:34:34.080Z"
   },
   {
    "duration": 11,
    "start_time": "2024-06-18T14:34:34.141Z"
   },
   {
    "duration": 8,
    "start_time": "2024-06-18T14:34:34.155Z"
   },
   {
    "duration": 22,
    "start_time": "2024-06-18T14:34:34.166Z"
   },
   {
    "duration": 25,
    "start_time": "2024-06-18T14:34:34.232Z"
   },
   {
    "duration": 15,
    "start_time": "2024-06-18T14:34:34.260Z"
   },
   {
    "duration": 389,
    "start_time": "2024-06-18T14:34:34.279Z"
   },
   {
    "duration": 10,
    "start_time": "2024-06-18T14:34:34.671Z"
   },
   {
    "duration": 434,
    "start_time": "2024-06-18T14:34:34.687Z"
   },
   {
    "duration": 337,
    "start_time": "2024-06-18T14:34:35.125Z"
   },
   {
    "duration": 248,
    "start_time": "2024-06-18T14:34:35.468Z"
   },
   {
    "duration": 30,
    "start_time": "2024-06-18T14:34:35.719Z"
   },
   {
    "duration": 5,
    "start_time": "2024-06-18T14:34:35.753Z"
   },
   {
    "duration": 229,
    "start_time": "2024-06-18T14:34:35.761Z"
   },
   {
    "duration": 261,
    "start_time": "2024-06-18T14:34:35.994Z"
   },
   {
    "duration": 228,
    "start_time": "2024-06-18T14:34:36.258Z"
   },
   {
    "duration": 15,
    "start_time": "2024-06-18T14:34:36.489Z"
   },
   {
    "duration": 230,
    "start_time": "2024-06-18T14:34:36.507Z"
   },
   {
    "duration": 15,
    "start_time": "2024-06-18T14:34:36.741Z"
   },
   {
    "duration": 425,
    "start_time": "2024-06-18T14:34:36.764Z"
   },
   {
    "duration": 50,
    "start_time": "2024-06-18T14:34:37.192Z"
   },
   {
    "duration": 4,
    "start_time": "2024-06-18T14:34:37.245Z"
   },
   {
    "duration": 6,
    "start_time": "2024-06-18T14:34:37.253Z"
   },
   {
    "duration": 11,
    "start_time": "2024-06-18T14:34:37.263Z"
   },
   {
    "duration": 12,
    "start_time": "2024-06-18T14:34:37.278Z"
   },
   {
    "duration": 45,
    "start_time": "2024-06-18T14:34:37.293Z"
   },
   {
    "duration": 7,
    "start_time": "2024-06-18T14:34:37.341Z"
   },
   {
    "duration": 7,
    "start_time": "2024-06-18T14:34:37.351Z"
   },
   {
    "duration": 17,
    "start_time": "2024-06-18T14:34:37.361Z"
   },
   {
    "duration": 55,
    "start_time": "2024-06-18T14:34:37.381Z"
   }
  ],
  "kernelspec": {
   "display_name": "Python 3 (ipykernel)",
   "language": "python",
   "name": "python3"
  },
  "language_info": {
   "codemirror_mode": {
    "name": "ipython",
    "version": 3
   },
   "file_extension": ".py",
   "mimetype": "text/x-python",
   "name": "python",
   "nbconvert_exporter": "python",
   "pygments_lexer": "ipython3",
   "version": "3.11.7"
  },
  "toc": {
   "base_numbering": 1,
   "nav_menu": {},
   "number_sections": true,
   "sideBar": true,
   "skip_h1_title": true,
   "title_cell": "Table of Contents",
   "title_sidebar": "Contents",
   "toc_cell": false,
   "toc_position": {
    "height": "calc(100% - 180px)",
    "left": "10px",
    "top": "150px",
    "width": "368px"
   },
   "toc_section_display": true,
   "toc_window_display": true
  }
 },
 "nbformat": 4,
 "nbformat_minor": 4
}
